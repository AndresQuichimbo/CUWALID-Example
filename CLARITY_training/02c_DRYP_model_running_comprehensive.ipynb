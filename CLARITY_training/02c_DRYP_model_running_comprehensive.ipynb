{
 "cells": [
  {
   "cell_type": "markdown",
   "metadata": {},
   "source": [
    "# CLARITY DRYP WINTER SCHOOL, UK: FEB 10 TO MAR 21 2025"
   ]
  },
  {
   "cell_type": "markdown",
   "metadata": {},
   "source": [
    "## Hydrological modelling using DRYP"
   ]
  },
  {
   "cell_type": "markdown",
   "metadata": {},
   "source": [
    "This comprehensive school affords us the opportunity to build the DRYP models of the CLARITY TLabs.\n",
    "\n",
    "The following contents will be covered:\n",
    "\n",
    "* 1. Installation of the DRYP model\n",
    "* 2. Preparing model input parameters and datasets\n",
    "* 3. ***Preparing and running DRYP simulations***\n",
    "* 4. Post processing simulation outputs\n"
   ]
  },
  {
   "cell_type": "markdown",
   "metadata": {},
   "source": [
    "### 3. Preparing and running DRYP model simulations"
   ]
  },
  {
   "cell_type": "markdown",
   "metadata": {},
   "source": [
    "This section comprises of the following units. \n",
    "* A. Preparing parameter input file and model setting file\n",
    "* B. Running a DRYP model\n",
    "* C. Preparing and running multiple simulations\n",
    "* D. Running pipeline DRYP simulations\n"
   ]
  },
  {
   "cell_type": "markdown",
   "metadata": {},
   "source": [
    "#### A. Preparing parameter input file and model setting file"
   ]
  },
  {
   "cell_type": "markdown",
   "metadata": {},
   "source": [
    "DRYP requires two text files for running a model: this are the parameter-input-file and the model-setting-file."
   ]
  },
  {
   "cell_type": "markdown",
   "metadata": {},
   "source": [
    "* parameter-input file\n",
    "* model-setting file"
   ]
  },
  {
   "cell_type": "markdown",
   "metadata": {},
   "source": [
    "The files are simple plain text format files that must be specified in .json format. \n",
    "The files can be easily updated using any text editor and templates are provided for use.\n",
    "\n",
    "Meanwhile, once the files are created, we can use the pandas python library to edit these files for conveniency."
   ]
  },
  {
   "cell_type": "code",
   "execution_count": 1,
   "metadata": {},
   "outputs": [],
   "source": [
    "import pandas as pd"
   ]
  },
  {
   "cell_type": "markdown",
   "metadata": {},
   "source": [
    "* parameter-input file"
   ]
  },
  {
   "cell_type": "markdown",
   "metadata": {},
   "source": [
    "The *parameter-input file* is used for specifying the path names of all model files, including input parameters, forcings, identified observation locations, domain outlet(s), setting files, as well as the model outputs. You should also specify the model name and any additional model files."
   ]
  },
  {
   "cell_type": "markdown",
   "metadata": {},
   "source": [
    "Specifiy the location of your files..."
   ]
  },
  {
   "cell_type": "code",
   "execution_count": 2,
   "metadata": {},
   "outputs": [],
   "source": [
    "######\n",
    "general_path = \"C:/Users/oshin/OneDrive - Cardiff University/CLARITY/Work_India/model/\"  # CHANGE THIS TO YOUR MODEL PATH\n",
    "\n",
    "input_file = general_path + \"input_files/\"\n",
    "######\n"
   ]
  },
  {
   "cell_type": "code",
   "execution_count": 3,
   "metadata": {},
   "outputs": [],
   "source": [
    "finput = input_file + \"raichur_tlab_model_input_dstr_10.json\""
   ]
  },
  {
   "cell_type": "code",
   "execution_count": 4,
   "metadata": {},
   "outputs": [],
   "source": [
    "dryp_input = pd.read_csv(finput)"
   ]
  },
  {
   "cell_type": "code",
   "execution_count": 5,
   "metadata": {},
   "outputs": [
    {
     "name": "stdout",
     "output_type": "stream",
     "text": [
      "<class 'pandas.core.frame.DataFrame'>\n",
      "Index: 72 entries,     \"model_name\": \"Raichur_TLab_baseline_sim\" to }\n",
      "Data columns (total 1 columns):\n",
      " #   Column  Non-Null Count  Dtype  \n",
      "---  ------  --------------  -----  \n",
      " 0   {       0 non-null      float64\n",
      "dtypes: float64(1)\n",
      "memory usage: 1.1+ KB\n"
     ]
    }
   ],
   "source": [
    "dryp_input.info()"
   ]
  },
  {
   "cell_type": "code",
   "execution_count": 7,
   "metadata": {},
   "outputs": [
    {
     "data": {
      "text/html": [
       "<div>\n",
       "<style scoped>\n",
       "    .dataframe tbody tr th:only-of-type {\n",
       "        vertical-align: middle;\n",
       "    }\n",
       "\n",
       "    .dataframe tbody tr th {\n",
       "        vertical-align: top;\n",
       "    }\n",
       "\n",
       "    .dataframe thead th {\n",
       "        text-align: right;\n",
       "    }\n",
       "</style>\n",
       "<table border=\"1\" class=\"dataframe\">\n",
       "  <thead>\n",
       "    <tr style=\"text-align: right;\">\n",
       "      <th></th>\n",
       "      <th>{</th>\n",
       "    </tr>\n",
       "  </thead>\n",
       "  <tbody>\n",
       "    <tr>\n",
       "      <th>\"model_name\": \"Raichur_TLab_baseline_sim\"</th>\n",
       "      <td>NaN</td>\n",
       "    </tr>\n",
       "    <tr>\n",
       "      <th>\"path_input\": \"C:/Users/oshin/OneDrive - Cardiff University/CLARITY/Work_India/model/\"</th>\n",
       "      <td>NaN</td>\n",
       "    </tr>\n",
       "    <tr>\n",
       "      <th>\"TERRAIN\": {</th>\n",
       "      <td>NaN</td>\n",
       "    </tr>\n",
       "    <tr>\n",
       "      <th>\"path_dem\": \"parameters/DEM_raichur_tlab_utm.asc\"</th>\n",
       "      <td>NaN</td>\n",
       "    </tr>\n",
       "    <tr>\n",
       "      <th>\"path_Qo\": \"outputs/raichur_chirps_distr_09/Raichur_TLab_baseline_sim_avg_Q_ini.asc\"</th>\n",
       "      <td>NaN</td>\n",
       "    </tr>\n",
       "    <tr>\n",
       "      <th>\"path_fdl\": \"parameters/raichur_tlab_flowdir_landlab.asc\"</th>\n",
       "      <td>NaN</td>\n",
       "    </tr>\n",
       "    <tr>\n",
       "      <th>\"path_riv_decay\": \"null\"</th>\n",
       "      <td>NaN</td>\n",
       "    </tr>\n",
       "    <tr>\n",
       "      <th>\"path_mask\": \"parameters/DEM_raichur_tlab_mask_v3.asc\"</th>\n",
       "      <td>NaN</td>\n",
       "    </tr>\n",
       "    <tr>\n",
       "      <th>\"path_riv_len\": \"parameters/raichur_tlab_domain_river_network2.asc\"</th>\n",
       "      <td>NaN</td>\n",
       "    </tr>\n",
       "    <tr>\n",
       "      <th>\"path_riv_width\": null</th>\n",
       "      <td>NaN</td>\n",
       "    </tr>\n",
       "  </tbody>\n",
       "</table>\n",
       "</div>"
      ],
      "text/plain": [
       "                                                     {\n",
       "\"model_name\": \"Raichur_TLab_baseline_sim\"          NaN\n",
       "\"path_input\": \"C:/Users/oshin/OneDrive - Cardif... NaN\n",
       "\"TERRAIN\": {                                       NaN\n",
       "    \"path_dem\": \"parameters/DEM_raichur_tlab_ut... NaN\n",
       "    \"path_Qo\": \"outputs/raichur_chirps_distr_09... NaN\n",
       "    \"path_fdl\": \"parameters/raichur_tlab_flowdi... NaN\n",
       "    \"path_riv_decay\": \"null\"                       NaN\n",
       "    \"path_mask\": \"parameters/DEM_raichur_tlab_m... NaN\n",
       "    \"path_riv_len\": \"parameters/raichur_tlab_do... NaN\n",
       "    \"path_riv_width\": null                         NaN"
      ]
     },
     "execution_count": 7,
     "metadata": {},
     "output_type": "execute_result"
    }
   ],
   "source": [
    "dryp_input.head(10)"
   ]
  },
  {
   "cell_type": "markdown",
   "metadata": {},
   "source": [
    "Surface parameters..."
   ]
  },
  {
   "cell_type": "code",
   "execution_count": 12,
   "metadata": {},
   "outputs": [
    {
     "data": {
      "text/html": [
       "<div>\n",
       "<style scoped>\n",
       "    .dataframe tbody tr th:only-of-type {\n",
       "        vertical-align: middle;\n",
       "    }\n",
       "\n",
       "    .dataframe tbody tr th {\n",
       "        vertical-align: top;\n",
       "    }\n",
       "\n",
       "    .dataframe thead th {\n",
       "        text-align: right;\n",
       "    }\n",
       "</style>\n",
       "<table border=\"1\" class=\"dataframe\">\n",
       "  <thead>\n",
       "    <tr style=\"text-align: right;\">\n",
       "      <th></th>\n",
       "      <th>{</th>\n",
       "    </tr>\n",
       "  </thead>\n",
       "  <tbody>\n",
       "    <tr>\n",
       "      <th>\"path_dem\": \"parameters/DEM_raichur_tlab_utm.asc\"</th>\n",
       "      <td>NaN</td>\n",
       "    </tr>\n",
       "    <tr>\n",
       "      <th>\"path_Qo\": \"outputs/raichur_chirps_distr_09/Raichur_TLab_baseline_sim_avg_Q_ini.asc\"</th>\n",
       "      <td>NaN</td>\n",
       "    </tr>\n",
       "    <tr>\n",
       "      <th>\"path_fdl\": \"parameters/raichur_tlab_flowdir_landlab.asc\"</th>\n",
       "      <td>NaN</td>\n",
       "    </tr>\n",
       "    <tr>\n",
       "      <th>\"path_riv_decay\": \"null\"</th>\n",
       "      <td>NaN</td>\n",
       "    </tr>\n",
       "    <tr>\n",
       "      <th>\"path_mask\": \"parameters/DEM_raichur_tlab_mask_v3.asc\"</th>\n",
       "      <td>NaN</td>\n",
       "    </tr>\n",
       "    <tr>\n",
       "      <th>\"path_riv_len\": \"parameters/raichur_tlab_domain_river_network2.asc\"</th>\n",
       "      <td>NaN</td>\n",
       "    </tr>\n",
       "    <tr>\n",
       "      <th>\"path_riv_width\": null</th>\n",
       "      <td>NaN</td>\n",
       "    </tr>\n",
       "    <tr>\n",
       "      <th>\"path_riv_elev\": \"parameters/DEM_raichur_tlab_3s_utm_30P_resampledto30s.asc\"</th>\n",
       "      <td>NaN</td>\n",
       "    </tr>\n",
       "    <tr>\n",
       "      <th>}</th>\n",
       "      <td>NaN</td>\n",
       "    </tr>\n",
       "    <tr>\n",
       "      <th>\"VEGETATION\": {</th>\n",
       "      <td>NaN</td>\n",
       "    </tr>\n",
       "    <tr>\n",
       "      <th>\"path_veg_kc\": null</th>\n",
       "      <td>NaN</td>\n",
       "    </tr>\n",
       "    <tr>\n",
       "      <th>\"path_veg_lulc\": null</th>\n",
       "      <td>NaN</td>\n",
       "    </tr>\n",
       "    <tr>\n",
       "      <th>\"path_veg_nn\": null</th>\n",
       "      <td>NaN</td>\n",
       "    </tr>\n",
       "    <tr>\n",
       "      <th>}</th>\n",
       "      <td>NaN</td>\n",
       "    </tr>\n",
       "  </tbody>\n",
       "</table>\n",
       "</div>"
      ],
      "text/plain": [
       "                                                     {\n",
       "    \"path_dem\": \"parameters/DEM_raichur_tlab_ut... NaN\n",
       "    \"path_Qo\": \"outputs/raichur_chirps_distr_09... NaN\n",
       "    \"path_fdl\": \"parameters/raichur_tlab_flowdi... NaN\n",
       "    \"path_riv_decay\": \"null\"                       NaN\n",
       "    \"path_mask\": \"parameters/DEM_raichur_tlab_m... NaN\n",
       "    \"path_riv_len\": \"parameters/raichur_tlab_do... NaN\n",
       "    \"path_riv_width\": null                         NaN\n",
       "    \"path_riv_elev\": \"parameters/DEM_raichur_tl... NaN\n",
       "}                                                  NaN\n",
       "\"VEGETATION\": {                                    NaN\n",
       "    \"path_veg_kc\": null                            NaN\n",
       "    \"path_veg_lulc\": null                          NaN\n",
       "    \"path_veg_nn\": null                            NaN\n",
       "}                                                  NaN"
      ]
     },
     "execution_count": 12,
     "metadata": {},
     "output_type": "execute_result"
    }
   ],
   "source": [
    "dryp_input.iloc[3:17]"
   ]
  },
  {
   "cell_type": "markdown",
   "metadata": {},
   "source": [
    "Soil parameters..."
   ]
  },
  {
   "cell_type": "code",
   "execution_count": 19,
   "metadata": {},
   "outputs": [
    {
     "data": {
      "text/html": [
       "<div>\n",
       "<style scoped>\n",
       "    .dataframe tbody tr th:only-of-type {\n",
       "        vertical-align: middle;\n",
       "    }\n",
       "\n",
       "    .dataframe tbody tr th {\n",
       "        vertical-align: top;\n",
       "    }\n",
       "\n",
       "    .dataframe thead th {\n",
       "        text-align: right;\n",
       "    }\n",
       "</style>\n",
       "<table border=\"1\" class=\"dataframe\">\n",
       "  <thead>\n",
       "    <tr style=\"text-align: right;\">\n",
       "      <th></th>\n",
       "      <th>{</th>\n",
       "    </tr>\n",
       "  </thead>\n",
       "  <tbody>\n",
       "    <tr>\n",
       "      <th>\"UNSATURATED\": {</th>\n",
       "      <td>NaN</td>\n",
       "    </tr>\n",
       "    <tr>\n",
       "      <th>\"path_uz_theta_sat\": \"parameters/raichur_tlab_domain_theta_s_new.asc\"</th>\n",
       "      <td>NaN</td>\n",
       "    </tr>\n",
       "    <tr>\n",
       "      <th>\"path_uz_theta_res\": \"null\"</th>\n",
       "      <td>NaN</td>\n",
       "    </tr>\n",
       "    <tr>\n",
       "      <th>\"path_uz_theta_awc\": \"parameters/raichur_tlab_domain_awc_created_v2.asc\"</th>\n",
       "      <td>NaN</td>\n",
       "    </tr>\n",
       "    <tr>\n",
       "      <th>\"path_uz_theta_wp\": \"parameters/raichur_tlab_domain_wp_created_v2.asc\"</th>\n",
       "      <td>NaN</td>\n",
       "    </tr>\n",
       "    <tr>\n",
       "      <th>\"path_uz_rootdepth\": \"parameters/raichur_tlab_domain_rootdepth_assumed2000mm.asc\"</th>\n",
       "      <td>NaN</td>\n",
       "    </tr>\n",
       "    <tr>\n",
       "      <th>\"path_uz_lambda\": \"parameters/raichur_tlab_domain_lambda_utm.asc\"</th>\n",
       "      <td>NaN</td>\n",
       "    </tr>\n",
       "    <tr>\n",
       "      <th>\"path_uz_psi\": \"parameters/raichur_tlab_domain_psi_s_utm_positive_mm_v2.asc\"</th>\n",
       "      <td>NaN</td>\n",
       "    </tr>\n",
       "    <tr>\n",
       "      <th>\"path_uz_ksat\": \"parameters/raichur_tlab_domain_ks_utm_mm_perh_v2.asc\"</th>\n",
       "      <td>NaN</td>\n",
       "    </tr>\n",
       "    <tr>\n",
       "      <th>\"path_uz_sigmaksat\": \"parameters/raichur_tlab_domain_ks_sigma_utm_mm_perh_v2.asc\"</th>\n",
       "      <td>NaN</td>\n",
       "    </tr>\n",
       "    <tr>\n",
       "      <th>\"path_uz_theta\": \"outputs/raichur_chirps_distr_09/Raichur_TLab_baseline_sim_avg_tht_ini.asc\"</th>\n",
       "      <td>NaN</td>\n",
       "    </tr>\n",
       "    <tr>\n",
       "      <th>\"path_riv_ksat\": \"parameters/raichur_tlab_domain_ks_utm_mm_perh_v2.asc\"</th>\n",
       "      <td>NaN</td>\n",
       "    </tr>\n",
       "    <tr>\n",
       "      <th>}</th>\n",
       "      <td>NaN</td>\n",
       "    </tr>\n",
       "    <tr>\n",
       "      <th>\"RIPARIAN\": {</th>\n",
       "      <td>NaN</td>\n",
       "    </tr>\n",
       "    <tr>\n",
       "      <th>\"path_rp_theta_sat\": \"parameters/raichur_tlab_domain_theta_s_new.asc\"</th>\n",
       "      <td>NaN</td>\n",
       "    </tr>\n",
       "    <tr>\n",
       "      <th>\"path_rp_theta_awc\": \"parameters/raichur_tlab_domain_awc_created_v2.asc\"</th>\n",
       "      <td>NaN</td>\n",
       "    </tr>\n",
       "    <tr>\n",
       "      <th>\"path_rp_theta_wp\": \"null\"</th>\n",
       "      <td>NaN</td>\n",
       "    </tr>\n",
       "    <tr>\n",
       "      <th>\"path_rp_rootdepth\": \"parameters/raichur_tlab_domain_rootdepth_assumed2000mm.asc\"</th>\n",
       "      <td>NaN</td>\n",
       "    </tr>\n",
       "    <tr>\n",
       "      <th>\"path_rp_lambda\": \"parameters/raichur_tlab_domain_lambda_utm.asc\"</th>\n",
       "      <td>NaN</td>\n",
       "    </tr>\n",
       "    <tr>\n",
       "      <th>\"path_rp_psi\": \"parameters/raichur_tlab_domain_psi_s_utm_positive_mm_v2.asc\"</th>\n",
       "      <td>NaN</td>\n",
       "    </tr>\n",
       "    <tr>\n",
       "      <th>\"path_rp_ksat\": \"parameters/raichur_tlab_domain_ks_utm_mm_perh_v2.asc\"</th>\n",
       "      <td>NaN</td>\n",
       "    </tr>\n",
       "    <tr>\n",
       "      <th>\"path_rp_theta\": \"outputs/raichur_chirps_distr_09/Raichur_TLab_baseline_sim_avg_tht_rp_ini.asc\"</th>\n",
       "      <td>NaN</td>\n",
       "    </tr>\n",
       "    <tr>\n",
       "      <th>}</th>\n",
       "      <td>NaN</td>\n",
       "    </tr>\n",
       "  </tbody>\n",
       "</table>\n",
       "</div>"
      ],
      "text/plain": [
       "                                                     {\n",
       "\"UNSATURATED\": {                                   NaN\n",
       "    \"path_uz_theta_sat\": \"parameters/raichur_tl... NaN\n",
       "    \"path_uz_theta_res\": \"null\"                    NaN\n",
       "    \"path_uz_theta_awc\": \"parameters/raichur_tl... NaN\n",
       "    \"path_uz_theta_wp\": \"parameters/raichur_tla... NaN\n",
       "    \"path_uz_rootdepth\": \"parameters/raichur_tl... NaN\n",
       "    \"path_uz_lambda\": \"parameters/raichur_tlab_... NaN\n",
       "    \"path_uz_psi\": \"parameters/raichur_tlab_dom... NaN\n",
       "    \"path_uz_ksat\": \"parameters/raichur_tlab_do... NaN\n",
       "    \"path_uz_sigmaksat\": \"parameters/raichur_tl... NaN\n",
       "    \"path_uz_theta\": \"outputs/raichur_chirps_di... NaN\n",
       "    \"path_riv_ksat\": \"parameters/raichur_tlab_d... NaN\n",
       "}                                                  NaN\n",
       "\"RIPARIAN\": {                                      NaN\n",
       "    \"path_rp_theta_sat\": \"parameters/raichur_tl... NaN\n",
       "    \"path_rp_theta_awc\": \"parameters/raichur_tl... NaN\n",
       "    \"path_rp_theta_wp\": \"null\"                     NaN\n",
       "    \"path_rp_rootdepth\": \"parameters/raichur_tl... NaN\n",
       "    \"path_rp_lambda\": \"parameters/raichur_tlab_... NaN\n",
       "    \"path_rp_psi\": \"parameters/raichur_tlab_dom... NaN\n",
       "    \"path_rp_ksat\": \"parameters/raichur_tlab_do... NaN\n",
       "    \"path_rp_theta\": \"outputs/raichur_chirps_di... NaN\n",
       "}                                                  NaN"
      ]
     },
     "execution_count": 19,
     "metadata": {},
     "output_type": "execute_result"
    }
   ],
   "source": [
    "dryp_input.iloc[17:40]"
   ]
  },
  {
   "cell_type": "markdown",
   "metadata": {},
   "source": [
    "Groundwater parameters..."
   ]
  },
  {
   "cell_type": "code",
   "execution_count": 22,
   "metadata": {},
   "outputs": [
    {
     "data": {
      "text/html": [
       "<div>\n",
       "<style scoped>\n",
       "    .dataframe tbody tr th:only-of-type {\n",
       "        vertical-align: middle;\n",
       "    }\n",
       "\n",
       "    .dataframe tbody tr th {\n",
       "        vertical-align: top;\n",
       "    }\n",
       "\n",
       "    .dataframe thead th {\n",
       "        text-align: right;\n",
       "    }\n",
       "</style>\n",
       "<table border=\"1\" class=\"dataframe\">\n",
       "  <thead>\n",
       "    <tr style=\"text-align: right;\">\n",
       "      <th></th>\n",
       "      <th>{</th>\n",
       "    </tr>\n",
       "  </thead>\n",
       "  <tbody>\n",
       "    <tr>\n",
       "      <th>\"SATURATED\": {</th>\n",
       "      <td>NaN</td>\n",
       "    </tr>\n",
       "    <tr>\n",
       "      <th>\"path_sz_mask\": \"parameters/DEM_raichur_tlab_mask_v3.asc\"</th>\n",
       "      <td>NaN</td>\n",
       "    </tr>\n",
       "    <tr>\n",
       "      <th>\"path_sz_ksat\": \"parameters/raichur_tlab_domain_Kaq_v2.asc\"</th>\n",
       "      <td>NaN</td>\n",
       "    </tr>\n",
       "    <tr>\n",
       "      <th>\"path_sz_sy\": \"parameters/raichur_tlab_domain_Sy_v2.asc\"</th>\n",
       "      <td>NaN</td>\n",
       "    </tr>\n",
       "    <tr>\n",
       "      <th>\"path_sz_wte\": \"outputs/raichur_chirps_distr_09/Raichur_TLab_baseline_sim_avg_wte_ini.asc\"</th>\n",
       "      <td>NaN</td>\n",
       "    </tr>\n",
       "    <tr>\n",
       "      <th>\"path_sz_bc_flux\": \"null\"</th>\n",
       "      <td>NaN</td>\n",
       "    </tr>\n",
       "    <tr>\n",
       "      <th>\"path_sz_bc_head\": \"null\"</th>\n",
       "      <td>NaN</td>\n",
       "    </tr>\n",
       "    <tr>\n",
       "      <th>\"path_sz_bottom\": \"parameters/raichur_tlab_domain_aq_bottomelevation_v2.asc\"</th>\n",
       "      <td>NaN</td>\n",
       "    </tr>\n",
       "    <tr>\n",
       "      <th>\"path_sz_depth\": \"parameters/raichur_tlab_domain_aq_thickness_v2.asc\"</th>\n",
       "      <td>NaN</td>\n",
       "    </tr>\n",
       "    <tr>\n",
       "      <th>\"path_sz_type\": \"null\"</th>\n",
       "      <td>NaN</td>\n",
       "    </tr>\n",
       "    <tr>\n",
       "      <th>}</th>\n",
       "      <td>NaN</td>\n",
       "    </tr>\n",
       "  </tbody>\n",
       "</table>\n",
       "</div>"
      ],
      "text/plain": [
       "                                                     {\n",
       "\"SATURATED\": {                                     NaN\n",
       "    \"path_sz_mask\": \"parameters/DEM_raichur_tla... NaN\n",
       "    \"path_sz_ksat\": \"parameters/raichur_tlab_do... NaN\n",
       "    \"path_sz_sy\": \"parameters/raichur_tlab_doma... NaN\n",
       "    \"path_sz_wte\": \"outputs/raichur_chirps_dist... NaN\n",
       "    \"path_sz_bc_flux\": \"null\"                      NaN\n",
       "    \"path_sz_bc_head\": \"null\"                      NaN\n",
       "    \"path_sz_bottom\": \"parameters/raichur_tlab_... NaN\n",
       "    \"path_sz_depth\": \"parameters/raichur_tlab_d... NaN\n",
       "    \"path_sz_type\": \"null\"                         NaN\n",
       "}                                                  NaN"
      ]
     },
     "execution_count": 22,
     "metadata": {},
     "output_type": "execute_result"
    }
   ],
   "source": [
    "dryp_input.iloc[40:51]"
   ]
  },
  {
   "cell_type": "markdown",
   "metadata": {},
   "source": [
    "Forcing datasets, meteorological data..."
   ]
  },
  {
   "cell_type": "code",
   "execution_count": 25,
   "metadata": {},
   "outputs": [
    {
     "data": {
      "text/html": [
       "<div>\n",
       "<style scoped>\n",
       "    .dataframe tbody tr th:only-of-type {\n",
       "        vertical-align: middle;\n",
       "    }\n",
       "\n",
       "    .dataframe tbody tr th {\n",
       "        vertical-align: top;\n",
       "    }\n",
       "\n",
       "    .dataframe thead th {\n",
       "        text-align: right;\n",
       "    }\n",
       "</style>\n",
       "<table border=\"1\" class=\"dataframe\">\n",
       "  <thead>\n",
       "    <tr style=\"text-align: right;\">\n",
       "      <th></th>\n",
       "      <th>{</th>\n",
       "    </tr>\n",
       "  </thead>\n",
       "  <tbody>\n",
       "    <tr>\n",
       "      <th>\"METEO\": {</th>\n",
       "      <td>NaN</td>\n",
       "    </tr>\n",
       "    <tr>\n",
       "      <th>\"path_pre\": \"sources_sinks/chirps_daily_v2/YYYY.nc\"</th>\n",
       "      <td>NaN</td>\n",
       "    </tr>\n",
       "    <tr>\n",
       "      <th>\"path_pet\": \"sources_sinks/daily_PET/YYYY_daily_pet_raichur_tlab_domain.nc\"</th>\n",
       "      <td>NaN</td>\n",
       "    </tr>\n",
       "    <tr>\n",
       "      <th>\"path_aof\": \"null\"</th>\n",
       "      <td>NaN</td>\n",
       "    </tr>\n",
       "    <tr>\n",
       "      <th>\"path_lai\": null</th>\n",
       "      <td>NaN</td>\n",
       "    </tr>\n",
       "    <tr>\n",
       "      <th>\"path_savi\": null</th>\n",
       "      <td>NaN</td>\n",
       "    </tr>\n",
       "    <tr>\n",
       "      <th>\"path_kc\": null</th>\n",
       "      <td>NaN</td>\n",
       "    </tr>\n",
       "    <tr>\n",
       "      <th>\"path_TSOF\": null</th>\n",
       "      <td>NaN</td>\n",
       "    </tr>\n",
       "    <tr>\n",
       "      <th>\"path_TSUZ\": null</th>\n",
       "      <td>NaN</td>\n",
       "    </tr>\n",
       "    <tr>\n",
       "      <th>\"path_TSSZ\": null</th>\n",
       "      <td>NaN</td>\n",
       "    </tr>\n",
       "    <tr>\n",
       "      <th>\"Other\": null</th>\n",
       "      <td>NaN</td>\n",
       "    </tr>\n",
       "    <tr>\n",
       "      <th>}</th>\n",
       "      <td>NaN</td>\n",
       "    </tr>\n",
       "  </tbody>\n",
       "</table>\n",
       "</div>"
      ],
      "text/plain": [
       "                                                     {\n",
       "\"METEO\": {                                         NaN\n",
       "    \"path_pre\": \"sources_sinks/chirps_daily_v2/... NaN\n",
       "    \"path_pet\": \"sources_sinks/daily_PET/YYYY_d... NaN\n",
       "    \"path_aof\": \"null\"                             NaN\n",
       "    \"path_lai\": null                               NaN\n",
       "    \"path_savi\": null                              NaN\n",
       "    \"path_kc\": null                                NaN\n",
       "    \"path_TSOF\": null                              NaN\n",
       "    \"path_TSUZ\": null                              NaN\n",
       "    \"path_TSSZ\": null                              NaN\n",
       "    \"Other\": null                                  NaN\n",
       "}                                                  NaN"
      ]
     },
     "execution_count": 25,
     "metadata": {},
     "output_type": "execute_result"
    }
   ],
   "source": [
    "dryp_input.iloc[51:63]"
   ]
  },
  {
   "cell_type": "markdown",
   "metadata": {},
   "source": [
    "Observation locations, outlets, setting file path..."
   ]
  },
  {
   "cell_type": "code",
   "execution_count": 27,
   "metadata": {},
   "outputs": [
    {
     "data": {
      "text/html": [
       "<div>\n",
       "<style scoped>\n",
       "    .dataframe tbody tr th:only-of-type {\n",
       "        vertical-align: middle;\n",
       "    }\n",
       "\n",
       "    .dataframe tbody tr th {\n",
       "        vertical-align: top;\n",
       "    }\n",
       "\n",
       "    .dataframe thead th {\n",
       "        text-align: right;\n",
       "    }\n",
       "</style>\n",
       "<table border=\"1\" class=\"dataframe\">\n",
       "  <thead>\n",
       "    <tr style=\"text-align: right;\">\n",
       "      <th></th>\n",
       "      <th>{</th>\n",
       "    </tr>\n",
       "  </thead>\n",
       "  <tbody>\n",
       "    <tr>\n",
       "      <th>\"OUTPUT\": {</th>\n",
       "      <td>NaN</td>\n",
       "    </tr>\n",
       "    <tr>\n",
       "      <th>\"path_out_sz\": \"C:/Users/oshin/OneDrive - Cardiff University/CLARITY/Work_India/model/parameters/raichur_tlab_domain_stations_utm.csv\"</th>\n",
       "      <td>NaN</td>\n",
       "    </tr>\n",
       "    <tr>\n",
       "      <th>\"path_out_uz\": \"C:/Users/oshin/OneDrive - Cardiff University/CLARITY/Work_India/model/parameters/raichur_tlab_domain_stations_utm.csv\"</th>\n",
       "      <td>NaN</td>\n",
       "    </tr>\n",
       "    <tr>\n",
       "      <th>\"path_out_oz\": \"C:/Users/oshin/OneDrive - Cardiff University/CLARITY/Work_India/model/parameters/raichur_tlab_domain_outlets_utm.csv\"</th>\n",
       "      <td>NaN</td>\n",
       "    </tr>\n",
       "    <tr>\n",
       "      <th>\"path_output\": \"C:/Users/oshin/OneDrive - Cardiff University/CLARITY/Work_India/model/outputs/raichur_chirps_distr_10\"</th>\n",
       "      <td>NaN</td>\n",
       "    </tr>\n",
       "    <tr>\n",
       "      <th>\"Other\": null</th>\n",
       "      <td>NaN</td>\n",
       "    </tr>\n",
       "    <tr>\n",
       "      <th>\"path_setting\": \"C:/Users/oshin/OneDrive - Cardiff University/CLARITY/Work_India/model/input_files/raichur_tlab_par_settings_ini.json\"</th>\n",
       "      <td>NaN</td>\n",
       "    </tr>\n",
       "    <tr>\n",
       "      <th>}</th>\n",
       "      <td>NaN</td>\n",
       "    </tr>\n",
       "    <tr>\n",
       "      <th>}</th>\n",
       "      <td>NaN</td>\n",
       "    </tr>\n",
       "  </tbody>\n",
       "</table>\n",
       "</div>"
      ],
      "text/plain": [
       "                                                     {\n",
       "    \"OUTPUT\": {                                    NaN\n",
       "        \"path_out_sz\": \"C:/Users/oshin/OneDrive... NaN\n",
       "        \"path_out_uz\": \"C:/Users/oshin/OneDrive... NaN\n",
       "        \"path_out_oz\": \"C:/Users/oshin/OneDrive... NaN\n",
       "        \"path_output\": \"C:/Users/oshin/OneDrive... NaN\n",
       "        \"Other\": null                              NaN\n",
       "        \"path_setting\": \"C:/Users/oshin/OneDriv... NaN\n",
       "    }                                              NaN\n",
       "}                                                  NaN"
      ]
     },
     "execution_count": 27,
     "metadata": {},
     "output_type": "execute_result"
    }
   ],
   "source": [
    "dryp_input.iloc[63:75]"
   ]
  },
  {
   "cell_type": "code",
   "execution_count": 77,
   "metadata": {},
   "outputs": [
    {
     "data": {
      "text/html": [
       "<div>\n",
       "<style scoped>\n",
       "    .dataframe tbody tr th:only-of-type {\n",
       "        vertical-align: middle;\n",
       "    }\n",
       "\n",
       "    .dataframe tbody tr th {\n",
       "        vertical-align: top;\n",
       "    }\n",
       "\n",
       "    .dataframe thead th {\n",
       "        text-align: right;\n",
       "    }\n",
       "</style>\n",
       "<table border=\"1\" class=\"dataframe\">\n",
       "  <thead>\n",
       "    <tr style=\"text-align: right;\">\n",
       "      <th></th>\n",
       "      <th>{</th>\n",
       "    </tr>\n",
       "  </thead>\n",
       "  <tbody>\n",
       "    <tr>\n",
       "      <th>\"path_setting\": \"C:/Users/oshin/OneDrive - Cardiff University/CLARITY/Work_India/model/input_files/raichur_tlab_par_settings_ini.json\"</th>\n",
       "      <td>NaN</td>\n",
       "    </tr>\n",
       "  </tbody>\n",
       "</table>\n",
       "</div>"
      ],
      "text/plain": [
       "                                                     {\n",
       "\"path_setting\": \"C:/Users/oshin/OneDrive - Card... NaN"
      ]
     },
     "execution_count": 77,
     "metadata": {},
     "output_type": "execute_result"
    }
   ],
   "source": [
    "dryp_input.iloc[69:70]"
   ]
  },
  {
   "cell_type": "code",
   "execution_count": 28,
   "metadata": {},
   "outputs": [
    {
     "data": {
      "text/html": [
       "<div>\n",
       "<style scoped>\n",
       "    .dataframe tbody tr th:only-of-type {\n",
       "        vertical-align: middle;\n",
       "    }\n",
       "\n",
       "    .dataframe tbody tr th {\n",
       "        vertical-align: top;\n",
       "    }\n",
       "\n",
       "    .dataframe thead th {\n",
       "        text-align: right;\n",
       "    }\n",
       "</style>\n",
       "<table border=\"1\" class=\"dataframe\">\n",
       "  <thead>\n",
       "    <tr style=\"text-align: right;\">\n",
       "      <th></th>\n",
       "      <th>{</th>\n",
       "    </tr>\n",
       "  </thead>\n",
       "  <tbody>\n",
       "    <tr>\n",
       "      <th>\"path_TSSZ\": null</th>\n",
       "      <td>NaN</td>\n",
       "    </tr>\n",
       "    <tr>\n",
       "      <th>\"Other\": null</th>\n",
       "      <td>NaN</td>\n",
       "    </tr>\n",
       "    <tr>\n",
       "      <th>}</th>\n",
       "      <td>NaN</td>\n",
       "    </tr>\n",
       "    <tr>\n",
       "      <th>\"OUTPUT\": {</th>\n",
       "      <td>NaN</td>\n",
       "    </tr>\n",
       "    <tr>\n",
       "      <th>\"path_out_sz\": \"C:/Users/oshin/OneDrive - Cardiff University/CLARITY/Work_India/model/parameters/raichur_tlab_domain_stations_utm.csv\"</th>\n",
       "      <td>NaN</td>\n",
       "    </tr>\n",
       "    <tr>\n",
       "      <th>\"path_out_uz\": \"C:/Users/oshin/OneDrive - Cardiff University/CLARITY/Work_India/model/parameters/raichur_tlab_domain_stations_utm.csv\"</th>\n",
       "      <td>NaN</td>\n",
       "    </tr>\n",
       "    <tr>\n",
       "      <th>\"path_out_oz\": \"C:/Users/oshin/OneDrive - Cardiff University/CLARITY/Work_India/model/parameters/raichur_tlab_domain_outlets_utm.csv\"</th>\n",
       "      <td>NaN</td>\n",
       "    </tr>\n",
       "    <tr>\n",
       "      <th>\"path_output\": \"C:/Users/oshin/OneDrive - Cardiff University/CLARITY/Work_India/model/outputs/raichur_chirps_distr_10\"</th>\n",
       "      <td>NaN</td>\n",
       "    </tr>\n",
       "    <tr>\n",
       "      <th>\"Other\": null</th>\n",
       "      <td>NaN</td>\n",
       "    </tr>\n",
       "    <tr>\n",
       "      <th>\"path_setting\": \"C:/Users/oshin/OneDrive - Cardiff University/CLARITY/Work_India/model/input_files/raichur_tlab_par_settings_ini.json\"</th>\n",
       "      <td>NaN</td>\n",
       "    </tr>\n",
       "    <tr>\n",
       "      <th>}</th>\n",
       "      <td>NaN</td>\n",
       "    </tr>\n",
       "    <tr>\n",
       "      <th>}</th>\n",
       "      <td>NaN</td>\n",
       "    </tr>\n",
       "  </tbody>\n",
       "</table>\n",
       "</div>"
      ],
      "text/plain": [
       "                                                     {\n",
       "        \"path_TSSZ\": null                          NaN\n",
       "        \"Other\": null                              NaN\n",
       "    }                                              NaN\n",
       "    \"OUTPUT\": {                                    NaN\n",
       "        \"path_out_sz\": \"C:/Users/oshin/OneDrive... NaN\n",
       "        \"path_out_uz\": \"C:/Users/oshin/OneDrive... NaN\n",
       "        \"path_out_oz\": \"C:/Users/oshin/OneDrive... NaN\n",
       "        \"path_output\": \"C:/Users/oshin/OneDrive... NaN\n",
       "        \"Other\": null                              NaN\n",
       "        \"path_setting\": \"C:/Users/oshin/OneDriv... NaN\n",
       "    }                                              NaN\n",
       "}                                                  NaN"
      ]
     },
     "execution_count": 28,
     "metadata": {},
     "output_type": "execute_result"
    }
   ],
   "source": [
    "dryp_input.tail(12)"
   ]
  },
  {
   "cell_type": "markdown",
   "metadata": {},
   "source": [
    "* model-setting file"
   ]
  },
  {
   "cell_type": "code",
   "execution_count": 29,
   "metadata": {},
   "outputs": [],
   "source": [
    "fsettings = input_file + \"raichur_tlab_par_settings.json\""
   ]
  },
  {
   "cell_type": "code",
   "execution_count": 35,
   "metadata": {},
   "outputs": [
    {
     "data": {
      "text/html": [
       "<div>\n",
       "<style scoped>\n",
       "    .dataframe tbody tr th:only-of-type {\n",
       "        vertical-align: middle;\n",
       "    }\n",
       "\n",
       "    .dataframe tbody tr th {\n",
       "        vertical-align: top;\n",
       "    }\n",
       "\n",
       "    .dataframe thead th {\n",
       "        text-align: right;\n",
       "    }\n",
       "</style>\n",
       "<table border=\"1\" class=\"dataframe\">\n",
       "  <thead>\n",
       "    <tr style=\"text-align: right;\">\n",
       "      <th></th>\n",
       "      <th>{</th>\n",
       "    </tr>\n",
       "  </thead>\n",
       "  <tbody>\n",
       "    <tr>\n",
       "      <th>0</th>\n",
       "      <td>\"SIMULATION_PERIOD\": {</td>\n",
       "    </tr>\n",
       "    <tr>\n",
       "      <th>1</th>\n",
       "      <td>\"end_date\": \"2023 12 31\"</td>\n",
       "    </tr>\n",
       "    <tr>\n",
       "      <th>2</th>\n",
       "      <td>\"TIMESTEP_SETTINGS\": {</td>\n",
       "    </tr>\n",
       "    <tr>\n",
       "      <th>3</th>\n",
       "      <td>\"dt_gw\": 1440</td>\n",
       "    </tr>\n",
       "    <tr>\n",
       "      <th>4</th>\n",
       "      <td>\"READING\": {</td>\n",
       "    </tr>\n",
       "    <tr>\n",
       "      <th>5</th>\n",
       "      <td>\"data_reading\": {</td>\n",
       "    </tr>\n",
       "    <tr>\n",
       "      <th>6</th>\n",
       "      <td>\"savi_max\": 0</td>\n",
       "    </tr>\n",
       "    <tr>\n",
       "      <th>7</th>\n",
       "      <td>\"data_step\": {</td>\n",
       "    </tr>\n",
       "    <tr>\n",
       "      <th>8</th>\n",
       "      <td>\"savi_max\": 1440</td>\n",
       "    </tr>\n",
       "    <tr>\n",
       "      <th>9</th>\n",
       "      <td>\"data_reproject\": {</td>\n",
       "    </tr>\n",
       "  </tbody>\n",
       "</table>\n",
       "</div>"
      ],
      "text/plain": [
       "                              {\n",
       "0        \"SIMULATION_PERIOD\": {\n",
       "1      \"end_date\": \"2023 12 31\"\n",
       "2        \"TIMESTEP_SETTINGS\": {\n",
       "3                 \"dt_gw\": 1440\n",
       "4                  \"READING\": {\n",
       "5             \"data_reading\": {\n",
       "6                 \"savi_max\": 0\n",
       "7                \"data_step\": {\n",
       "8              \"savi_max\": 1440\n",
       "9           \"data_reproject\": {"
      ]
     },
     "execution_count": 35,
     "metadata": {},
     "output_type": "execute_result"
    }
   ],
   "source": [
    "dryp_settings = pd.read_csv(fsettings, on_bad_lines='skip')  #I added on_bad_lines='skip' after I got tokenism error!\n",
    "dryp_settings.head(10)"
   ]
  },
  {
   "cell_type": "code",
   "execution_count": 36,
   "metadata": {},
   "outputs": [
    {
     "data": {
      "text/html": [
       "<div>\n",
       "<style scoped>\n",
       "    .dataframe tbody tr th:only-of-type {\n",
       "        vertical-align: middle;\n",
       "    }\n",
       "\n",
       "    .dataframe tbody tr th {\n",
       "        vertical-align: top;\n",
       "    }\n",
       "\n",
       "    .dataframe thead th {\n",
       "        text-align: right;\n",
       "    }\n",
       "</style>\n",
       "<table border=\"1\" class=\"dataframe\">\n",
       "  <thead>\n",
       "    <tr style=\"text-align: right;\">\n",
       "      <th></th>\n",
       "      <th>{</th>\n",
       "    </tr>\n",
       "  </thead>\n",
       "  <tbody>\n",
       "    <tr>\n",
       "      <th>14</th>\n",
       "      <td>\"lai\": \"EPSG:4326\"</td>\n",
       "    </tr>\n",
       "    <tr>\n",
       "      <th>15</th>\n",
       "      <td>}</td>\n",
       "    </tr>\n",
       "    <tr>\n",
       "      <th>16</th>\n",
       "      <td>\"COMPONENTS\": {</td>\n",
       "    </tr>\n",
       "    <tr>\n",
       "      <th>17</th>\n",
       "      <td>\"method_gw\": 0</td>\n",
       "    </tr>\n",
       "    <tr>\n",
       "      <th>18</th>\n",
       "      <td>\"OUTPUT\": {</td>\n",
       "    </tr>\n",
       "    <tr>\n",
       "      <th>19</th>\n",
       "      <td>\"output_dt\": \"1D\"</td>\n",
       "    </tr>\n",
       "    <tr>\n",
       "      <th>20</th>\n",
       "      <td>\"GLOBAL_FACTORS\": {</td>\n",
       "    </tr>\n",
       "    <tr>\n",
       "      <th>21</th>\n",
       "      <td>\"of_kflow\": 1.0</td>\n",
       "    </tr>\n",
       "    <tr>\n",
       "      <th>22</th>\n",
       "      <td>}</td>\n",
       "    </tr>\n",
       "    <tr>\n",
       "      <th>23</th>\n",
       "      <td>}</td>\n",
       "    </tr>\n",
       "  </tbody>\n",
       "</table>\n",
       "</div>"
      ],
      "text/plain": [
       "                                 {\n",
       "14              \"lai\": \"EPSG:4326\"\n",
       "15                               }\n",
       "16                 \"COMPONENTS\": {\n",
       "17                  \"method_gw\": 0\n",
       "18                     \"OUTPUT\": {\n",
       "19               \"output_dt\": \"1D\"\n",
       "20             \"GLOBAL_FACTORS\": {\n",
       "21                 \"of_kflow\": 1.0\n",
       "22                               }\n",
       "23                               }"
      ]
     },
     "execution_count": 36,
     "metadata": {},
     "output_type": "execute_result"
    }
   ],
   "source": [
    "dryp_settings.tail(10)"
   ]
  },
  {
   "cell_type": "markdown",
   "metadata": {},
   "source": [
    "* Changing model input paths\n",
    "\n",
    "Creating a new model requires to specify the new paths of the model parameter files, it is a task that takes time and can be prone to errors. To avoid any mistake when changing paths, we can use the replace text option availble in python."
   ]
  },
  {
   "cell_type": "code",
   "execution_count": 45,
   "metadata": {},
   "outputs": [],
   "source": [
    "from shutil import copyfile\n",
    "import fileinput\n",
    "import sys"
   ]
  },
  {
   "cell_type": "code",
   "execution_count": 46,
   "metadata": {},
   "outputs": [],
   "source": [
    "def replaceAll(file, searchExp, replaceExp):\n",
    "    for line in fileinput.input(file, inplace=1):\n",
    "        if searchExp in line:\n",
    "            line = line.replace(searchExp,replaceExp)\n",
    "        sys.stdout.write(line)"
   ]
  },
  {
   "cell_type": "code",
   "execution_count": 61,
   "metadata": {},
   "outputs": [
    {
     "name": "stdout",
     "output_type": "stream",
     "text": [
      "C:/Users/oshin/OneDrive - Cardiff University/CLARITY/Work_India/model/input_files/raichur_tlab_model_input_dstr_10b.jsonraichur_tlab_model_input_dstr_10b.json\n"
     ]
    }
   ],
   "source": [
    "#####\n",
    "finput_1 = input_file + \"raichur_tlab_model_input_dstr_10.json\"\n",
    "finput_2 = input_file + \"raichur_tlab_model_input_dstr_10b.json\"\n",
    "\n",
    "print(finput_2)"
   ]
  },
  {
   "cell_type": "markdown",
   "metadata": {},
   "source": [
    "Create a copy to avoid the lost of information"
   ]
  },
  {
   "cell_type": "code",
   "execution_count": 62,
   "metadata": {},
   "outputs": [],
   "source": [
    "#copyfile(finput_1, finput_2)"
   ]
  },
  {
   "cell_type": "code",
   "execution_count": 63,
   "metadata": {},
   "outputs": [],
   "source": [
    "#pd.read_csv(finput_2)"
   ]
  },
  {
   "cell_type": "markdown",
   "metadata": {},
   "source": [
    "Specify the text you want to change and the new text"
   ]
  },
  {
   "cell_type": "code",
   "execution_count": 67,
   "metadata": {},
   "outputs": [],
   "source": [
    "#searchExpresion = \"parameters/DEM_raichur_tlab_utm.asc\"\n",
    "#replaceExpresion = \"parameters/raichur_tlab_domain_DEM.asc\"\n",
    "#replaceAll(finput_2, searchExpresion, replaceExpresion)"
   ]
  },
  {
   "cell_type": "code",
   "execution_count": 68,
   "metadata": {},
   "outputs": [],
   "source": [
    "#pd.read_csv(finput_2)"
   ]
  },
  {
   "cell_type": "markdown",
   "metadata": {},
   "source": [
    "#### B. Running a DRYP model"
   ]
  },
  {
   "cell_type": "markdown",
   "metadata": {},
   "source": [
    "There are two main ways of running a DRYP model in Windows machine (more options can be added/used that are more convenient for your analysis):"
   ]
  },
  {
   "cell_type": "markdown",
   "metadata": {},
   "source": [
    "a) Running DRYP from the command prompt: the steps are given in the word document titled '02a_DRYP_model_running_in cmd command prompt'."
   ]
  },
  {
   "cell_type": "markdown",
   "metadata": {},
   "source": [
    "b) Running dryp within the python (specifically, jupyter notebook) environment."
   ]
  },
  {
   "cell_type": "code",
   "execution_count": 66,
   "metadata": {},
   "outputs": [],
   "source": [
    "input_file = \"C:/Users/oshin/OneDrive - Cardiff University/CLARITY/Work_India/model/input_files/raichur_tlab_model_input_dstr_10b.json\"\n",
    "\n",
    "from cuwalid.dryp.main_DRYP import run_DRYP\n",
    "#run_DRYP(inputfile)"
   ]
  },
  {
   "cell_type": "markdown",
   "metadata": {},
   "source": [
    "#### C. Preparing and running multiple DRYP simulations"
   ]
  },
  {
   "cell_type": "markdown",
   "metadata": {},
   "source": [
    "This is useful for performing a Monte Carlo analysis or stochastic forecasting.\n",
    "\n",
    "We can create a script to modify a model file by changing specific files of the model files. \n",
    "An example of a script to genereate multiple simulation files for calibration purposes is given below."
   ]
  },
  {
   "cell_type": "code",
   "execution_count": null,
   "metadata": {},
   "outputs": [],
   "source": [
    "import os\n",
    "import numpy as np\n",
    "import pandas as pd\n",
    "\n",
    "def write_sim_file(finput_2, newfname_input, parameter):\n",
    "\t\"\"\" modify the parematers of the model input file and\n",
    "\t\tmodel setting file.\n",
    "\t\tWARNING: it will reeplace the original file, so\n",
    "\t\tmake a copy of the original files\n",
    "\tparameters:\n",
    "\t\tfilename_input:\tmodel inputfile, including path\n",
    "\t\tparameter:\t\t1D array of model paramters\n",
    "\t\"\"\"\n",
    "\t\n",
    "\t# Check if input file exist\n",
    "\tif not os.path.exists(finput_2):\n",
    "\t\traise ValueError(\"File not availble\")\n",
    "\t\n",
    "\t# simulation number\n",
    "\tsim = str(int(parameter[0]))\n",
    "\t\n",
    "\t# Read model input file\n",
    "\tf = pd.read_csv(finput_2)\n",
    "\t\n",
    "\t# Change model name by adding the simulation number\n",
    "\tf.drylandmodel[1] = f.drylandmodel[1] + sim\n",
    "\n",
    "\t# change parameters of the of the setting parameter file\n",
    "\tfname_settings = f.drylandmodel[87]\n",
    "\t# create a copy of the file with the new name\n",
    "\tfname_root = fname_settings.split('.')[0]\n",
    "\tfname_ext = fname_settings.split('.')[1]\n",
    "\t# new input file name\n",
    "\tnewfname_settings = fname_root+'_'+sim+'.'+fname_ext\n",
    "\t#copyfile(fname_settings, newfname_settings)\n",
    "\t# replace new setting file\n",
    "\tf.drylandmodel[87] = newfname_settings\n",
    "\t# Open setting parameter file\n",
    "\tfsimpar = pd.read_csv(fname_settings)\n",
    "\t# ADD CODE HERE TO MODIFY FORCING DATSET NAMES\n",
    "\t#f.drylandmodel[66] = newfname_settings\n",
    "\t#f.drylandmodel[68] = newfname_settings\n",
    "\t# Change setting parameter file with new values\n",
    "\tfsimpar['DWAPM_SET'][46] = ('%.5f' % parameter[1]) # kdt\n",
    "\tfsimpar['DWAPM_SET'][48] = ('%.5f' % parameter[2]) # kDroot\n",
    "\tfsimpar['DWAPM_SET'][50] = ('%.2f' % parameter[3]) # kAWC\n",
    "\tfsimpar['DWAPM_SET'][52] = ('%.5f' % parameter[4]) # kKsat\n",
    "\tfsimpar['DWAPM_SET'][54] = ('%.5f' % parameter[5]) # kSigma\n",
    "\tfsimpar['DWAPM_SET'][56] = ('%.5f' % parameter[6]) # kKch\n",
    "\tfsimpar['DWAPM_SET'][58] = ('%.5f' % parameter[7]) # T\n",
    "\tfsimpar['DWAPM_SET'][60] = ('%.5f' % parameter[8]) # kW\n",
    "\tfsimpar['DWAPM_SET'][62] = ('%.5f' % parameter[9]) # kKaq\n",
    "\tfsimpar['DWAPM_SET'][64] = ('%.5f' % parameter[10])# kSy\n",
    "\t\n",
    "\t# Reeplace model input and parameters file\n",
    "\tos.remove(newfname_input) if os.path.exists(newfname_input) else None\n",
    "\tos.remove(newfname_settings) if os.path.exists(newfname_settings) else None\n",
    "\t\n",
    "\t# Write model parameter and input file\n",
    "\tf.to_csv(newfname_input, index=False)\n",
    "\tfsimpar.to_csv(newfname_settings, index=False)\n",
    "\n",
    "def gen_array_input_files(fname_input, fname_parameter_sets):\n",
    "\t# read parameter sets\n",
    "\tparameter = pd.read_csv(fname_parameter_sets)\n",
    "\t\n",
    "\t#Create a copy of inputfile\n",
    "\tfname_root = fname_input.split('.')[0]\n",
    "\tfname_ext = fname_input.split('.')[1]\n",
    "\tfor npar in range(0, 100):\n",
    "\t\t# new input file name\n",
    "\t\tnewfname_input = fname_root+'_'+str(npar)+'.'+fname_ext\n",
    "\t\t# replace all new values in dataset\n",
    "\t\twrite_sim_file(fname_input, newfname_input, parameter.loc[npar])\n"
   ]
  },
  {
   "cell_type": "code",
   "execution_count": null,
   "metadata": {},
   "outputs": [],
   "source": [
    "# ========================================================\n",
    "# LOOP FOR CREATING MULTIPLE IMPORT FILES FOR RUNNING IN HPC\n",
    "fname = [\n",
    "basin_path +'model/HAD_IMERG_Tana_input_sim.dmp',\n",
    "]\n",
    "fname_parameter_sets = training_general_path + \"/basin/dataset/csv/test_parameter_set.csv\"\n",
    "for ifname in fname:\n",
    "\tgen_array_input_files(ifname, fname_parameter_sets)"
   ]
  },
  {
   "cell_type": "markdown",
   "metadata": {},
   "source": [
    "For running the script above you need to create a parameter set file, an example is shown below:"
   ]
  },
  {
   "cell_type": "code",
   "execution_count": null,
   "metadata": {},
   "outputs": [],
   "source": [
    "fname_parameter_sets = training_general_path + \"/regional/datasets/csv/test_parameter_set.csv\""
   ]
  },
  {
   "cell_type": "code",
   "execution_count": null,
   "metadata": {},
   "outputs": [],
   "source": [
    "pd.read_csv(fname_parameter_sets).head(5)"
   ]
  },
  {
   "cell_type": "markdown",
   "metadata": {},
   "source": [
    "**TASK**: modify the script to create model files for running multiples simulation with different forcing\n",
    "datasets (e.g. stochastic forecasting).\n",
    "\n",
    "**HINT**: lines 66 and 68 needs to be modified in the input model parameters file, add lines in script to modify this lines"
   ]
  },
  {
   "cell_type": "markdown",
   "metadata": {},
   "source": [
    "#### D. Running pipeline DRYP simulations"
   ]
  },
  {
   "cell_type": "markdown",
   "metadata": {},
   "source": [
    "For large simulations, output files can become very large which may consume considerable amounts of\n",
    "memory that can even stop the simulations. This problem is very challenging to address in python, requiring significant changes\n",
    "in the code or even considering parallelisation. Here, we simply split a continuos simulation (in time, not in space)\n",
    "to store model output files in specified simulation periods (e.g. years).\n",
    "\n",
    "For this, we can create a series of model files that read and save inital conditions for the previous and subsequente\n",
    "simulations. An example of a python script to generate a pipeline simulaiton is presented below:"
   ]
  },
  {
   "cell_type": "code",
   "execution_count": null,
   "metadata": {},
   "outputs": [],
   "source": [
    "import os\n",
    "import numpy as np\n",
    "import pandas as pd\n",
    "\n",
    "def write_sim_file_pipeline(fname_input, newfname_input,\n",
    "\tsim_ini='1999', sim_end='2000',\n",
    "\tdate_ini='2000 1 1', date_end='2001 1 1'):\n",
    "\t\"\"\" modify the parematers of the model input file and\n",
    "\t\tmodel setting file.\n",
    "\t\tWARNING: it will reeplace the original file, so\n",
    "\t\tmake a copy of the original files\n",
    "\tparameters:\n",
    "\t\tfilename_input:\tmodel inputfile, including path\n",
    "\t\tparameter:\t\t1D array of model paramters\n",
    "\t\"\"\"\n",
    "\t\n",
    "\t# Check if input file exist\n",
    "\tif not os.path.exists(fname_input):\n",
    "\t\traise ValueError(\"File not availble\")\n",
    "\t\n",
    "\t#date_ini = \n",
    "\t#date_end = str\n",
    "\t\n",
    "\t# simulation number\n",
    "\t#sim = str(int(parameter[0]))\n",
    "\t\n",
    "\t# Read model input file\n",
    "\tf = pd.read_csv(fname_input)\n",
    "\t\n",
    "\t# copy input file\n",
    "\tfnew = f.copy()\n",
    "\t# INPUT FILES ====================================\n",
    "\t# Change model name by adding the simulation number\n",
    "\tfnew.drylandmodel[1] = f.drylandmodel[1][:-4] + sim_end\n",
    "\t\n",
    "\t# name and directory of previous time steps\n",
    "\tmname = f.drylandmodel[1][:-4] + sim_ini\n",
    "\tDirOutput = f.drylandmodel[81]# + '_' + sim_ini\n",
    "\t\n",
    "\t# new name\n",
    "\tfnew.drylandmodel[6] = f.drylandmodel[1] + '_' + sim_ini\n",
    "\t\n",
    "\t# change initial conditions Qo\n",
    "\tfnew.drylandmodel[6] = DirOutput+'/'+mname+'_avg_Q_ini.asc'\n",
    "\t# change initial conditions soil moisture\n",
    "\tfnew.drylandmodel[46] = DirOutput+'/'+mname+'_avg_tht_ini.asc'\n",
    "\t# change initial condition water table\n",
    "\tfnew.drylandmodel[57] = DirOutput+'/'+mname+'_avg_wte_ini.asc'\n",
    "\t\n",
    "\t# RIPARIAN FILES ==================================\n",
    "\t# change files of the riparian file\t\n",
    "\tfname_riparian = f.drylandmodel[93]\n",
    "\t# create a copy of the file with the new name\n",
    "\tfname_rootrp = fname_riparian.split('.')[0]\n",
    "\tfname_extrp = fname_riparian.split('.')[1]\n",
    "\t# new input file name\n",
    "\tnewfname_riparian = fname_rootrp + '_' + sim_end + '.' + fname_extrp\n",
    "\t# change initial condition riparian area\n",
    "\t# change initial conditions riparian water content\n",
    "\tfsimrip = pd.read_csv(fname_riparian)\n",
    "\tfsimrip.RIPARIAN[19] = DirOutput+'/'+mname+'_avg_tht_rp_ini.asc'\n",
    "\t\n",
    "\t# write name of riparian file in the input file\n",
    "\tfnew.drylandmodel[93] = newfname_riparian\n",
    "\t\n",
    "\t# SETTING FILES ===================================\n",
    "\t# change parameters of the of the setting parameter file\t\n",
    "\tfname_settings = f.drylandmodel[87]\n",
    "\t# create a copy of the file with the new name\n",
    "\tfname_root = fname_settings.split('.')[0]\n",
    "\tfname_ext = fname_settings.split('.')[1]\n",
    "\t# new input file name\n",
    "\tnewfname_settings = fname_root + '_' + sim_end + '.' + fname_ext\n",
    "\t#copyfile(fname_settings, newfname_settings)\n",
    "\t# replace new setting file\n",
    "\tfnew.drylandmodel[87] = newfname_settings\n",
    "\t\n",
    "\t\n",
    "\t# Open setting parameter file\n",
    "\tfsimpar = pd.read_csv(fname_settings)\t\n",
    "\t\n",
    "\t# Change starting point of the simulation\n",
    "\tfsimpar.DWAPM_SET[2] = date_ini\n",
    "\t\t\n",
    "\t# change final date of the simulaition\n",
    "\tfsimpar.DWAPM_SET[4] = date_end\n",
    "\n",
    "\t# Reeplace model input and parameters file\n",
    "\tos.remove(newfname_input) if os.path.exists(newfname_input) else None\n",
    "\tos.remove(newfname_riparian) if os.path.exists(newfname_riparian) else None\n",
    "\tos.remove(newfname_settings) if os.path.exists(newfname_settings) else None\n",
    "\t\n",
    "\t# Write model parameter and input file\n",
    "\tfnew.to_csv(newfname_input, index=False)\n",
    "\tfsimrip.to_csv(newfname_riparian, index=False)\n",
    "\tfsimpar.to_csv(newfname_settings, index=False)\n",
    "\n",
    "def change_sim_file_name(fname_input, newfname_input, sim=2000):\n",
    "\t# Check if input file exist\n",
    "\tif not os.path.exists(fname_input):\n",
    "\t\traise ValueError(\"File not availble\")\n",
    "\t\n",
    "\tf = pd.read_csv(fname_input)\n",
    "\tf.drylandmodel[1] = f.drylandmodel[1] + \"_\" + str(sim)\n",
    "\t# Reeplace model input and parameters file\n",
    "\tos.remove(newfname_input) if os.path.exists(newfname_input) else None\n",
    "\t# Write model parameter and input file\n",
    "\tf.to_csv(newfname_input, index=False)\n",
    "\n",
    "def gen_inital_end_simulation_dates(year, month, day, dtyear=1, dtmonth=0, dtday=0):\n",
    "\t\"\"\"This function gets the initial and end date of a specified period\n",
    "\t\"\"\"\n",
    "\tdate_ini = str(year+dtyear) + ' ' + str(month+dtmonth) + ' ' + str(day+dtday)\n",
    "\tdate_end = str(year+dtyear+1) + ' ' + str(month+dtmonth) + ' ' + str(day+dtday+1)\n",
    "\t\n",
    "\tname = str(year)\n",
    "\tname_end = str(year+dtyear)\n",
    "\t\n",
    "\treturn date_ini, date_end, name, name_end"
   ]
  },
  {
   "cell_type": "code",
   "execution_count": null,
   "metadata": {},
   "outputs": [],
   "source": [
    "# ========================================================\n",
    "# LOOP FOR CREATING MULTIPLE IMPORT FILES FOR RUNNING IN HPC\n",
    "fname = [\n",
    "training_general_path + \"model/HAD_IMERG_Tana_input_sim.dmp\",\n",
    "]\n",
    "\n",
    "# WARNINGS\n",
    "# The initial file should specify the initial conditions at the begining of\n",
    "# the simulation of the entire period, therefore, the name of inital model\n",
    "# must be according to the name required to the next simulation\n",
    "# subsequent period must conside\n",
    "for ifname_input in fname:\n",
    "\tnewfname_input = ifname_input.split('.')[0]+'_2000.'+ifname_input.split('.')[1]\n",
    "\tchange_sim_file_name(ifname_input, newfname_input)\n",
    "\tfor iyear in range(2000, 2023):\n",
    "\t\tdate_ini, date_end, name, name_end = gen_inital_end_simulation_dates(iyear, 1, 1)\n",
    "\t\tnewfname_input = ifname_input.split('.')[0]+'_'+name_end+'.'+ifname_input.split('.')[1]\n",
    "\t\twrite_sim_file_pipeline(ifname_input, newfname_input, sim_ini=name, sim_end=name_end,\n",
    "\t\t\tdate_ini=date_ini, date_end=date_end\n",
    "\t\t\t)"
   ]
  },
  {
   "cell_type": "code",
   "execution_count": null,
   "metadata": {},
   "outputs": [],
   "source": [
    "import glob\n",
    "files = glob.glob(regional_path + \"inputs/*.asc\")"
   ]
  },
  {
   "cell_type": "code",
   "execution_count": null,
   "metadata": {},
   "outputs": [],
   "source": [
    "new_path = \"D:/\"\n",
    "fnames = []\n",
    "for ifile in files:\n",
    "    fnames.append(ifile.split(\"\\\\\")[-1])\n",
    "    new_name = new_path + ifile.split(\"\\\\\")[-1]\n",
    "    print(new_name)\n",
    "    #new_name = new_path + fnames[0]\n",
    "    #process clip raster"
   ]
  },
  {
   "cell_type": "code",
   "execution_count": null,
   "metadata": {},
   "outputs": [],
   "source": [
    "#fnames"
   ]
  },
  {
   "cell_type": "code",
   "execution_count": null,
   "metadata": {},
   "outputs": [],
   "source": [
    "#new_path = \"D:/\"\n",
    "#new_name = new_path + fnames[0]"
   ]
  }
 ],
 "metadata": {
  "kernelspec": {
   "display_name": "Python 3 (ipykernel)",
   "language": "python",
   "name": "python3"
  },
  "language_info": {
   "codemirror_mode": {
    "name": "ipython",
    "version": 3
   },
   "file_extension": ".py",
   "mimetype": "text/x-python",
   "name": "python",
   "nbconvert_exporter": "python",
   "pygments_lexer": "ipython3",
   "version": "3.11.9"
  }
 },
 "nbformat": 4,
 "nbformat_minor": 4
}
