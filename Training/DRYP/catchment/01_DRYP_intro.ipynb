{
 "cells": [
  {
   "cell_type": "markdown",
   "metadata": {},
   "source": [
    "# CUWALID MODEL TRAINING"
   ]
  },
  {
   "cell_type": "markdown",
   "metadata": {},
   "source": [
    "## Hydrological model DRYP"
   ]
  },
  {
   "cell_type": "markdown",
   "metadata": {},
   "source": [
    "The following course cover the following content:\n",
    "\n",
    "* ***Installation***\n",
    "* Preparing model inputs parameters and dataset\n",
    "* Runing DRYP model\n",
    "* Pos processing model outputs\n"
   ]
  },
  {
   "cell_type": "markdown",
   "metadata": {},
   "source": [
    "### Installation"
   ]
  },
  {
   "cell_type": "markdown",
   "metadata": {},
   "source": [
    "Download all model files from the following GitHub repository:\n",
    "  \n",
    "https://github.com/AndresQuichimbo/DRYPv2.0.1.git\n"
   ]
  },
  {
   "cell_type": "markdown",
   "metadata": {},
   "source": [
    "#### Intalling DRYP in Windows:"
   ]
  },
  {
   "cell_type": "markdown",
   "metadata": {},
   "source": [
    "DRYP uses Fortran compilers that are not publicly (and freely) available for Windows systems. Therefore, the following two options can be used for installing DRYP in Windows machines."
   ]
  },
  {
   "cell_type": "markdown",
   "metadata": {},
   "source": [
    "##### a) Using Windows Subsystem for Linux (WSL) (recomended)"
   ]
  },
  {
   "cell_type": "markdown",
   "metadata": {},
   "source": [
    "This option is only available for Windows version 11 or higher.\n",
    "\n",
    "Full details about the installation of WSL as well as compatible versions of Windows can be found in the following link:\n",
    "    \n",
    "https://learn.microsoft.com/en-us/windows/wsl/install\n",
    "\n",
    "There are several options for running your installed Linux distribution listed on the link provided above. We recommend Windows Terminal (https://learn.microsoft.com/en-us/windows/terminal/install) for running Linux."
   ]
  },
  {
   "cell_type": "markdown",
   "metadata": {},
   "source": [
    "Once WSL has been properly installed, open your Linux distributions (or Windows Terminal) and follow the steps below:\n",
    "\n",
    "1. Install the Fortran compiler if not available, we recommend GCC-Fortran. Details about the installation can be found in the following link: https://fortran-lang.org/learn/os_setup/install_gfortran/\n",
    "\n",
    "2. Run the following commands within the DRYP folder:\n",
    "\n",
    "    pip install -r requirements/requirements.in\n",
    "    \n",
    "    sh install_fortran_dependencies.sh\n"
   ]
  },
  {
   "cell_type": "markdown",
   "metadata": {},
   "source": [
    "##### b) Using Docker"
   ]
  },
  {
   "cell_type": "markdown",
   "metadata": {},
   "source": [
    "\n",
    "https://github.com/AndresQuichimbo/DRYPv2.0.1/tree/e62f4df18f379225f60e1b65e6677c409b5b5b2d/docker\n"
   ]
  },
  {
   "cell_type": "markdown",
   "metadata": {},
   "source": [
    "#### Installing DRYP in Linux:\n",
    "\n",
    "From the project root folder, run the following code in the terminal:\n",
    "\n",
    "pip install -r requirements/requirements.in\n",
    "\n",
    "sh install_fortran_dependencies.sh"
   ]
  },
  {
   "cell_type": "markdown",
   "metadata": {},
   "source": [
    "if fortran libraries are not installed, you will have to add the module gcc-gfortran.\n",
    "\n",
    "Check if module is availble in the server by:\n",
    "\n",
    "module avail\n",
    "\n",
    "if it module is available, then upload into you account:\n",
    "\n",
    "module add <path to gcc>"
   ]
  },
  {
   "cell_type": "markdown",
   "metadata": {},
   "source": [
    "### Running model test"
   ]
  },
  {
   "cell_type": "markdown",
   "metadata": {},
   "source": [
    "Running the following line will run a series of test that will confirm that the model is working well.\n"
   ]
  },
  {
   "cell_type": "markdown",
   "metadata": {
    "tags": []
   },
   "source": [
    "\n",
    "\n",
    "sh run_all_test.sh"
   ]
  },
  {
   "cell_type": "markdown",
   "metadata": {},
   "source": [
    "### Setting model path"
   ]
  },
  {
   "cell_type": "markdown",
   "metadata": {},
   "source": [
    "To call the model from the current working directory you should specify the location of the model files."
   ]
  },
  {
   "cell_type": "code",
   "execution_count": null,
   "metadata": {},
   "outputs": [],
   "source": [
    "# Import libraries from local repository\n",
    "import sys\n",
    "sys.path.append('C:/Users/Edisson/Documents/GitHub/DRYPv2.0.1') # CHANGE THIS TO YOUR MODEL PATH\n"
   ]
  },
  {
   "cell_type": "markdown",
   "metadata": {},
   "source": [
    "Calling the DRYP"
   ]
  },
  {
   "cell_type": "code",
   "execution_count": null,
   "metadata": {},
   "outputs": [],
   "source": [
    "from dryp.main_DRYP import run_DRYP"
   ]
  },
  {
   "cell_type": "markdown",
   "metadata": {},
   "source": [
    "Calling the preprocessing component"
   ]
  },
  {
   "cell_type": "code",
   "execution_count": null,
   "metadata": {},
   "outputs": [],
   "source": [
    "import dryp.components.DRYP_watershed as ppbasin\n",
    "import tools.DRYP_rrtools as rrtools"
   ]
  },
  {
   "cell_type": "markdown",
   "metadata": {},
   "source": [
    "Calling post processing component"
   ]
  },
  {
   "cell_type": "code",
   "execution_count": null,
   "metadata": {},
   "outputs": [],
   "source": [
    "\n",
    "import tools.DRYP_rrtools as rrtools"
   ]
  },
  {
   "cell_type": "markdown",
   "metadata": {},
   "source": [
    "Submit a job to HPC (when using miniconda)\n",
    "\n",
    "activate the dryp environment:\n",
    "\n",
    "source ~/.bashrc\n",
    "\n",
    "source activate cwls"
   ]
  },
  {
   "cell_type": "code",
   "execution_count": null,
   "metadata": {},
   "outputs": [],
   "source": []
  }
 ],
 "metadata": {
  "kernelspec": {
   "display_name": "Python 3 (ipykernel)",
   "language": "python",
   "name": "python3"
  },
  "language_info": {
   "codemirror_mode": {
    "name": "ipython",
    "version": 3
   },
   "file_extension": ".py",
   "mimetype": "text/x-python",
   "name": "python",
   "nbconvert_exporter": "python",
   "pygments_lexer": "ipython3",
   "version": "3.11.6"
  }
 },
 "nbformat": 4,
 "nbformat_minor": 4
}
