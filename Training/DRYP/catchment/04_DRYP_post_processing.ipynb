{
 "cells": [
  {
   "cell_type": "markdown",
   "metadata": {},
   "source": [
    "# CUWALID TRAINING"
   ]
  },
  {
   "cell_type": "markdown",
   "metadata": {},
   "source": [
    "## DRYP: Creating a catchment scale model"
   ]
  },
  {
   "cell_type": "markdown",
   "metadata": {},
   "source": [
    "This section (in bold) is part of the CUWALID training material:\n",
    "\n",
    "1. Preparing model input parameters and dataset\n",
    "2. Running a catchment scale DRYP model\n",
    "3. ***Post-processing DRYP model outputs***"
   ]
  },
  {
   "cell_type": "markdown",
   "metadata": {},
   "source": [
    "### 3. Post-processing datasets"
   ]
  },
  {
   "cell_type": "markdown",
   "metadata": {},
   "source": [
    "1. Understanding model outputs\n",
    "2. Post-processing model outputs\n",
    "3. Sampling model outputs"
   ]
  },
  {
   "cell_type": "code",
   "execution_count": 2,
   "metadata": {},
   "outputs": [],
   "source": [
    "# Import libraries from a local repository\n",
    "import os\n",
    "import sys\n",
    "#sys.path.append(\"C:/Users/Edisson/Documents/GitHub/CUWALID\") # DELETE THIS LINE AS THE PACKAGE CONTAINS ALL\n",
    "\n",
    "import cuwalid.dryp.components.DRYP_watershed as ppbasin # component for basin delineation\n",
    "import cuwalid.tools.DRYP_plot_tools as plotcwld # component to read model input files\n",
    "import cuwalid.tools.DRYP_pptools as pptools # Component for postprocessing model output files\n",
    "import cuwalid.tools.DRYP_rrtools as rrtools # Component for preprocessing raster datasets"
   ]
  },
  {
   "cell_type": "code",
   "execution_count": 3,
   "metadata": {},
   "outputs": [],
   "source": [
    "# Import general libraries\n",
    "import pandas as pd\n",
    "import numpy as np\n",
    "import matplotlib.pyplot as plt\n",
    "import shapefile as shp\n",
    "import xarray as xr\n",
    "import rasterio"
   ]
  },
  {
   "cell_type": "markdown",
   "metadata": {},
   "source": [
    "**NOTE**: Before you start, please change the path to access the following directories:"
   ]
  },
  {
   "cell_type": "raw",
   "metadata": {},
   "source": [
    "Local_directory\n",
    "|__training\n",
    "      |__basin\n",
    "      |   |__datasets\n",
    "      |   |    |__csv\n",
    "      |   |    |__shp\n",
    "      |   |__model\n",
    "      |   |    |__input\n",
    "      |   |__outputs\n",
    "      |__regional"
   ]
  },
  {
   "cell_type": "code",
   "execution_count": 38,
   "metadata": {},
   "outputs": [],
   "source": [
    "training_general_path = \"D:/HAD/training/\"\n",
    "regional_path = \"D:/HAD/training/regional/\"\n",
    "basin_path = \"D:/HAD/training/basin/\"\n"
   ]
  },
  {
   "cell_type": "code",
   "execution_count": 39,
   "metadata": {},
   "outputs": [],
   "source": [
    "global_path = \"\"\n",
    "global_path = \"D:/HAD/training/historical/basin/\""
   ]
  },
  {
   "cell_type": "markdown",
   "metadata": {},
   "source": [
    "Specify the location of the model input parameter files, remember that this is the JSON file. We are going to use this input file to get all model parameter paths as well as output paths."
   ]
  },
  {
   "cell_type": "code",
   "execution_count": 40,
   "metadata": {},
   "outputs": [],
   "source": [
    "# get path of model parameter setting file\n",
    "path_input = os.path.join(global_path, \"model/AW_input.json\")"
   ]
  },
  {
   "cell_type": "markdown",
   "metadata": {},
   "source": [
    "Read the list of model input parameter files directly from the JSON file. You can use the the following function to read the JSON file, however, note that you can write all paths directly in the funtion."
   ]
  },
  {
   "cell_type": "code",
   "execution_count": 41,
   "metadata": {},
   "outputs": [],
   "source": [
    "# function to read a model parameter setting file as a dictionary\n",
    "path_paramters = plotcwld.read_json_file(path_input)"
   ]
  },
  {
   "cell_type": "code",
   "execution_count": 42,
   "metadata": {},
   "outputs": [],
   "source": [
    "# function to get path of model outputs\n",
    "path_outputs = pptools.get_output_filenames(path_input)"
   ]
  },
  {
   "cell_type": "markdown",
   "metadata": {},
   "source": [
    "#### 4.1. Understanding model outputs"
   ]
  },
  {
   "cell_type": "markdown",
   "metadata": {},
   "source": [
    "Model results are stored in two different formats:\n",
    "\n",
    "* Comma delimited files (*.csv*) to store time series, and\n",
    "* netCDF files (*.nc*) to store gridded output datasets\n",
    "* ascii raster files (*.asc*) to store hydrological states for initial condions"
   ]
  },
  {
   "cell_type": "markdown",
   "metadata": {},
   "source": [
    "Model outputs stored in csv files store model results at specified locations as well as average model results.\n",
    "Point location result files have a letter \"p\" followed by name of the stored variable (e.g. tht) added at the end\n",
    "of the name of the file. Basin average results have the letters \"avg\" added at the end of the file name."
   ]
  },
  {
   "cell_type": "code",
   "execution_count": 48,
   "metadata": {},
   "outputs": [],
   "source": [
    "####File does not exist\n",
    "fsim = [\n",
    "#basin_path + \"output/Tana_IMb_sim_p_dis_avg.csv\",\n",
    "]\n"
   ]
  },
  {
   "cell_type": "markdown",
   "metadata": {},
   "source": [
    "**TASK**: Take a look at the content of the file specified above. HINT: use pandas to open and explore the dataset"
   ]
  },
  {
   "cell_type": "code",
   "execution_count": 49,
   "metadata": {},
   "outputs": [],
   "source": [
    "fields = ['pre_0', 'rch_0', 'aet_0', 'gdh_0', 'egw_0', 'twsc_0', 'run_0']"
   ]
  },
  {
   "cell_type": "code",
   "execution_count": 50,
   "metadata": {},
   "outputs": [
    {
     "name": "stderr",
     "output_type": "stream",
     "text": [
      "C:\\Users\\Edisson\\.conda\\envs\\tdryp\\Lib\\site-packages\\cuwalid\\tools\\DRYP_plot_tools.py:126: FutureWarning: 'M' is deprecated and will be removed in a future version, please use 'ME' instead.\n",
      "  df2 = df.resample(delta_t).mean().reset_index()\n",
      "C:\\Users\\Edisson\\.conda\\envs\\tdryp\\Lib\\site-packages\\cuwalid\\tools\\DRYP_plot_tools.py:129: FutureWarning: 'M' is deprecated and will be removed in a future version, please use 'ME' instead.\n",
      "  df2 = df.resample(delta_t).mean(numeric_only=True).reset_index()\n",
      "C:\\Users\\Edisson\\.conda\\envs\\tdryp\\Lib\\site-packages\\cuwalid\\tools\\DRYP_plot_tools.py:130: FutureWarning: 'M' is deprecated and will be removed in a future version, please use 'ME' instead.\n",
      "  df = df.resample(delta_t).sum(numeric_only=True).reset_index()\n",
      "No artists with labels found to put in legend.  Note that artists whose label start with an underscore are ignored when legend() is called with no argument.\n"
     ]
    },
    {
     "data": {
      "text/plain": [
       "array([<Axes: ylabel='precipitation\\n[mm/dt]'>,\n",
       "       <Axes: ylabel='total\\ngroundwater\\nrecharge\\n[mm/dt]'>,\n",
       "       <Axes: ylabel='actual\\nevapotranspiration\\n[mm/dt]'>,\n",
       "       <Axes: ylabel='groundwater\\ndischarge\\n[m3/dt]'>,\n",
       "       <Axes: ylabel='groundwater\\nevaporation\\n[mm/dt]'>,\n",
       "       <Axes: ylabel='water\\nstorage\\nchange\\n[mm]'>,\n",
       "       <Axes: xlabel='Date', ylabel='runoff\\n[mm/dt]'>], dtype=object)"
      ]
     },
     "execution_count": 50,
     "metadata": {},
     "output_type": "execute_result"
    },
    {
     "data": {
      "image/png": "[encoded data removed]",
      "text/plain": [
       "<Figure size 900x875 with 7 Axes>"
      ]
     },
     "metadata": {},
     "output_type": "display_data"
    }
   ],
   "source": [
    "# Call function to plot average values of model outputs, it is *CSV file with \"avg\" at the end of the name\n",
    "plotcwld.plot_avg_var(os.path.join(global_path, path_outputs.path_csv[\"avg\"]),\n",
    "                      fields=fields, delta_t=\"1M\"\n",
    "                     )"
   ]
  },
  {
   "cell_type": "code",
   "execution_count": 51,
   "metadata": {},
   "outputs": [],
   "source": [
    "def aggregate_slice_csv(fname, agg_step='M', mean=True,\n",
    "                        date_start='2000-01-01', date_end='2023-01-01',\n",
    "                        timefield='Date'):\n",
    "\tdf = pd.read_csv(fname)\n",
    "\tdf[timefield] = pd.to_datetime(df[timefield])\n",
    "\tdf = df[df[timefield].between(date_start, date_end)]\n",
    "\tdf.index = pd.DatetimeIndex(df[timefield])\n",
    "\tif mean is True:\n",
    "\t\tdf = df.resample(agg_step).mean().reset_index()\n",
    "\telse:\n",
    "\t\tdf = df.resample(agg_step).sum().reset_index()\n",
    "\treturn df"
   ]
  },
  {
   "cell_type": "code",
   "execution_count": null,
   "metadata": {},
   "outputs": [],
   "source": [
    "# plot data\n",
    "fig, ax = plt.subplots(3, 1, sharex=True)\n",
    "fig.set_size_inches(9, 4.5)\n",
    "label = ['pre', 'tht', \"aet\"]#, \"twsc\"]\n",
    "field = ['pre_0','tht_0', \"aet_0\"]#, \"twsc_0\"]\n",
    "#ilabel = \"sim\"\n",
    "for ifname in fsim:\n",
    "    for ifield, ilabel, iax in zip(field, label, fig.axes):\n",
    "        data = aggregate_slice_csv(ifname, timefield='Date')\n",
    "        #ax.plot(data['date'], data['flow(m3/s)'], label=ilabel)#data.plot(y='Flow (Cumecs)')        \n",
    "        if ifield == \"twsc_0\":\n",
    "            iax.plot(data['Date'], np.cumsum(data[ifield]))#, label=ilabel)\n",
    "        elif ifield == \"tht_0\":\n",
    "            iax.plot(data['Date'], data[ifield])#, scale=True)\n",
    "        else:\n",
    "            iax.plot(data['Date'], data[ifield])#, label=ilabel)\n",
    "        \n",
    "        iax.set_ylabel(ilabel)\n",
    "iax.legend([\"Sim\"], frameon=False)"
   ]
  },
  {
   "cell_type": "markdown",
   "metadata": {},
   "source": [
    "Reading output stored at specific locations"
   ]
  },
  {
   "cell_type": "code",
   "execution_count": 53,
   "metadata": {},
   "outputs": [],
   "source": [
    "fnamesim=[\n",
    "#basin_path + \"output/Juba_IMa_sim_p_dis.csv\",\n",
    "]\n",
    "#/Users/isamarcortes/Downloads/training/basin/output/Juba_IMa_sim_p_dis.csv"
   ]
  },
  {
   "cell_type": "code",
   "execution_count": null,
   "metadata": {},
   "outputs": [],
   "source": [
    "fig, ax = plt.subplots(2, 1, sharex=True)\n",
    "fig.set_size_inches(9, 3)\n",
    "\n",
    "for ifnamesim in fnamesim:\n",
    "    data = aggregate_slice_csv(ifnamesim)\n",
    "    stn = ['dis_5', \"dis_3\"]\n",
    "    for istn, iax in zip(stn, fig.axes):\n",
    "        iax.plot(data['Date'], data[istn]/30.5/86400, label='Sim')\n",
    "        iax.set_ylabel(\"Flow (m3/s)\")"
   ]
  },
  {
   "cell_type": "code",
   "execution_count": 55,
   "metadata": {},
   "outputs": [],
   "source": [
    "# uncomment this line and save it in a local directory\n",
    "#fname_out = 'd:/HAD_basins/basin_postpp/fig/Juba_streamflow.png'\n",
    "#fig.savefig(fname_out, dpi=300)"
   ]
  },
  {
   "cell_type": "code",
   "execution_count": 56,
   "metadata": {},
   "outputs": [
    {
     "name": "stderr",
     "output_type": "stream",
     "text": [
      "C:\\Users\\Edisson\\.conda\\envs\\tdryp\\Lib\\site-packages\\cuwalid\\tools\\DRYP_plot_tools.py:213: FutureWarning: 'M' is deprecated and will be removed in a future version, please use 'ME' instead.\n",
      "  df = df.resample(delta_t).mean().reset_index()\n",
      "C:\\Users\\Edisson\\.conda\\envs\\tdryp\\Lib\\site-packages\\cuwalid\\tools\\DRYP_plot_tools.py:215: FutureWarning: 'M' is deprecated and will be removed in a future version, please use 'ME' instead.\n",
      "  df = df.resample(delta_t).mean(numeric_only=True).reset_index()\n"
     ]
    },
    {
     "data": {
      "text/plain": [
       "<Axes: xlabel='Date', ylabel='water\\ntable\\nelevation\\n[m]'>"
      ]
     },
     "execution_count": 56,
     "metadata": {},
     "output_type": "execute_result"
    },
    {
     "data": {
      "image/png": "[encoded data removed]",
      "text/plain": [
       "<Figure size 800x250 with 1 Axes>"
      ]
     },
     "metadata": {},
     "output_type": "display_data"
    }
   ],
   "source": [
    "# call the function to plot point values at locations specified in the model parameter file\n",
    "plotcwld.plot_point_var(os.path.join(global_path, path_outputs.path_csv[\"point\"][\"wte\"]),\n",
    "                        fields=[\"wte_0\"],\n",
    "                        delta_t=\"1M\")"
   ]
  },
  {
   "cell_type": "markdown",
   "metadata": {},
   "source": [
    "**TASK**: plot groundwater recharge and total water storage at specific locations and basin average results."
   ]
  },
  {
   "cell_type": "markdown",
   "metadata": {},
   "source": [
    "Gridded datasets are stored by DRYP in netCDF and raster files. NetCFD files store temporal grided datasets whereas raster datasets store the last step of the simulation."
   ]
  },
  {
   "cell_type": "markdown",
   "metadata": {},
   "source": [
    "The following variables are stored as netCDF files:"
   ]
  },
  {
   "cell_type": "markdown",
   "metadata": {},
   "source": [
    "* Precipitaion (pre)\n",
    "* Potential evapotranspiration (pet)\n",
    "* Actual evapotranspiration (aet)\n",
    "* soil water content (tht)\n",
    "* Total groundwater recharge (rch)\n",
    "* Focused groundwater recharge (fch)\n",
    "* Water table elevation (wte)\n",
    "* Groundwater discharge (gdh)\n",
    "* Groundwater Evapotranspiration (egw)\n",
    "* Streamflow (dis)\n",
    "* Infiltration (inf)\n",
    "* Runoff (run)\n",
    "* Total water storage (twsc)\n",
    "* soil water content riparian zone (tht)\n"
   ]
  },
  {
   "cell_type": "markdown",
   "metadata": {},
   "source": [
    "NetCDF files are easily handled with xarray, although netCDF4 or geopands can also be used to deal with this files."
   ]
  },
  {
   "cell_type": "code",
   "execution_count": null,
   "metadata": {},
   "outputs": [],
   "source": [
    "#/Users/isamarcortes/Downloads/training/basin/output/Tana_IMb_sim_grid.nc\n",
    "fname_nc = basin_path + \"output/Tana_IMb_sim_grid.nc\""
   ]
  },
  {
   "cell_type": "code",
   "execution_count": null,
   "metadata": {},
   "outputs": [],
   "source": [
    "#xr.open_dataset(fname_nc)"
   ]
  },
  {
   "cell_type": "code",
   "execution_count": null,
   "metadata": {},
   "outputs": [],
   "source": [
    "def read_dataset(fname, var_name='tht'):\n",
    "\t# Open the first netCDF file\n",
    "\tdata = xr.open_dataset(fname)\n",
    "\tdata = data[var_name]\n",
    "\treturn data\n",
    "\n",
    "def slice_dataset_time(dataset, start_time=\"2003-01-01\", end_time=\"2012-01-01\"):\n",
    "\t# Slice the dataset between two dates\n",
    "\tdataset = dataset.sel(time=slice(start_time, end_time))\n",
    "\treturn dataset"
   ]
  },
  {
   "cell_type": "code",
   "execution_count": null,
   "metadata": {},
   "outputs": [],
   "source": [
    "#read_dataset(fname_nc, var_name='tht')"
   ]
  },
  {
   "cell_type": "markdown",
   "metadata": {},
   "source": [
    "DRYP stores as raster files, at the end of the simulation, the following variables:\n",
    "\n",
    "* water table elevation\n",
    "* soil and riparian water content\n",
    "* surface water storage\n"
   ]
  },
  {
   "cell_type": "markdown",
   "metadata": {},
   "source": [
    "Raster files can easily be handled with rasterio."
   ]
  },
  {
   "cell_type": "code",
   "execution_count": null,
   "metadata": {},
   "outputs": [],
   "source": [
    "def plot_raster_file(fname, ax=None, vmin=-20.0, vmax=20.0):\n",
    "    # create plot\n",
    "    if ax is None:\n",
    "        fig, ax = plt.subplots()\n",
    "    cmap = plt.cm.get_cmap('coolwarm_r', 12)\n",
    "    data = rasterio.open(fname).read(1)\n",
    "    im = ax.imshow(data,# origin=\"lower\",#cmap=cmap, \n",
    "                   #vmin=vmin, vmax=vmax,\n",
    "                   )#extent=bounds)\t\n",
    "    \n",
    "    ax.axis('off')\n",
    "    plt.colorbar(im)\n",
    "    return im"
   ]
  },
  {
   "cell_type": "code",
   "execution_count": null,
   "metadata": {},
   "outputs": [],
   "source": [
    "\n",
    "fname_raster = basin_path + \"output/Tana_IMb_sim_avg_wte_ini.asc\""
   ]
  },
  {
   "cell_type": "code",
   "execution_count": null,
   "metadata": {},
   "outputs": [],
   "source": [
    "plot_raster_file(fname_raster, ax=None, vmin=-20.0, vmax=20.0)"
   ]
  },
  {
   "cell_type": "markdown",
   "metadata": {},
   "source": [
    "#### 4.2. Post-processing model outputs"
   ]
  },
  {
   "cell_type": "markdown",
   "metadata": {},
   "source": [
    "A post-processing component (DRYP_pptools) has been added to DRYP to perform basic operation with model outputs. This tool is still under\n",
    "development therefore capabilities are limited.\n",
    "\n",
    "Bellow some of the operations that can be performed with DRYP_pptools are listed, some examples are also shown below: "
   ]
  },
  {
   "cell_type": "markdown",
   "metadata": {},
   "source": [
    "1. Calulate long term average\n",
    "2. Calculate soil saturation\n",
    "3. calculate WRSI\n",
    "4. Calculate anomalies\n",
    "5. Calculate total water storage anomalies (TWSA)\n",
    "6. Calculate seasonal average\n",
    "7. calculate seasonal anomalies\n",
    "8. Sampling model outputs"
   ]
  },
  {
   "cell_type": "markdown",
   "metadata": {},
   "source": [
    "Initiallize DRYP post processing tool library"
   ]
  },
  {
   "cell_type": "markdown",
   "metadata": {},
   "source": [
    "Initialize the grid postprocessing tool, this step will create a python object with all model output filenames. This function uses the model parameter input file to get model output and paths:"
   ]
  },
  {
   "cell_type": "code",
   "execution_count": null,
   "metadata": {},
   "outputs": [],
   "source": [
    "file_model_input = basin_path + \"model/HAD_IMERG_Tana_input_sim.dmp\""
   ]
  },
  {
   "cell_type": "code",
   "execution_count": null,
   "metadata": {},
   "outputs": [],
   "source": [
    "#gridpp = pptools.grid_pptools(file_model_input)"
   ]
  },
  {
   "cell_type": "markdown",
   "metadata": {},
   "source": [
    "When runing the function bellow, the long term average, WRSI, and TWSA will be estimated. These functions will directly use model paths and output files specified in the input model file"
   ]
  },
  {
   "cell_type": "code",
   "execution_count": null,
   "metadata": {},
   "outputs": [],
   "source": [
    "#gridpp.get_mean() # save mean values\n",
    "#gridpp.get_wrsi() # save wsri\n",
    "#gridpp.get_twsa() # save total water storage anomaly"
   ]
  },
  {
   "cell_type": "markdown",
   "metadata": {},
   "source": [
    "We can also use DRYP_pptools without initalising the gridded component. We can directly call all the functions used by the post processing tools. This function is useful when model outputs are located in other folders.\n",
    "\n",
    "A detailed description of each function can be found in DRYP documentation, which is located in DRYP/doc/build/html (you can use your browser to open html files). "
   ]
  },
  {
   "cell_type": "markdown",
   "metadata": {},
   "source": [
    "1. Calculate the long term average of model fluxes"
   ]
  },
  {
   "cell_type": "code",
   "execution_count": 24,
   "metadata": {},
   "outputs": [],
   "source": [
    "# get the path of the gridded output dataset\n",
    "fname_nc = os.path.join(global_path, path_outputs.path_grid[\"grid\"])"
   ]
  },
  {
   "cell_type": "code",
   "execution_count": 25,
   "metadata": {},
   "outputs": [],
   "source": [
    "fields = ['pre', 'inf', 'pet', 'rch', 'aet', 'gdh', 'egw', 'fch', 'twsc', 'run']"
   ]
  },
  {
   "cell_type": "code",
   "execution_count": 26,
   "metadata": {},
   "outputs": [
    {
     "name": "stderr",
     "output_type": "stream",
     "text": [
      "C:\\Users\\Edisson\\.conda\\envs\\tdryp\\Lib\\site-packages\\xarray\\groupers.py:490: FutureWarning: 'Y' is deprecated and will be removed in a future version, please use 'YE' instead.\n",
      "  self.index_grouper = pd.Grouper(\n",
      "C:\\Users\\Edisson\\.conda\\envs\\tdryp\\Lib\\site-packages\\xarray\\groupers.py:490: FutureWarning: 'Y' is deprecated and will be removed in a future version, please use 'YE' instead.\n",
      "  self.index_grouper = pd.Grouper(\n",
      "C:\\Users\\Edisson\\.conda\\envs\\tdryp\\Lib\\site-packages\\xarray\\groupers.py:490: FutureWarning: 'Y' is deprecated and will be removed in a future version, please use 'YE' instead.\n",
      "  self.index_grouper = pd.Grouper(\n",
      "C:\\Users\\Edisson\\.conda\\envs\\tdryp\\Lib\\site-packages\\xarray\\groupers.py:490: FutureWarning: 'Y' is deprecated and will be removed in a future version, please use 'YE' instead.\n",
      "  self.index_grouper = pd.Grouper(\n",
      "C:\\Users\\Edisson\\.conda\\envs\\tdryp\\Lib\\site-packages\\xarray\\groupers.py:490: FutureWarning: 'Y' is deprecated and will be removed in a future version, please use 'YE' instead.\n",
      "  self.index_grouper = pd.Grouper(\n",
      "C:\\Users\\Edisson\\.conda\\envs\\tdryp\\Lib\\site-packages\\xarray\\groupers.py:490: FutureWarning: 'Y' is deprecated and will be removed in a future version, please use 'YE' instead.\n",
      "  self.index_grouper = pd.Grouper(\n",
      "C:\\Users\\Edisson\\.conda\\envs\\tdryp\\Lib\\site-packages\\xarray\\groupers.py:490: FutureWarning: 'Y' is deprecated and will be removed in a future version, please use 'YE' instead.\n",
      "  self.index_grouper = pd.Grouper(\n",
      "C:\\Users\\Edisson\\.conda\\envs\\tdryp\\Lib\\site-packages\\xarray\\groupers.py:490: FutureWarning: 'Y' is deprecated and will be removed in a future version, please use 'YE' instead.\n",
      "  self.index_grouper = pd.Grouper(\n",
      "C:\\Users\\Edisson\\.conda\\envs\\tdryp\\Lib\\site-packages\\xarray\\groupers.py:490: FutureWarning: 'Y' is deprecated and will be removed in a future version, please use 'YE' instead.\n",
      "  self.index_grouper = pd.Grouper(\n",
      "C:\\Users\\Edisson\\.conda\\envs\\tdryp\\Lib\\site-packages\\xarray\\groupers.py:490: FutureWarning: 'Y' is deprecated and will be removed in a future version, please use 'YE' instead.\n",
      "  self.index_grouper = pd.Grouper(\n"
     ]
    }
   ],
   "source": [
    "pptools.calculate_mean_from_netCDF(fname_nc, field=fields)#, fname_out=None, deltat='Y', start_time='2000-20-1', end_time=None)"
   ]
  },
  {
   "cell_type": "markdown",
   "metadata": {},
   "source": [
    "2. Calculate saturation"
   ]
  },
  {
   "cell_type": "code",
   "execution_count": 27,
   "metadata": {},
   "outputs": [],
   "source": [
    "# get the path of the wilting point\n",
    "path_wp = os.path.join(global_path, path_paramters[\"path_input\"], path_paramters[\"UNSATURATED\"][\"path_uz_theta_wp\"])\n",
    "\n",
    "# get the path of the wilting point\n",
    "path_sat = os.path.join(global_path, path_paramters[\"path_input\"], path_paramters[\"UNSATURATED\"][\"path_uz_theta_sat\"])"
   ]
  },
  {
   "cell_type": "code",
   "execution_count": 28,
   "metadata": {},
   "outputs": [],
   "source": [
    "# Call function to calculate saturation from netCDF file\n",
    "#fname_nc = os.path.join(global_path, path_outputs.path_grid[\"grid\"])\n",
    "pptools.calculate_saturation_from_netCDF(fname_nc, path_wp, path_sat, fname_out=None,\n",
    "\t\t\t\t\t\t\t\t\t var_name=\"tht\",)"
   ]
  },
  {
   "cell_type": "markdown",
   "metadata": {},
   "source": [
    "2. Calculate storage change in all model components"
   ]
  },
  {
   "cell_type": "code",
   "execution_count": 29,
   "metadata": {},
   "outputs": [],
   "source": [
    "# get the path of the surface elevation\n",
    "path_dem = os.path.join(global_path, path_paramters[\"path_input\"], path_paramters[\"TERRAIN\"][\"path_dem\"])\n",
    "\n",
    "# get the path of root depth\n",
    "path_Droot = os.path.join(global_path, path_paramters[\"path_input\"], path_paramters[\"UNSATURATED\"][\"path_uz_rootdepth\"])\n",
    "\n",
    "# get the path of aquifer specific yield\n",
    "path_Sy = os.path.join(global_path, path_paramters[\"path_input\"], path_paramters[\"SATURATED\"][\"path_sz_sy\"])"
   ]
  },
  {
   "cell_type": "code",
   "execution_count": 30,
   "metadata": {},
   "outputs": [
    {
     "name": "stderr",
     "output_type": "stream",
     "text": [
      "C:\\Users\\Edisson\\.conda\\envs\\tdryp\\Lib\\site-packages\\xarray\\groupers.py:490: FutureWarning: 'M' is deprecated and will be removed in a future version, please use 'ME' instead.\n",
      "  self.index_grouper = pd.Grouper(\n",
      "C:\\Users\\Edisson\\.conda\\envs\\tdryp\\Lib\\site-packages\\xarray\\groupers.py:490: FutureWarning: 'M' is deprecated and will be removed in a future version, please use 'ME' instead.\n",
      "  self.index_grouper = pd.Grouper(\n"
     ]
    }
   ],
   "source": [
    "pptools.calculate_storage_from_files(fname_nc, path_dem, path_Droot, path_sat, path_Sy,\n",
    "\t\t\t\t\t\t\t\t  path_bathymetry=None, path_bottom=None,\n",
    "\t\t\t\t\t\t\t\t  start_time=None, end_time=None, fname_out=None,\n",
    "\t\t\t\t\t\t\t\t  anomalies=True)"
   ]
  },
  {
   "cell_type": "markdown",
   "metadata": {},
   "source": [
    "**TASK** Plot long term average values of focused recharge"
   ]
  },
  {
   "cell_type": "markdown",
   "metadata": {},
   "source": [
    "2. Calculate the lWater Requirement Satisfaction Index (WRSI)"
   ]
  },
  {
   "cell_type": "code",
   "execution_count": 31,
   "metadata": {},
   "outputs": [
    {
     "name": "stderr",
     "output_type": "stream",
     "text": [
      "C:\\Users\\Edisson\\.conda\\envs\\tdryp\\Lib\\site-packages\\xarray\\groupers.py:490: FutureWarning: 'Y' is deprecated and will be removed in a future version, please use 'YE' instead.\n",
      "  self.index_grouper = pd.Grouper(\n",
      "C:\\Users\\Edisson\\.conda\\envs\\tdryp\\Lib\\site-packages\\xarray\\groupers.py:490: FutureWarning: 'Y' is deprecated and will be removed in a future version, please use 'YE' instead.\n",
      "  self.index_grouper = pd.Grouper(\n"
     ]
    }
   ],
   "source": [
    "pptools.calculate_WRSI_from_netCDF(fname_nc)"
   ]
  },
  {
   "cell_type": "markdown",
   "metadata": {},
   "source": [
    "3. Calculate Total Water Storage Anomalies (TWSA)"
   ]
  },
  {
   "cell_type": "code",
   "execution_count": 32,
   "metadata": {},
   "outputs": [
    {
     "name": "stderr",
     "output_type": "stream",
     "text": [
      "C:\\Users\\Edisson\\.conda\\envs\\tdryp\\Lib\\site-packages\\xarray\\groupers.py:490: FutureWarning: 'M' is deprecated and will be removed in a future version, please use 'ME' instead.\n",
      "  self.index_grouper = pd.Grouper(\n"
     ]
    }
   ],
   "source": [
    "pptools.calculate_twsa_from_netCDF(fname_nc)\n"
   ]
  },
  {
   "cell_type": "markdown",
   "metadata": {},
   "source": [
    "4. Calculate Aridity Index (AI)"
   ]
  },
  {
   "cell_type": "code",
   "execution_count": 35,
   "metadata": {},
   "outputs": [],
   "source": [
    "#pptools.calculate_AI_from_netCDF(fname_pre, fname_pet)"
   ]
  },
  {
   "cell_type": "markdown",
   "metadata": {},
   "source": [
    "5. Calculate the anomalies"
   ]
  },
  {
   "cell_type": "code",
   "execution_count": 36,
   "metadata": {},
   "outputs": [
    {
     "name": "stderr",
     "output_type": "stream",
     "text": [
      "C:\\Users\\Edisson\\.conda\\envs\\tdryp\\Lib\\site-packages\\xarray\\groupers.py:490: FutureWarning: 'Y' is deprecated and will be removed in a future version, please use 'YE' instead.\n",
      "  self.index_grouper = pd.Grouper(\n"
     ]
    }
   ],
   "source": [
    "pptools.calculate_anomalies_from_netCDF(fname_nc)"
   ]
  },
  {
   "cell_type": "markdown",
   "metadata": {},
   "source": [
    "6. Calculate seasonal averages"
   ]
  },
  {
   "cell_type": "code",
   "execution_count": 37,
   "metadata": {},
   "outputs": [
    {
     "name": "stderr",
     "output_type": "stream",
     "text": [
      "C:\\Users\\Edisson\\.conda\\envs\\tdryp\\Lib\\site-packages\\xarray\\groupers.py:490: FutureWarning: 'M' is deprecated and will be removed in a future version, please use 'ME' instead.\n",
      "  self.index_grouper = pd.Grouper(\n",
      "C:\\Users\\Edisson\\.conda\\envs\\tdryp\\Lib\\site-packages\\xarray\\groupers.py:490: FutureWarning: 'Y' is deprecated and will be removed in a future version, please use 'YE' instead.\n",
      "  self.index_grouper = pd.Grouper(\n"
     ]
    }
   ],
   "source": [
    "pptools.calculate_seasonal_average_from_netCDF(fname_nc, season=\"OND\")"
   ]
  },
  {
   "cell_type": "markdown",
   "metadata": {},
   "source": [
    "#### 4.3. Sampling model outputs"
   ]
  },
  {
   "cell_type": "markdown",
   "metadata": {},
   "source": [
    "Analysing model outputs often requires extracting especific values from gridded datasets that where not stored as *.csv* files.\n",
    "Python has different libraries to process netCDF files that can be uses to extract values from gridded datasets. Here, we have combined some of the Python libraries to facilitate DRYP postprocessing outputs, these functions have beed added into the DRYP pptool."
   ]
  },
  {
   "cell_type": "markdown",
   "metadata": {},
   "source": [
    "* Extranting values from point locations"
   ]
  },
  {
   "cell_type": "code",
   "execution_count": null,
   "metadata": {},
   "outputs": [],
   "source": [
    "fname_points = basin_path + \"/Tana/input/HAD_tana_dryp_station_utm.csv\"\n",
    "fname_netcdf = regional_path + \"output/HAD_IMERG_sim_ini_grid.nc\""
   ]
  },
  {
   "cell_type": "code",
   "execution_count": null,
   "metadata": {},
   "outputs": [],
   "source": [
    "df = pptools.get_dataframe_point_from_netcdf(fname_netcdf, fname_points, field='dis')"
   ]
  },
  {
   "cell_type": "markdown",
   "metadata": {},
   "source": [
    "**TASK**: Explore and plot the created dataframe"
   ]
  },
  {
   "cell_type": "markdown",
   "metadata": {},
   "source": [
    "* Extracting values from specified regions"
   ]
  },
  {
   "cell_type": "markdown",
   "metadata": {},
   "source": [
    "For this task, a region has to be provided, it can be as raster file or a shapefile.\n",
    "\n",
    "As an example a shape file will be used to extract infomation from a netCDF file."
   ]
  },
  {
   "cell_type": "code",
   "execution_count": null,
   "metadata": {},
   "outputs": [],
   "source": [
    "fname_shp = basin_path + \"datasets/shp/Tana_basin.shp\"\n",
    "fname_raster = regional_path + \"model/inputs/TA_HAD_DEM_utm_mm.asc\"\n",
    "fname_netcdf = regional_path + \"output/HAD_IMERG_sim_ini_grid.nc\""
   ]
  },
  {
   "cell_type": "code",
   "execution_count": null,
   "metadata": {},
   "outputs": [],
   "source": [
    "fname_output = regional_path + \"postpp/HAD_area_mask.asc\""
   ]
  },
  {
   "cell_type": "code",
   "execution_count": null,
   "metadata": {},
   "outputs": [],
   "source": [
    "# This function will create a raster file \n",
    "rrtools.create_raster_from_shapefile(fname_shp, fname_raster, fname_output)"
   ]
  },
  {
   "cell_type": "code",
   "execution_count": null,
   "metadata": {},
   "outputs": [],
   "source": [
    "# This function will produce a pandas dataframe\n",
    "df = pptools.extract_dataframe_zone_from_netcdf(fname_netcdf, fname_output, field=['aet', 'twsc'])"
   ]
  },
  {
   "cell_type": "markdown",
   "metadata": {},
   "source": [
    "**TASK**: Explore and plot the created dataframe"
   ]
  },
  {
   "cell_type": "markdown",
   "metadata": {},
   "source": [
    "#### Visualising spatial variables"
   ]
  },
  {
   "cell_type": "markdown",
   "metadata": {},
   "source": [
    "Plot model results (this can be done with any library available in python for processing netcdf files or even in other application)"
   ]
  },
  {
   "cell_type": "code",
   "execution_count": null,
   "metadata": {},
   "outputs": [],
   "source": [
    "def read_dataset(fname, var_name='tht'):\n",
    "\t# Open and select a variable of the netCDF file\n",
    "\tdata = xr.open_dataset(fname)\n",
    "\tdata = data[var_name]\n",
    "\treturn data\n",
    "\n",
    "def get_mask(fmask):\n",
    "\t# get a mask\n",
    "\tmask = np.flip(rasterio.open(fmask).read(1), 0)\n",
    "\t# mask values for visualisation\n",
    "\tmask = np.array(mask, dtype=float)\n",
    "\tmask[mask <= 0] = np.nan\n",
    "\treturn mask # output an array\n",
    "\n",
    "def resample_dataset(data, mean=True, delt='Y'):\n",
    "\t# calculate climatological mean\n",
    "\tif mean is True:\n",
    "\t\tdata = data.resample(time='Y').mean()\n",
    "\telse:\n",
    "\t\tdata = data.resample(time='Y').sum()\t\n",
    "\treturn data # output an array\n",
    "\n",
    "def get_bounds(fmask):\n",
    "\t# get map extend\n",
    "\tsrc = rasterio.open(fmask)\n",
    "\textend = []\n",
    "\tfor index in [0, 2, 1, 3]:\n",
    "\t\textend.append(src.bounds[index])\n",
    "\treturn extend\n",
    "\t\n",
    "def plot_map_raster(bounds, data, ax, vmin=-20.0, vmax=20.0):\n",
    "\t# create plot\t\n",
    "\tcmap = plt.cm.get_cmap('coolwarm_r', 12)\n",
    "\tim = ax.imshow(data, cmap=cmap, origin=\"lower\",\n",
    "\t\t\t\tvmin=vmin, vmax=vmax,\n",
    "\t\t\t\textent=bounds)\t\n",
    "\tax.axis('off')\n",
    "\treturn im\n",
    "\t\n",
    "def plot_map_raster_by_field(bounds, data, field, ax=None):\n",
    "\t# create figure\n",
    "\tif ax is None:\n",
    "\t\tfig, ax = plt.subplots()\n",
    "    # create var    \n",
    "\tcolumns = ['pre', 'pet', 'aet', 'tht', 'inf', 'rch', 'run',\n",
    "\t\t\t\t'tls', 'fch', 'dch', 'gdh', 'wte', 'egw', 'dis']\n",
    "\tvmin = [0, 600, 0, 0.1, 0, 0, 0,\n",
    "\t\t\t\t0, 0, 0, 0, 0, 0, 0]\n",
    "\tvmax = [1200, 24e2, 2e3, 0.6, 1200, 500, 1000,\n",
    "\t\t\t\t500, 500, 500, 100, 80.0, 200, 1000]\n",
    "\tunits = [1, 1, 1, 1, 1, 1.0, 1e-6,\n",
    "\t\t\t\t1, 1, 1, 1e3, 1, 1, 1e-6]\n",
    "\tcmap = ['Blues', 'viridis_r', 'coolwarm_r', 'Blues', 'coolwarm_r', 'coolwarm_r', 'hot_r',\n",
    "            'hot_r', 'hot_r', 'hot_r', 'Blues', 'Spectral', 'viridis', 'viridis']\n",
    "\tindex = ['vmin', 'vmax', 'units', 'cmap']\n",
    "\t\n",
    "\tparameters_field = [vmin, vmax, units, cmap]\n",
    "\n",
    "\tvar = pd.DataFrame(data=np.array(parameters_field),\n",
    "\t\tindex=index,\n",
    "\t\tcolumns=columns)\n",
    "\t\n",
    "\t# create plot\t\n",
    "\tcmap = plt.cm.get_cmap(var[field]['cmap'], 12)\n",
    "\tim = ax.imshow(data, cmap=cmap, origin=\"lower\",\n",
    "\t\t\t\tvmin=var[field]['vmin'],\n",
    "\t\t\t\tvmax=var[field]['vmax'],\n",
    "\t\t\t\textent=bounds)\n",
    "\t\n",
    "\tax.axis('off')\n",
    "\treturn im\n",
    "\n",
    "def plot_polygon(polygone, ax):\n",
    "\tfor shape in polygone.shapeRecords():\n",
    "\t\tx = [i[0] for i in shape.shape.points[:]]\n",
    "\t\ty = [i[1] for i in shape.shape.points[:]]\n",
    "\t\tax.plot(x,y,'gray', linewidth=0.65)\n",
    "\n",
    "def scale(data):\n",
    "\tymax = np.nanmax(data)\n",
    "\tymin = np.nanmin(data)\n",
    "\tdata = (data-ymin)/(ymax-ymin)\n",
    "\treturn data #print(ymax, ymin)"
   ]
  },
  {
   "cell_type": "code",
   "execution_count": null,
   "metadata": {},
   "outputs": [],
   "source": [
    "fname = basin_path + \"postpp/Tana_IMb_sim82_grid_mean.nc\"\n",
    "fmask = basin_path + \"model/input/HAD_basin_Tana_mask.asc\"\n",
    "fname_shp = basin_path + \"dataset/shp/Tana_basin.shp\""
   ]
  },
  {
   "cell_type": "markdown",
   "metadata": {},
   "source": [
    "Read dataset of model outputs"
   ]
  },
  {
   "cell_type": "code",
   "execution_count": null,
   "metadata": {},
   "outputs": [],
   "source": [
    "data = read_dataset(fname, var_name='pre')"
   ]
  },
  {
   "cell_type": "markdown",
   "metadata": {},
   "source": [
    "read raster, a mask for plotting the dataset"
   ]
  },
  {
   "cell_type": "code",
   "execution_count": null,
   "metadata": {},
   "outputs": [],
   "source": [
    "mask = get_mask(fmask)"
   ]
  },
  {
   "cell_type": "markdown",
   "metadata": {},
   "source": [
    "get boundaries of the raster dataset to specified the extent"
   ]
  },
  {
   "cell_type": "code",
   "execution_count": null,
   "metadata": {},
   "outputs": [],
   "source": [
    "bounds = get_bounds(fmask)"
   ]
  },
  {
   "cell_type": "markdown",
   "metadata": {},
   "source": [
    "read shapefile, to add boundaries to the map"
   ]
  },
  {
   "cell_type": "code",
   "execution_count": null,
   "metadata": {},
   "outputs": [],
   "source": [
    "boundary = shp.Reader(fname_shp)"
   ]
  },
  {
   "cell_type": "code",
   "execution_count": null,
   "metadata": {},
   "outputs": [],
   "source": [
    "fig, ax = plt.subplots()\n",
    "fig.set_size_inches(4.5, 3.1)\n",
    "\n",
    "# plot raster\n",
    "im = plot_map_raster_by_field(bounds, data*mask, ax, ifield)\n",
    "\t\t\n",
    "# plot polygone\t\n",
    "plot_polygon(boundary, ax)\n",
    "\t\t\n",
    "# add labels and other characteristics\n",
    "plt.axis('off')\n",
    "plt.title(ifield)\n",
    "plt.colorbar(im, label=ifield)"
   ]
  },
  {
   "cell_type": "code",
   "execution_count": null,
   "metadata": {},
   "outputs": [],
   "source": [
    "#fname_fig = \"\"\n",
    "#plt.savefig(fname_fig, dpi=300)"
   ]
  },
  {
   "cell_type": "code",
   "execution_count": null,
   "metadata": {},
   "outputs": [],
   "source": []
  }
 ],
 "metadata": {
  "kernelspec": {
   "display_name": "Python 3 (ipykernel)",
   "language": "python",
   "name": "python3"
  },
  "language_info": {
   "codemirror_mode": {
    "name": "ipython",
    "version": 3
   },
   "file_extension": ".py",
   "mimetype": "text/x-python",
   "name": "python",
   "nbconvert_exporter": "python",
   "pygments_lexer": "ipython3",
   "version": "3.11.4"
  }
 },
 "nbformat": 4,
 "nbformat_minor": 4
}
