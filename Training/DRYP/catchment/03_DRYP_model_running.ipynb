{
 "cells": [
  {
   "cell_type": "markdown",
   "metadata": {},
   "source": [
    "# CUWALID MODEL TRAINING"
   ]
  },
  {
   "cell_type": "markdown",
   "metadata": {},
   "source": [
    "## Hydrological model DRYP"
   ]
  },
  {
   "cell_type": "markdown",
   "metadata": {},
   "source": [
    "The following course cover the following content:\n",
    "\n",
    "* Installation\n",
    "* Preparing model input parameters and dataset\n",
    "* ***Preparing DRYP simulations***\n",
    "* Post processing model outputs\n"
   ]
  },
  {
   "cell_type": "markdown",
   "metadata": {},
   "source": [
    "### 3. Preparing DRYP model simulations"
   ]
  },
  {
   "cell_type": "markdown",
   "metadata": {},
   "source": [
    "1. Preparing model parameter and setting files\n",
    "* Running DRYP\n",
    "* Preparing multiple simulation\n",
    "* Runing pipeline DRYP\n"
   ]
  },
  {
   "cell_type": "code",
   "execution_count": null,
   "metadata": {},
   "outputs": [],
   "source": [
    "print(\"Local_directory\\n|__training\\n      |__basin\\n      |   |__datasets\\n      |   |    |__csv\\n      |   |    |__shp\\n      |   |__model\\n      |   |    |__inputs\\n      |   |__outputs\\n      |__regional\")"
   ]
  },
  {
   "cell_type": "markdown",
   "metadata": {},
   "source": [
    "Specifiy the location of training files, once the training files are downloaded change the paths below to access them through this traning material."
   ]
  },
  {
   "cell_type": "code",
   "execution_count": null,
   "metadata": {},
   "outputs": [],
   "source": [
    "\n",
    "training_general_path = \"D:/HAD/training/\"\n",
    "regional_path = \"D:/HAD/training/regional/\"\n",
    "basin_path = \"D:/HAD/training/basin/\"\n"
   ]
  },
  {
   "cell_type": "markdown",
   "metadata": {},
   "source": [
    "#### 3.1. Preparing model parameter and setting files"
   ]
  },
  {
   "cell_type": "markdown",
   "metadata": {},
   "source": [
    "DRYP requires at leas two files for running, this is the input-paramter-file and the setting-paramter file. Additional\n",
    "files may be required depending on the model settings and dataset properties.\n",
    "\n",
    "The folowing are the list of DRYP model files:"
   ]
  },
  {
   "cell_type": "markdown",
   "metadata": {},
   "source": [
    "* input parameter file (essential)\n",
    "* setting-paramter file (essential)\n",
    "* GW parameter file (optional)\n",
    "* riparian input paramter file (optional)\n",
    "* data projection setting file (optional)"
   ]
  },
  {
   "cell_type": "markdown",
   "metadata": {},
   "source": [
    "Model input and settins files are simple plain text format files, so they can be easily updated using any text editor.\n",
    "\n",
    "For conveniency we use here the library pandas to edit these files."
   ]
  },
  {
   "cell_type": "code",
   "execution_count": null,
   "metadata": {},
   "outputs": [],
   "source": [
    "import pandas as pd"
   ]
  },
  {
   "cell_type": "markdown",
   "metadata": {},
   "source": [
    "* Input parameter file"
   ]
  },
  {
   "cell_type": "markdown",
   "metadata": {},
   "source": [
    "The *input-parameter-file* is used for specifying path names of all names model files, including input parameters, forcings, and setting files, as well as model outputs. You can also specified the model name as well as any additional model file."
   ]
  },
  {
   "cell_type": "code",
   "execution_count": null,
   "metadata": {},
   "outputs": [],
   "source": [
    "finput = training_general_path + \"/regional/model/HAD_IMERG_Tana_input_sim.dmp\""
   ]
  },
  {
   "cell_type": "code",
   "execution_count": null,
   "metadata": {},
   "outputs": [],
   "source": [
    "dryp_input = pd.read_csv(finput)"
   ]
  },
  {
   "cell_type": "code",
   "execution_count": null,
   "metadata": {},
   "outputs": [],
   "source": [
    "dryp_input.info()"
   ]
  },
  {
   "cell_type": "code",
   "execution_count": null,
   "metadata": {},
   "outputs": [],
   "source": [
    "dryp_input.head(5)"
   ]
  },
  {
   "cell_type": "markdown",
   "metadata": {},
   "source": [
    "Surface parameters"
   ]
  },
  {
   "cell_type": "code",
   "execution_count": null,
   "metadata": {},
   "outputs": [],
   "source": [
    "#dryp_input.iloc[3:19]"
   ]
  },
  {
   "cell_type": "markdown",
   "metadata": {},
   "source": [
    "Soil parameters"
   ]
  },
  {
   "cell_type": "code",
   "execution_count": null,
   "metadata": {},
   "outputs": [],
   "source": [
    "#dryp_input.iloc[26:49]"
   ]
  },
  {
   "cell_type": "markdown",
   "metadata": {},
   "source": [
    "Groundwater parameters"
   ]
  },
  {
   "cell_type": "code",
   "execution_count": null,
   "metadata": {},
   "outputs": [],
   "source": [
    "#dryp_input.iloc[50:64]"
   ]
  },
  {
   "cell_type": "markdown",
   "metadata": {},
   "source": [
    "Forcing datasets, meteorological data"
   ]
  },
  {
   "cell_type": "code",
   "execution_count": null,
   "metadata": {},
   "outputs": [],
   "source": [
    "dryp_input.iloc[64:69]"
   ]
  },
  {
   "cell_type": "markdown",
   "metadata": {},
   "source": [
    "* Main model setting file"
   ]
  },
  {
   "cell_type": "code",
   "execution_count": null,
   "metadata": {},
   "outputs": [],
   "source": [
    "#dryp_input.tail(12)"
   ]
  },
  {
   "cell_type": "code",
   "execution_count": null,
   "metadata": {},
   "outputs": [],
   "source": [
    "fsettings = training_general_path + \"/regional/model/HAD_IMERG_Tana_par_setting.dwapm\""
   ]
  },
  {
   "cell_type": "code",
   "execution_count": null,
   "metadata": {},
   "outputs": [],
   "source": [
    "dryp_settings = pd.read_csv(fsettings)\n",
    "dryp_settings.head(10)"
   ]
  },
  {
   "cell_type": "markdown",
   "metadata": {},
   "source": [
    "* Model setting file: Reference and projection system"
   ]
  },
  {
   "cell_type": "code",
   "execution_count": null,
   "metadata": {},
   "outputs": [],
   "source": [
    "fprojection = training_general_path + \"/regional/model/HAD_projection.dwapm\""
   ]
  },
  {
   "cell_type": "code",
   "execution_count": null,
   "metadata": {},
   "outputs": [],
   "source": [
    "dryp_projection = pd.read_csv(fprojection)"
   ]
  },
  {
   "cell_type": "markdown",
   "metadata": {},
   "source": [
    "* Riparian input setting files"
   ]
  },
  {
   "cell_type": "code",
   "execution_count": null,
   "metadata": {},
   "outputs": [],
   "source": [
    "friparian = basin_path + \"/model/HAD_riparian_inputs.txt\"\n"
   ]
  },
  {
   "cell_type": "code",
   "execution_count": null,
   "metadata": {},
   "outputs": [],
   "source": [
    "dryp_riparian = pd.read_csv(friparian)"
   ]
  },
  {
   "cell_type": "markdown",
   "metadata": {},
   "source": [
    "* Groundwater parameter file"
   ]
  },
  {
   "cell_type": "code",
   "execution_count": null,
   "metadata": {},
   "outputs": [],
   "source": [
    "fGWparameters = training_general_path + \"/regional/model/HAD_GW_parameters.dwapm\""
   ]
  },
  {
   "cell_type": "code",
   "execution_count": null,
   "metadata": {},
   "outputs": [],
   "source": [
    "dryp_GWparamters = pd.read_csv(fGWparameters)"
   ]
  },
  {
   "cell_type": "markdown",
   "metadata": {},
   "source": [
    "* Changing model input paths\n",
    "\n",
    "Creating a new model requires to specify the new paths of the model parameter files, it is a task that takes time and can be prone to errors. To avoid any mistake when changing paths, we can use the replace text option availble in python."
   ]
  },
  {
   "cell_type": "code",
   "execution_count": null,
   "metadata": {},
   "outputs": [],
   "source": [
    "from shutil import copyfile\n",
    "import fileinput\n",
    "import sys"
   ]
  },
  {
   "cell_type": "code",
   "execution_count": null,
   "metadata": {},
   "outputs": [],
   "source": [
    "def replaceAll(file, searchExp, replaceExp):\n",
    "    for line in fileinput.input(file, inplace=1):\n",
    "        if searchExp in line:\n",
    "            line = line.replace(searchExp,replaceExp)\n",
    "        sys.stdout.write(line)"
   ]
  },
  {
   "cell_type": "code",
   "execution_count": null,
   "metadata": {},
   "outputs": [],
   "source": [
    "fname_file = regional_path + \"/model/HAD_IMERG_input_sim_40.dmp\"\n",
    "fname_file_update = regional_path + \"/model/HAD_IMERG_input_sim_cuwalid.dmp\""
   ]
  },
  {
   "cell_type": "markdown",
   "metadata": {},
   "source": [
    "Create a copy avoid the lost of information"
   ]
  },
  {
   "cell_type": "code",
   "execution_count": null,
   "metadata": {},
   "outputs": [],
   "source": [
    "copyfile(fname_file, fname_file_update)"
   ]
  },
  {
   "cell_type": "code",
   "execution_count": null,
   "metadata": {},
   "outputs": [],
   "source": [
    "#pd.read_csv(fname_file_update)"
   ]
  },
  {
   "cell_type": "markdown",
   "metadata": {},
   "source": [
    "Specify the which text you want to change and the new text"
   ]
  },
  {
   "cell_type": "code",
   "execution_count": null,
   "metadata": {},
   "outputs": [],
   "source": [
    "searchExpresion = \"/home/c1755103/HAD/input/\"\n",
    "replaceExpresion = \"/home/cuwalid/HAD/input/\"\n",
    "replaceAll(fname_file_update, searchExpresion, replaceExpresion)"
   ]
  },
  {
   "cell_type": "code",
   "execution_count": null,
   "metadata": {},
   "outputs": [],
   "source": [
    "searchExpresion = \"/home/c1755103/HAD/HAD_\"\n",
    "replaceExpresion = \"/home/cuwalid/HAD/HAD_\"\n",
    "replaceAll(fname_file_update, searchExpresion, replaceExpresion)"
   ]
  },
  {
   "cell_type": "code",
   "execution_count": null,
   "metadata": {},
   "outputs": [],
   "source": [
    "#pd.read_csv(fname_file_update)"
   ]
  },
  {
   "cell_type": "markdown",
   "metadata": {},
   "source": [
    "#### 3.2. Runing DRYP"
   ]
  },
  {
   "cell_type": "markdown",
   "metadata": {},
   "source": [
    "**WARNING**: If you are using Windows you have to use the docker for running DRYP"
   ]
  },
  {
   "cell_type": "markdown",
   "metadata": {},
   "source": [
    "There are two main ways of runing DRYP, you can even add more option that are more convenient for yor analysis:"
   ]
  },
  {
   "cell_type": "markdown",
   "metadata": {},
   "source": [
    "a) Running DRYP from the command line"
   ]
  },
  {
   "cell_type": "code",
   "execution_count": null,
   "metadata": {},
   "outputs": [],
   "source": [
    "# python run_model_input.py <finput>"
   ]
  },
  {
   "cell_type": "markdown",
   "metadata": {},
   "source": [
    "b) Running dryp within the python environment"
   ]
  },
  {
   "cell_type": "code",
   "execution_count": null,
   "metadata": {},
   "outputs": [],
   "source": [
    "import sys\n",
    "sys.path.append('C:/Users/Edisson/Documents/GitHub/DRYPv2.0.1')\n",
    "\n",
    "from dryp.main_DRYP import run_DRYP\n",
    "#run_DRYP(inputfile)"
   ]
  },
  {
   "cell_type": "markdown",
   "metadata": {},
   "source": [
    "#### 3.3. Preparing and running multiple DRYP simulations"
   ]
  },
  {
   "cell_type": "markdown",
   "metadata": {},
   "source": [
    "This is useful for performing a Monte Carlo analysis or stochastic forecasting.\n",
    "\n",
    "We can create a script to modify the model files that changes specific fiels of each of the all model files, below ther is\n",
    "an example of the script to genereate multiple simulation files for a calibration pourposes."
   ]
  },
  {
   "cell_type": "code",
   "execution_count": null,
   "metadata": {},
   "outputs": [],
   "source": [
    "import os\n",
    "import numpy as np\n",
    "import pandas as pd\n",
    "\n",
    "def write_sim_file(fname_input, newfname_input, parameter):\n",
    "\t\"\"\" modify the parematers of the model input file and\n",
    "\t\tmodel setting file.\n",
    "\t\tWARNING: it will reeplace the original file, so\n",
    "\t\tmake a copy of the original files\n",
    "\tparameters:\n",
    "\t\tfilename_input:\tmodel inputfile, including path\n",
    "\t\tparameter:\t\t1D array of model paramters\n",
    "\t\"\"\"\n",
    "\t\n",
    "\t# Check if input file exist\n",
    "\tif not os.path.exists(fname_input):\n",
    "\t\traise ValueError(\"File not availble\")\n",
    "\t\n",
    "\t# simulation number\n",
    "\tsim = str(int(parameter[0]))\n",
    "\t\n",
    "\t# Read model input file\n",
    "\tf = pd.read_csv(fname_input)\n",
    "\t\n",
    "\t# Change model name by adding the simulation number\n",
    "\tf.drylandmodel[1] = f.drylandmodel[1] + sim\n",
    "\n",
    "\t# change parameters of the of the setting parameter file\n",
    "\tfname_settings = f.drylandmodel[87]\n",
    "\t# create a copy of the file with the new name\n",
    "\tfname_root = fname_settings.split('.')[0]\n",
    "\tfname_ext = fname_settings.split('.')[1]\n",
    "\t# new input file name\n",
    "\tnewfname_settings = fname_root+'_'+sim+'.'+fname_ext\n",
    "\t#copyfile(fname_settings, newfname_settings)\n",
    "\t# replace new setting file\n",
    "\tf.drylandmodel[87] = newfname_settings\n",
    "\t# Open setting parameter file\n",
    "\tfsimpar = pd.read_csv(fname_settings)\n",
    "\t# ADD CODE HERE TO NODIFY FORCING DATSET NAMES\n",
    "\t#f.drylandmodel[66] = newfname_settings\n",
    "\t#f.drylandmodel[68] = newfname_settings\n",
    "\t# Change setting parameter file with new values\n",
    "\tfsimpar['DWAPM_SET'][46] = ('%.5f' % parameter[1]) # kdt\n",
    "\tfsimpar['DWAPM_SET'][48] = ('%.5f' % parameter[2]) # kDroot\n",
    "\tfsimpar['DWAPM_SET'][50] = ('%.2f' % parameter[3]) # kAWC\n",
    "\tfsimpar['DWAPM_SET'][52] = ('%.5f' % parameter[4]) # kKsat\n",
    "\tfsimpar['DWAPM_SET'][54] = ('%.5f' % parameter[5]) # kSigma\n",
    "\tfsimpar['DWAPM_SET'][56] = ('%.5f' % parameter[6]) # kKch\n",
    "\tfsimpar['DWAPM_SET'][58] = ('%.5f' % parameter[7]) # T\n",
    "\tfsimpar['DWAPM_SET'][60] = ('%.5f' % parameter[8]) # kW\n",
    "\tfsimpar['DWAPM_SET'][62] = ('%.5f' % parameter[9]) # kKaq\n",
    "\tfsimpar['DWAPM_SET'][64] = ('%.5f' % parameter[10])# kSy\n",
    "\t\n",
    "\t# Reeplace model input and parameters file\n",
    "\tos.remove(newfname_input) if os.path.exists(newfname_input) else None\n",
    "\tos.remove(newfname_settings) if os.path.exists(newfname_settings) else None\n",
    "\t\n",
    "\t# Write model parameter and input file\n",
    "\tf.to_csv(newfname_input, index=False)\n",
    "\tfsimpar.to_csv(newfname_settings, index=False)\n",
    "\n",
    "def gen_array_input_files(fname_input, fname_parameter_sets):\n",
    "\t# read parameter sets\n",
    "\tparameter = pd.read_csv(fname_parameter_sets)\n",
    "\t\n",
    "\t#Create a copy of inputfile\n",
    "\tfname_root = fname_input.split('.')[0]\n",
    "\tfname_ext = fname_input.split('.')[1]\n",
    "\tfor npar in range(0, 100):\n",
    "\t\t# new input file name\n",
    "\t\tnewfname_input = fname_root+'_'+str(npar)+'.'+fname_ext\n",
    "\t\t# replace all new values in dataset\n",
    "\t\twrite_sim_file(fname_input, newfname_input, parameter.loc[npar])\n"
   ]
  },
  {
   "cell_type": "code",
   "execution_count": null,
   "metadata": {},
   "outputs": [],
   "source": [
    "# ========================================================\n",
    "# LOOP FOR CREATING MULTIPLE IMPORT FILES FOR RUNNING IN HPC\n",
    "fname = [\n",
    "basin_path +'model/HAD_IMERG_Tana_input_sim.dmp',\n",
    "]\n",
    "fname_parameter_sets = training_general_path + \"/basin/dataset/csv/test_parameter_set.csv\"\n",
    "for ifname in fname:\n",
    "\tgen_array_input_files(ifname, fname_parameter_sets)"
   ]
  },
  {
   "cell_type": "markdown",
   "metadata": {},
   "source": [
    "For running the script above you need to create a parameter set file, an example is shown below:"
   ]
  },
  {
   "cell_type": "code",
   "execution_count": null,
   "metadata": {},
   "outputs": [],
   "source": [
    "fname_parameter_sets = training_general_path + \"/regional/datasets/csv/test_parameter_set.csv\""
   ]
  },
  {
   "cell_type": "code",
   "execution_count": null,
   "metadata": {},
   "outputs": [],
   "source": [
    "pd.read_csv(fname_parameter_sets).head(5)"
   ]
  },
  {
   "cell_type": "markdown",
   "metadata": {},
   "source": [
    "**TASK**: modify the script to create model files for running multiples simulation with different forcing\n",
    "datasets (e.g. stochastic forecasting).\n",
    "\n",
    "**HINT**: lines 66 and 68 needs to be modified in the input model parameters file, add lines in script to modify this lines"
   ]
  },
  {
   "cell_type": "markdown",
   "metadata": {},
   "source": [
    "#### 3.4. Runing pipeline DRYP simulations"
   ]
  },
  {
   "cell_type": "markdown",
   "metadata": {},
   "source": [
    "For large simulations output files can become very large which may result in consuming cosiderable amount of\n",
    "memory that can even stop the model. This problem is very challenging to address in python, requiring significan changes\n",
    "in the code or even considering parallelisation. Here, we simply split a continuos simulation (in time, not in space)\n",
    "to store model output files in specified simulation periods (e.g. years).\n",
    "\n",
    "For this, we can create a series of model files that read and save inital conditions for the previous and subsequente\n",
    "simulations. An example of a python script to generate pipeline simulaiton is presented below:"
   ]
  },
  {
   "cell_type": "code",
   "execution_count": null,
   "metadata": {},
   "outputs": [],
   "source": [
    "import os\n",
    "import numpy as np\n",
    "import pandas as pd\n",
    "\n",
    "def write_sim_file_pipeline(fname_input, newfname_input,\n",
    "\tsim_ini='1999', sim_end='2000',\n",
    "\tdate_ini='2000 1 1', date_end='2001 1 1'):\n",
    "\t\"\"\" modify the parematers of the model input file and\n",
    "\t\tmodel setting file.\n",
    "\t\tWARNING: it will reeplace the original file, so\n",
    "\t\tmake a copy of the original files\n",
    "\tparameters:\n",
    "\t\tfilename_input:\tmodel inputfile, including path\n",
    "\t\tparameter:\t\t1D array of model paramters\n",
    "\t\"\"\"\n",
    "\t\n",
    "\t# Check if input file exist\n",
    "\tif not os.path.exists(fname_input):\n",
    "\t\traise ValueError(\"File not availble\")\n",
    "\t\n",
    "\t#date_ini = \n",
    "\t#date_end = str\n",
    "\t\n",
    "\t# simulation number\n",
    "\t#sim = str(int(parameter[0]))\n",
    "\t\n",
    "\t# Read model input file\n",
    "\tf = pd.read_csv(fname_input)\n",
    "\t\n",
    "\t# copy input file\n",
    "\tfnew = f.copy()\n",
    "\t# INPUT FILES ====================================\n",
    "\t# Change model name by adding the simulation number\n",
    "\tfnew.drylandmodel[1] = f.drylandmodel[1][:-4] + sim_end\n",
    "\t\n",
    "\t# name and directory of previous time steps\n",
    "\tmname = f.drylandmodel[1][:-4] + sim_ini\n",
    "\tDirOutput = f.drylandmodel[81]# + '_' + sim_ini\n",
    "\t\n",
    "\t# new name\n",
    "\tfnew.drylandmodel[6] = f.drylandmodel[1] + '_' + sim_ini\n",
    "\t\n",
    "\t# change initial conditions Qo\n",
    "\tfnew.drylandmodel[6] = DirOutput+'/'+mname+'_avg_Q_ini.asc'\n",
    "\t# change initial conditions soil moisture\n",
    "\tfnew.drylandmodel[46] = DirOutput+'/'+mname+'_avg_tht_ini.asc'\n",
    "\t# change initial condition water table\n",
    "\tfnew.drylandmodel[57] = DirOutput+'/'+mname+'_avg_wte_ini.asc'\n",
    "\t\n",
    "\t# RIPARIAN FILES ==================================\n",
    "\t# change files of the riparian file\t\n",
    "\tfname_riparian = f.drylandmodel[93]\n",
    "\t# create a copy of the file with the new name\n",
    "\tfname_rootrp = fname_riparian.split('.')[0]\n",
    "\tfname_extrp = fname_riparian.split('.')[1]\n",
    "\t# new input file name\n",
    "\tnewfname_riparian = fname_rootrp + '_' + sim_end + '.' + fname_extrp\n",
    "\t# change initial condition riparian area\n",
    "\t# change initial conditions riparian water content\n",
    "\tfsimrip = pd.read_csv(fname_riparian)\n",
    "\tfsimrip.RIPARIAN[19] = DirOutput+'/'+mname+'_avg_tht_rp_ini.asc'\n",
    "\t\n",
    "\t# write name of riparian file in the input file\n",
    "\tfnew.drylandmodel[93] = newfname_riparian\n",
    "\t\n",
    "\t# SETTING FILES ===================================\n",
    "\t# change parameters of the of the setting parameter file\t\n",
    "\tfname_settings = f.drylandmodel[87]\n",
    "\t# create a copy of the file with the new name\n",
    "\tfname_root = fname_settings.split('.')[0]\n",
    "\tfname_ext = fname_settings.split('.')[1]\n",
    "\t# new input file name\n",
    "\tnewfname_settings = fname_root + '_' + sim_end + '.' + fname_ext\n",
    "\t#copyfile(fname_settings, newfname_settings)\n",
    "\t# replace new setting file\n",
    "\tfnew.drylandmodel[87] = newfname_settings\n",
    "\t\n",
    "\t\n",
    "\t# Open setting parameter file\n",
    "\tfsimpar = pd.read_csv(fname_settings)\t\n",
    "\t\n",
    "\t# Change starting point of the simulation\n",
    "\tfsimpar.DWAPM_SET[2] = date_ini\n",
    "\t\t\n",
    "\t# change final date of the simulaition\n",
    "\tfsimpar.DWAPM_SET[4] = date_end\n",
    "\n",
    "\t# Reeplace model input and parameters file\n",
    "\tos.remove(newfname_input) if os.path.exists(newfname_input) else None\n",
    "\tos.remove(newfname_riparian) if os.path.exists(newfname_riparian) else None\n",
    "\tos.remove(newfname_settings) if os.path.exists(newfname_settings) else None\n",
    "\t\n",
    "\t# Write model parameter and input file\n",
    "\tfnew.to_csv(newfname_input, index=False)\n",
    "\tfsimrip.to_csv(newfname_riparian, index=False)\n",
    "\tfsimpar.to_csv(newfname_settings, index=False)\n",
    "\n",
    "def change_sim_file_name(fname_input, newfname_input, sim=2000):\n",
    "\t# Check if input file exist\n",
    "\tif not os.path.exists(fname_input):\n",
    "\t\traise ValueError(\"File not availble\")\n",
    "\t\n",
    "\tf = pd.read_csv(fname_input)\n",
    "\tf.drylandmodel[1] = f.drylandmodel[1] + \"_\" + str(sim)\n",
    "\t# Reeplace model input and parameters file\n",
    "\tos.remove(newfname_input) if os.path.exists(newfname_input) else None\n",
    "\t# Write model parameter and input file\n",
    "\tf.to_csv(newfname_input, index=False)\n",
    "\n",
    "def gen_inital_end_simulation_dates(year, month, day, dtyear=1, dtmonth=0, dtday=0):\n",
    "\t\"\"\"This function gets the initial and end date of a specified period\n",
    "\t\"\"\"\n",
    "\tdate_ini = str(year+dtyear) + ' ' + str(month+dtmonth) + ' ' + str(day+dtday)\n",
    "\tdate_end = str(year+dtyear+1) + ' ' + str(month+dtmonth) + ' ' + str(day+dtday+1)\n",
    "\t\n",
    "\tname = str(year)\n",
    "\tname_end = str(year+dtyear)\n",
    "\t\n",
    "\treturn date_ini, date_end, name, name_end"
   ]
  },
  {
   "cell_type": "code",
   "execution_count": null,
   "metadata": {},
   "outputs": [],
   "source": [
    "# ========================================================\n",
    "# LOOP FOR CREATING MULTIPLE IMPORT FILES FOR RUNNING IN HPC\n",
    "fname = [\n",
    "training_general_path + \"model/HAD_IMERG_Tana_input_sim.dmp\",\n",
    "]\n",
    "\n",
    "# WARNINGS\n",
    "# The initial file should specify the initial conditions at the begining of\n",
    "# the simulation of the entire period, therefore, the name of inital model\n",
    "# must be according to the name required to the next simulation\n",
    "# subsequent period must conside\n",
    "for ifname_input in fname:\n",
    "\tnewfname_input = ifname_input.split('.')[0]+'_2000.'+ifname_input.split('.')[1]\n",
    "\tchange_sim_file_name(ifname_input, newfname_input)\n",
    "\tfor iyear in range(2000, 2023):\n",
    "\t\tdate_ini, date_end, name, name_end = gen_inital_end_simulation_dates(iyear, 1, 1)\n",
    "\t\tnewfname_input = ifname_input.split('.')[0]+'_'+name_end+'.'+ifname_input.split('.')[1]\n",
    "\t\twrite_sim_file_pipeline(ifname_input, newfname_input, sim_ini=name, sim_end=name_end,\n",
    "\t\t\tdate_ini=date_ini, date_end=date_end\n",
    "\t\t\t)"
   ]
  },
  {
   "cell_type": "code",
   "execution_count": null,
   "metadata": {},
   "outputs": [],
   "source": [
    "import glob\n",
    "files = glob.glob(regional_path + \"inputs/*.asc\")"
   ]
  },
  {
   "cell_type": "code",
   "execution_count": null,
   "metadata": {},
   "outputs": [],
   "source": [
    "new_path = \"D:/\"\n",
    "fnames = []\n",
    "for ifile in files:\n",
    "    fnames.append(ifile.split(\"\\\\\")[-1])\n",
    "    new_name = new_path + ifile.split(\"\\\\\")[-1]\n",
    "    print(new_name)\n",
    "    #new_name = new_path + fnames[0]\n",
    "    #process clip raster"
   ]
  },
  {
   "cell_type": "code",
   "execution_count": null,
   "metadata": {},
   "outputs": [],
   "source": [
    "#fnames"
   ]
  },
  {
   "cell_type": "code",
   "execution_count": null,
   "metadata": {},
   "outputs": [],
   "source": [
    "#new_path = \"D:/\"\n",
    "#new_name = new_path + fnames[0]"
   ]
  }
 ],
 "metadata": {
  "kernelspec": {
   "display_name": "Python [conda env:Anaconda3]",
   "language": "python",
   "name": "conda-env-Anaconda3-py"
  },
  "language_info": {
   "codemirror_mode": {
    "name": "ipython",
    "version": 3
   },
   "file_extension": ".py",
   "mimetype": "text/x-python",
   "name": "python",
   "nbconvert_exporter": "python",
   "pygments_lexer": "ipython3",
   "version": "3.7.6"
  }
 },
 "nbformat": 4,
 "nbformat_minor": 4
}
