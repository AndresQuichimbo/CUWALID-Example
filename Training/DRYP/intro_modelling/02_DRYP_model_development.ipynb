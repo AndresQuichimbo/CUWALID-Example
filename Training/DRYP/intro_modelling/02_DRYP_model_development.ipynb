{
 "cells": [
  {
   "cell_type": "markdown",
   "metadata": {},
   "source": [
    "# CUWALID TRAINING"
   ]
  },
  {
   "cell_type": "markdown",
   "metadata": {},
   "source": [
    "## DRYP: Intro to Hydrological modelling with DRYP"
   ]
  },
  {
   "cell_type": "markdown",
   "metadata": {},
   "source": [
    "This training material is developed to understand all components of the CUWALID modelling system. Each section addresses specific topics tailored to cover all model capabilities and their applications.\n",
    "\n",
    "\n",
    "The first module covers the introduction and understanding of the hydrological model DRYP:\n",
    "\n",
    "1. Installation\n",
    "2. ***Understanding DRYP gridded model domain***\n",
    "3. Understanding DRYP with test models."
   ]
  },
  {
   "cell_type": "markdown",
   "metadata": {},
   "source": [
    "### Understanding DRYP gridded model domain"
   ]
  },
  {
   "cell_type": "markdown",
   "metadata": {},
   "source": [
    "1. Gridded Model domain\n",
    "2. Flow direction convention\n",
    "3. River network\n",
    "4. Groundwater maximum time step\n",
    "5. Boundary conditions\n",
    "6. Initial conditions\n",
    "7. Explaining model outputs\n",
    "* Aquifer model settings\n",
    "* Lakes model settings\n",
    "* Adding vegetation component"
   ]
  },
  {
   "cell_type": "markdown",
   "metadata": {},
   "source": [
    "## 1. Gridded model domain"
   ]
  },
  {
   "cell_type": "markdown",
   "metadata": {},
   "source": [
    "CUWALID uses the Python LandLab library to create the grid environment (https://landlab.csdms.io/user_guide/index.html). Therefore, when creating a new model, the user should be aware of the Landlab grid label conventions. "
   ]
  },
  {
   "cell_type": "markdown",
   "metadata": {},
   "source": [
    "<img src=\"../figures/Landlab_grid.png\" width=\"500\"/>\n",
    "\n",
    "Source: https://landlab.csdms.io/"
   ]
  },
  {
   "cell_type": "markdown",
   "metadata": {},
   "source": [
    "Below there is an example of the labels convention used in Landlab:"
   ]
  },
  {
   "cell_type": "markdown",
   "metadata": {},
   "source": [
    "**Nodes**"
   ]
  },
  {
   "cell_type": "raw",
   "metadata": {},
   "source": [
    "8 ----> 9 ----> 10----> 11\n",
    "^       ^       ^       ^\n",
    "|       |       |       |\n",
    "|       |       |       |\n",
    "4 ----> 5 ----> 6 ----> 7\n",
    "^       ^       ^       ^\n",
    "|       |       |       |\n",
    "|       |       |       |\n",
    "0 ----> 1 ----> 2 ----> 3"
   ]
  },
  {
   "cell_type": "markdown",
   "metadata": {},
   "source": [
    "**Links**"
   ]
  },
  {
   "cell_type": "raw",
   "metadata": {},
   "source": [
    "o --14--> o --15--> o --16--> o\n",
    "^         ^         ^         ^\n",
    "10       11        12        13\n",
    "|         |         |         |\n",
    "o ---7--> o ---8--> o ---9--> o\n",
    "^         ^         ^         ^\n",
    "3         4         5         6\n",
    "|         |         |         |\n",
    "o ---0--> o ---1--> 0 ---2--> 0"
   ]
  },
  {
   "cell_type": "markdown",
   "metadata": {},
   "source": [
    "**Cells**"
   ]
  },
  {
   "cell_type": "raw",
   "metadata": {},
   "source": [
    "b       b       b       b\n",
    "\n",
    "    .-------.-------.\n",
    "    |       |       |\n",
    "b   |   c   |   c   |   b\n",
    "    |       |       |\n",
    "    .-------.-------.\n",
    "\n",
    "b       b       b       b"
   ]
  },
  {
   "cell_type": "markdown",
   "metadata": {},
   "source": [
    "#### DRYP gridded model domain"
   ]
  },
  {
   "cell_type": "markdown",
   "metadata": {},
   "source": [
    "The figure below provides an schematic representation of a DRYP (Landlab) raster model grid. In DRYP all grid cells must have a square shape. The grid can have any size but not less than a 3 $\\times$ 3 grid size. This is because Landlab performs calculations only at cell elements, therefore, the nodes at the boundaries are not included in the calculations but only for boundary conditions.\n",
    "\n",
    "Additionally, DRYP only performs calculations on active cells. By default, all cells are active, however, the user can provide a mask (e.g. a watershed domain) to select active cells."
   ]
  },
  {
   "cell_type": "markdown",
   "metadata": {},
   "source": [
    "![Model test reservoir](../figures/AQ_model_domain_dryp.png)"
   ]
  },
  {
   "cell_type": "markdown",
   "metadata": {},
   "source": [
    "## 2. DRYP flow direction"
   ]
  },
  {
   "cell_type": "markdown",
   "metadata": {},
   "source": [
    "DRYP only supports a D8 flow direction approach for flow routing. The flow direction should follow the LandLab convention. It means that flow direction should be given in id nodes format rather than the cardinal convention.\n",
    "\n",
    "Most software uses the cardinal convention therefore in order to use a public dataset a translation needs to be performed. Fortunately, we have created tools to help you convert cardinal directions into LandLab format. We will do this in the next module!"
   ]
  },
  {
   "cell_type": "markdown",
   "metadata": {},
   "source": [
    "<img src=\"../figures/AQ_DRYP_D8_flow_direction.png\" width=\"300\"/>"
   ]
  },
  {
   "cell_type": "markdown",
   "metadata": {},
   "source": [
    "## 3. Defining river networks"
   ]
  },
  {
   "cell_type": "markdown",
   "metadata": {},
   "source": [
    "By default all cells in the model domain are streams, however, if the user needs to select only specific cells as streams, a map of river networks should be provided.\n",
    "\n",
    "By default the river length at each cell is equal to grid size. if the river network is provided by the user, it must contain information of river length at each cell. All cell containing positive values above 0 are considered streams."
   ]
  },
  {
   "cell_type": "markdown",
   "metadata": {},
   "source": [
    "<img src=\"../figures/Conceptual_model.png\" width=\"500\"/>"
   ]
  },
  {
   "cell_type": "markdown",
   "metadata": {},
   "source": [
    "## 4. Groundwater maximum time step"
   ]
  },
  {
   "cell_type": "markdown",
   "metadata": {},
   "source": [
    "The groundwater component uses an explicit solution to solve the diffusive wave equation, therefore, it is quite sensitive to groundwater aquifer parameters and model grid size.\n",
    "\n",
    "If a grid size is small, the groundwater components may take a long time to find a solution therefore we caution the user to use small time steps as it may take forever to finish a simulation.\n",
    "\n",
    "We recommend users not consider a grid size not less than 1 $\\times$ 1 km.\n",
    "\n",
    "You can use the following equation to determine the maximum time step of your model."
   ]
  },
  {
   "cell_type": "markdown",
   "metadata": {},
   "source": [
    "$$0.25 > \\frac{T \\Delta{t}}{S_y \\Delta{x}^2}$$"
   ]
  },
  {
   "cell_type": "markdown",
   "metadata": {},
   "source": [
    "$T$ is transmissivity [L$^{2}$ T$^{-1}$], $\\Delta t$ is time [T], and $S_y$ is aquifer specific yield [-]."
   ]
  },
  {
   "cell_type": "markdown",
   "metadata": {},
   "source": [
    "## 5. DRYP boundary conditions"
   ]
  },
  {
   "cell_type": "markdown",
   "metadata": {},
   "source": [
    "Depending on the component, DRYP uses two types of boundary conditions:\n",
    "\n",
    "* Flux boundary conditions: for all model components\n",
    "* Constant head boundary conditions: only for the groundwater component"
   ]
  },
  {
   "cell_type": "markdown",
   "metadata": {},
   "source": [
    "Flux boundary conditions on DRYP are used to include irrigation, and groundwater and surface water (including ponds) abstractions. Flux boundary conditions should be specified as time-series *.CSV files."
   ]
  },
  {
   "cell_type": "markdown",
   "metadata": {},
   "source": [
    "Constant head boundary conditions are used to represent regional groundwater conditions, water bodies connected to groundwater systems or coastal areas. Constant head boundaries should be specified as raster datasets."
   ]
  },
  {
   "cell_type": "markdown",
   "metadata": {},
   "source": []
  },
  {
   "cell_type": "markdown",
   "metadata": {},
   "source": [
    "## 6. DRYP initial conditions"
   ]
  },
  {
   "cell_type": "markdown",
   "metadata": {},
   "source": [
    "The user should specify initial conditions for all model components. All provided initial conditions must be in raster format. The following variables should be provided as initial conditions:"
   ]
  },
  {
   "cell_type": "markdown",
   "metadata": {},
   "source": [
    "* *Surface component (OF)*: Initial channel storage (m$^3$).\n",
    "* *Unsaturated (hillslope) Zone (UZ)*: initial water content (m$^3$ m$^{-3}$).\n",
    "* *Riparian (hillslope) Zone (RZ)*: initial water content (m$^3$ m$^{-3}$).\n",
    "* *Saturated (Groundwater) Zone*: initial water table elevation (m)."
   ]
  },
  {
   "cell_type": "markdown",
   "metadata": {},
   "source": [
    "## 7. Model outputs"
   ]
  },
  {
   "cell_type": "markdown",
   "metadata": {},
   "source": [
    "DRYP stores the following model outputs:\n",
    "\n",
    "1. Gridded temporal datasets\n",
    "2. Raster datasets for initial conditions\n",
    "3. Time series in tabular format"
   ]
  },
  {
   "cell_type": "markdown",
   "metadata": {},
   "source": [
    "##### 1. Gridded temporal datasets"
   ]
  },
  {
   "cell_type": "markdown",
   "metadata": {},
   "source": [
    "The user can store the following data as *NETCDF* format:\r\n",
    "\r\n",
    "* Gridded temporal data at hillslope cells, files with the fsufix ***_grid***. By default containing the following variables:\r\n",
    "\r\n",
    "\t* *pre* : Precipitaion\r\n",
    "\t* *pet* : Potential evapotranspiration\r\n",
    "\t* *eat* : Actual evapotranspiration\r\n",
    "\t* *tht* : soil water content\r\n",
    "\t* *rch* : Total groundwater recharge\r\n",
    "\t* *wte* : Water table elevation\r\n",
    "\t* *gdh* : Groundwater discharge\r\n",
    "\t* *egw* : Groundwater Evapotranspiration\r\n",
    "\t* *dis* : Streamflow\r\n",
    "\t* *inf* : Infiltration\r\n",
    "\t* *run* : Runoff\r\n",
    "\t* *twsc* : Total water storage change\r\n",
    "\r\n",
    "* Gridded temporal data at riparian/stream cellfs, files with sufix ***_gridrp***. Biny default containg the following variables:\r\n",
    "\r\n",
    "\t* *pre* : Precipitaion\r\n",
    "\t* *pet* : Potential evapotranspiration\r\n",
    "\t* *eat* : Actual evapotranspiration\r\n",
    "\t* *tht* : soil water content\r\n",
    "\t* *rch* : Total groundwater recharge\r\n",
    "\t* *gdh* : Groundwater discharge\r\n",
    "\t* *egw* : Groundwater Evapotranspiration\r\n",
    "\t* *inf* : Infiltration\r\n",
    "\t* *run* : Runoff\r\n",
    "\r\n",
    "* Gridded temporal data maximum daily values at hfillslope cells, files with sufix ***in_gridvmax*** By default containg the following variables:\r\n",
    "\r\n",
    "\t* *tht* : soil water content riparian zone\r\n",
    "\t* *rch* : Focused groundwater recharge\r\n",
    "\t* *eat* : Actual evapotranspiration\r\n",
    "\r\n",
    "* Gridded temporal data maximum daily values at rfiparian/stream cells, files with sufinix ***_gridrmax*** By default containg the following variables:\r\n",
    "\r\n",
    "\t* *dis* : Streamflow\r\n",
    "\r\n",
    "* Gridded temporal data water bodies, files with sufix ***_gridpnd*** By default containg the following variables:\r\n",
    "\t* *vpd* : Total volume of water available - ponds\r\n",
    "\t* *epd* : Evaporation - ponds\r\n",
    "\t* *apd* : Total abstractions - ponds"
   ]
  },
  {
   "cell_type": "markdown",
   "metadata": {},
   "source": [
    "#### 2. Raster datasets"
   ]
  },
  {
   "cell_type": "markdown",
   "metadata": {},
   "source": [
    "DRYP stores as raster files *.ASC*, at the end of the simulation, the following variables:\n",
    "\n",
    "* *wte* : water table elevation\n",
    "* *tht* : soil and riparian water content\n",
    "* *V* : surface water bodies storage\n",
    "* *Qo* : channel storage\n"
   ]
  },
  {
   "cell_type": "markdown",
   "metadata": {},
   "source": [
    "![Model test reservoir](../figures/AQ_lake_geometry_3d.png)"
   ]
  }
 ],
 "metadata": {
  "kernelspec": {
   "display_name": "Python 3 (ipykernel)",
   "language": "python",
   "name": "python3"
  },
  "language_info": {
   "codemirror_mode": {
    "name": "ipython",
    "version": 3
   },
   "file_extension": ".py",
   "mimetype": "text/x-python",
   "name": "python",
   "nbconvert_exporter": "python",
   "pygments_lexer": "ipython3",
   "version": "3.11.4"
  }
 },
 "nbformat": 4,
 "nbformat_minor": 4
}
