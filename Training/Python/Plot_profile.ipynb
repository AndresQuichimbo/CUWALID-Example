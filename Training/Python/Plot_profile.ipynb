{
 "cells": [
  {
   "cell_type": "markdown",
   "id": "06971ac9-370a-45ad-b63f-2d3542884caa",
   "metadata": {},
   "source": [
    "# Plot water table profile"
   ]
  },
  {
   "cell_type": "code",
   "execution_count": 1,
   "id": "a21188b6-2df9-40a5-a4e9-f4d303301419",
   "metadata": {},
   "outputs": [],
   "source": [
    "import pandas as pd\n",
    "import numpy as np\n",
    "import matplotlib.pyplot as plt\n",
    "import datetime"
   ]
  },
  {
   "cell_type": "code",
   "execution_count": null,
   "id": "ecc2ba25-9c13-457f-a926-367bc965d6d2",
   "metadata": {},
   "outputs": [],
   "source": [
    "folder = [\n",
    "'../../../Github/multiaq/result/MA_10m',\n",
    "]\n",
    "\n",
    "folder_out = '../../../Github/multiaq/fig/DV_10m'\n",
    "#folder_out = '../Kenya/EW_v1_1k_ERA/EW_'\n",
    "\n",
    "idp  = 3500\n",
    "agg = 'D'\n",
    "#\n",
    "date_start = datetime.date(2006, 1, 1)\n",
    "date_end = datetime.date(2007, 1, 15)\n",
    "\n",
    "axes_limit = [date_start, date_end]\n",
    "\n",
    "# plot profile water table\n",
    "plt.figure(figsize = (7.5, 4.0))\n",
    "days = 180\n",
    "\n",
    "dt = 24*days\n",
    "\n",
    "\n",
    "\tfor ifolder in folder:\n",
    "\t\n",
    "\t\tfname = ifolder +str(i) + '_OF_wte.csv'\t\n",
    "\t\tdf =  pd.read_csv(fname)\t\n",
    "\t\tdf[\"Date\"] = pd.to_datetime(df['Date'])\n",
    "\t\t\n",
    "\t\thead = list(df)[1:]\n",
    "\t\tdx = np.arange(len(head))*1000.0\n",
    "\t\t#print(len(df))\n",
    "\t\ttime_plot = [360*5]#, 50*24]#, 100*24, 150*24, 200*24]\n",
    "\t\t\n",
    "\t\tfor i in time_plot:\n",
    "\t\t\taux = np.array(df.iloc[i])#[1:]\n",
    "\t\t\taux = np.array(aux[1:])\n",
    "\t\t\t#print(len(aux), len(dx))\n",
    "\t\t\t#print(type(aux), type(dx))\n",
    "\t\t\tplt.plot(dx,aux, label=ilabel)\n",
    "\t\n",
    "\n",
    "plt.plot(dx, 110+np.arange(len(head))*10, '--k', label='Surface')\n",
    "\n",
    "plt.vlines([9000, 19000], 0, 450, color='k', linestyles='dotted')#, width=0.3)\n",
    "plt.text(9600, 330, 'Aquifer\\ncontact', ha='right', rotation=90)\n",
    "plt.text(19600, 330, 'Aquifer\\ncontact', ha='right', rotation=90)\n",
    "\n",
    "plt.xlabel('Distance from the head boundary [m]')\n",
    "plt.ylabel('Water table\\n elevation [m]')\n",
    "\n",
    "plt.legend(frameon=False)\n",
    "plt.xlim([0, 27000])\n",
    "plt.ylim([50, 400])\n",
    "\n",
    "plt.tight_layout()\n",
    "\n",
    "fname_out = folder_out +'wte_profile.png'\n",
    "plt.savefig(fname_out, dpi=300)"
   ]
  }
 ],
 "metadata": {
  "kernelspec": {
   "display_name": "Python [conda env:Anaconda3]",
   "language": "python",
   "name": "conda-env-Anaconda3-py"
  },
  "language_info": {
   "codemirror_mode": {
    "name": "ipython",
    "version": 3
   },
   "file_extension": ".py",
   "mimetype": "text/x-python",
   "name": "python",
   "nbconvert_exporter": "python",
   "pygments_lexer": "ipython3",
   "version": "3.7.6"
  }
 },
 "nbformat": 4,
 "nbformat_minor": 5
}
