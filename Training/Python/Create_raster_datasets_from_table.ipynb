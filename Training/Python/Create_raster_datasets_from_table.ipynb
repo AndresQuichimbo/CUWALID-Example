{
 "cells": [
  {
   "cell_type": "markdown",
   "id": "c5b79ee7-7cec-4faa-8332-80a52324933d",
   "metadata": {},
   "source": [
    "# Create raster dataset from table"
   ]
  },
  {
   "cell_type": "code",
   "execution_count": 1,
   "id": "c5c42a1b-623c-46d5-98e3-131e47c274ab",
   "metadata": {},
   "outputs": [],
   "source": [
    "import os\n",
    "import numpy as np\n",
    "import pandas as pd\n",
    "import rasterio\n",
    "from rasterio.transform import Affine"
   ]
  },
  {
   "cell_type": "code",
   "execution_count": 60,
   "id": "574ada2c-502b-4d4f-b7b0-7bb399dbde98",
   "metadata": {},
   "outputs": [],
   "source": [
    "# apply multiplicative factors at transmissivity\n",
    "def raster_from_table(data, table, n=18):\n",
    "\t\"\"\"\n",
    "\tdata: raster map\n",
    "\ttable: table of values in each column (dataframe)\n",
    "\t\"\"\"\n",
    "\tshape = data.shape\n",
    "\tgrid_size = len(data.reshape(-1))\n",
    "\tdata = data.reshape(-1)\n",
    "\traster = np.full(grid_size, -9999, dtype=float)\n",
    "\tfor ilitho in range(np.min([n, len(table.columns)])):\n",
    "\t\t# identify cells with lithological units\n",
    "\t\tidlitho = np.where(data == ilitho)[0]\n",
    "\t\t# get values of transmissivity\n",
    "\t\tifactor = table['litho_'+str(ilitho)][0]\n",
    "\t\t# assign transmisivity\n",
    "\t\traster[idlitho] = ifactor\n",
    "\treturn raster.reshape(shape)\n",
    "\t\n",
    "def raster_from_factors(data, raster, factors, n=19):\n",
    "\t\"\"\"\n",
    "\tdata: raster map\n",
    "\tfactors: table of values in each column (dataframe)\n",
    "\t\"\"\"\n",
    "\tshape = data.shape\n",
    "\tgrid_size = len(data.reshape(-1))\n",
    "\tdata = data.reshape(-1)\n",
    "\traster = raster.reshape(-1)\n",
    "\tfor ilitho in range(np.min([n, len(factors.columns)])):\n",
    "\t\t# identify cells with lithological units\n",
    "\t\tidlitho = np.where(data == ilitho)[0]\n",
    "\t\t# get values of transmissivity\n",
    "\t\tifactor = factors['litho_'+str(ilitho)][0]\n",
    "\t\t# assign transmisivity\n",
    "\t\traster[idlitho] = raster[idlitho]*ifactor\t\t\n",
    "\treturn raster.reshape(shape)\n",
    "\n",
    "def save_raster(fname, data, profile, transform):\n",
    "\tos.remove(fname) if os.path.exists(fname) else None\n",
    "\twith rasterio.open(fname, 'w', **profile) as dst:\n",
    "\t\t# Write the modified raster data\n",
    "\t\tdst.write(np.array(data, dtype=np.float32), 1)\n",
    "\t\t# Set the affine transformation\n",
    "\t\tdst.transform = transform\n",
    "\n",
    "def open_raster(fname):\n",
    "\twith rasterio.open(fname) as src:\n",
    "\t\t# Read the input raster data\n",
    "\t\tdata = src.read(1)\n",
    "\t\t# Get the metadata of the input raster\n",
    "\t\tprofile = src.profile\n",
    "\t\t# Get the affine transformation\n",
    "\t\ttransform = src.transform\n",
    "\treturn data, profile, transform\n",
    "\n",
    "def get_mask(fmask):\n",
    "\t# output an array\n",
    "\t# get a mask\n",
    "\tmask = rasterio.open(fmask).read(1)\n",
    "\t# mask values for visualisation\n",
    "\tmask = np.array(mask, dtype=float)\n",
    "\tmask[mask <= 0] = np.nan\n",
    "\treturn mask\n"
   ]
  },
  {
   "cell_type": "markdown",
   "id": "9d089eea-f6ca-40ec-bdbc-ef92a3db06a6",
   "metadata": {},
   "source": [
    "## Create a raster dataset from table"
   ]
  },
  {
   "cell_type": "markdown",
   "id": "bfbe9e3d-93fa-4818-bda4-519755c67bd3",
   "metadata": {},
   "source": [
    "##### Read factor/transmissivity dataset or create one"
   ]
  },
  {
   "cell_type": "code",
   "execution_count": 47,
   "id": "ab85ce9d-a853-4629-942c-ecbecd9a24a9",
   "metadata": {},
   "outputs": [],
   "source": [
    "#dftable = pd.read_csv(fcsv_par)"
   ]
  },
  {
   "cell_type": "code",
   "execution_count": 65,
   "id": "56ddca7d-1746-43ab-b02b-cac9309cc4d0",
   "metadata": {},
   "outputs": [],
   "source": [
    "dftable = pd.DataFrame({\"litho_0\":[0.1],\n",
    "                  \"litho_1\":[0.5],\n",
    "                  \"litho_2\":[0.5]})"
   ]
  },
  {
   "cell_type": "code",
   "execution_count": 66,
   "id": "90278e89-7b40-453e-bef7-b0db182e7fb3",
   "metadata": {},
   "outputs": [
    {
     "data": {
      "text/html": [
       "<div>\n",
       "<style scoped>\n",
       "    .dataframe tbody tr th:only-of-type {\n",
       "        vertical-align: middle;\n",
       "    }\n",
       "\n",
       "    .dataframe tbody tr th {\n",
       "        vertical-align: top;\n",
       "    }\n",
       "\n",
       "    .dataframe thead th {\n",
       "        text-align: right;\n",
       "    }\n",
       "</style>\n",
       "<table border=\"1\" class=\"dataframe\">\n",
       "  <thead>\n",
       "    <tr style=\"text-align: right;\">\n",
       "      <th></th>\n",
       "      <th>litho_0</th>\n",
       "      <th>litho_1</th>\n",
       "      <th>litho_2</th>\n",
       "    </tr>\n",
       "  </thead>\n",
       "  <tbody>\n",
       "    <tr>\n",
       "      <th>0</th>\n",
       "      <td>0.1</td>\n",
       "      <td>0.5</td>\n",
       "      <td>0.5</td>\n",
       "    </tr>\n",
       "  </tbody>\n",
       "</table>\n",
       "</div>"
      ],
      "text/plain": [
       "   litho_0  litho_1  litho_2\n",
       "0      0.1      0.5      0.5"
      ]
     },
     "execution_count": 66,
     "metadata": {},
     "output_type": "execute_result"
    }
   ],
   "source": [
    "dftable"
   ]
  },
  {
   "cell_type": "markdown",
   "id": "fb459a66-ede3-41c0-ac9f-b9863fc5c3c1",
   "metadata": {},
   "source": [
    "##### Open a raster file"
   ]
  },
  {
   "cell_type": "code",
   "execution_count": 67,
   "id": "35086c3f-4f7c-47da-82cc-930008d7a576",
   "metadata": {},
   "outputs": [],
   "source": [
    "ftypes = \"C:/Users/Edisson/OneDrive - Cardiff University/models/cuwalid/examples_json/multiaq/input/MA_aqtype1.asc\""
   ]
  },
  {
   "cell_type": "code",
   "execution_count": 68,
   "id": "2cf4569c-8208-4a82-822b-71e4bb50c7a2",
   "metadata": {},
   "outputs": [],
   "source": [
    "# open raster\n",
    "litho, profile, transform = open_raster(ftypes)"
   ]
  },
  {
   "cell_type": "markdown",
   "id": "92d605dd-5a15-42db-8a41-ef812568684f",
   "metadata": {},
   "source": [
    "##### Create new raster dataset"
   ]
  },
  {
   "cell_type": "code",
   "execution_count": 69,
   "id": "9832ee67-c4e5-4840-b123-a636920286bf",
   "metadata": {},
   "outputs": [],
   "source": [
    "# create raster\n",
    "data = raster_from_table(litho, dftable)"
   ]
  },
  {
   "cell_type": "markdown",
   "id": "3a2269e9-ae20-4098-9667-14106d2949f0",
   "metadata": {},
   "source": [
    "#### Save new raster dataset"
   ]
  },
  {
   "cell_type": "code",
   "execution_count": 70,
   "id": "e18261e4-8eb5-42fd-91ca-7ddd5da61137",
   "metadata": {},
   "outputs": [],
   "source": [
    "# save raster\n",
    "fname_out = \"C:/Users/Edisson/OneDrive - Cardiff University/models/cuwalid/examples_json/multiaq/input/MA_test_ksat.asc\"\n",
    "save_raster(fname_out, data, profile, transform)"
   ]
  },
  {
   "cell_type": "markdown",
   "id": "7c9062ee-372a-42c3-abd8-5256eb025532",
   "metadata": {},
   "source": [
    "## Modify a raster dataset using factors from a table"
   ]
  },
  {
   "cell_type": "markdown",
   "id": "ae0428e9-2944-47ac-94fa-1190e3886807",
   "metadata": {},
   "source": [
    "##### Read factor/transmissivity dataset or create one"
   ]
  },
  {
   "cell_type": "code",
   "execution_count": 54,
   "id": "fd9ece45-82a8-4f21-98fe-43f1272e073b",
   "metadata": {},
   "outputs": [],
   "source": [
    "dftable = pd.DataFrame({\"litho_0\":[0.5],\n",
    "                  \"litho_1\":[0.5],\n",
    "                  \"litho_2\":[0.5]})"
   ]
  },
  {
   "cell_type": "code",
   "execution_count": 55,
   "id": "3bc07eef-b84f-467b-bbf9-5b95ed8ebc3c",
   "metadata": {},
   "outputs": [
    {
     "data": {
      "text/html": [
       "<div>\n",
       "<style scoped>\n",
       "    .dataframe tbody tr th:only-of-type {\n",
       "        vertical-align: middle;\n",
       "    }\n",
       "\n",
       "    .dataframe tbody tr th {\n",
       "        vertical-align: top;\n",
       "    }\n",
       "\n",
       "    .dataframe thead th {\n",
       "        text-align: right;\n",
       "    }\n",
       "</style>\n",
       "<table border=\"1\" class=\"dataframe\">\n",
       "  <thead>\n",
       "    <tr style=\"text-align: right;\">\n",
       "      <th></th>\n",
       "      <th>litho_0</th>\n",
       "      <th>litho_1</th>\n",
       "      <th>litho_2</th>\n",
       "    </tr>\n",
       "  </thead>\n",
       "  <tbody>\n",
       "    <tr>\n",
       "      <th>0</th>\n",
       "      <td>0.5</td>\n",
       "      <td>0.5</td>\n",
       "      <td>0.5</td>\n",
       "    </tr>\n",
       "  </tbody>\n",
       "</table>\n",
       "</div>"
      ],
      "text/plain": [
       "   litho_0  litho_1  litho_2\n",
       "0      0.5      0.5      0.5"
      ]
     },
     "execution_count": 55,
     "metadata": {},
     "output_type": "execute_result"
    }
   ],
   "source": [
    "dftable"
   ]
  },
  {
   "cell_type": "markdown",
   "id": "facac83e-83ce-4e96-94ac-413a64fcece7",
   "metadata": {},
   "source": [
    "##### Open a raster file"
   ]
  },
  {
   "cell_type": "markdown",
   "id": "e770108e-6faf-4512-83fe-f06a76894996",
   "metadata": {},
   "source": [
    "Read raster dataset containing ids for regions/zones"
   ]
  },
  {
   "cell_type": "code",
   "execution_count": 56,
   "id": "2d0f462f-c647-41ac-8703-88860448dea4",
   "metadata": {},
   "outputs": [],
   "source": [
    "ftypes = \"C:/Users/Edisson/OneDrive - Cardiff University/models/cuwalid/examples_json/multiaq/input/MA_aqtype1.asc\""
   ]
  },
  {
   "cell_type": "markdown",
   "id": "82c53383-8f29-4440-b69f-bf989df10b51",
   "metadata": {},
   "source": [
    "Read raster dataset to modify"
   ]
  },
  {
   "cell_type": "code",
   "execution_count": 57,
   "id": "9915bb33-b50c-4ba5-8305-5576f1e79fba",
   "metadata": {},
   "outputs": [],
   "source": [
    "fraster = \"C:/Users/Edisson/OneDrive - Cardiff University/models/cuwalid/examples_json/multiaq/input/MA_test_ksat.asc\""
   ]
  },
  {
   "cell_type": "code",
   "execution_count": 58,
   "id": "4d273709-04d0-446e-8316-f87f176e1235",
   "metadata": {},
   "outputs": [],
   "source": [
    "# open raster\n",
    "litho, profile, transform = open_raster(ftypes)\n",
    "raster_in = open_raster(fraster)[0]"
   ]
  },
  {
   "cell_type": "markdown",
   "id": "cec17107-67e6-4c20-a2ef-37292e15732f",
   "metadata": {},
   "source": [
    "##### Create new raster dataset"
   ]
  },
  {
   "cell_type": "code",
   "execution_count": 61,
   "id": "c18725f5-52ec-4e95-9ea9-4da60fe43b6e",
   "metadata": {},
   "outputs": [],
   "source": [
    "# create raster\n",
    "data = raster_from_factors(litho, raster_in, dftable)"
   ]
  },
  {
   "cell_type": "markdown",
   "id": "59a22d74-4bd6-41e9-b156-74d785ac2bac",
   "metadata": {},
   "source": [
    "#### Save new raster dataset"
   ]
  },
  {
   "cell_type": "code",
   "execution_count": 62,
   "id": "0fd5cf38-1841-48b6-8317-c22fddae8b9f",
   "metadata": {},
   "outputs": [],
   "source": [
    "# save raster\n",
    "fname_out = \"C:/Users/Edisson/OneDrive - Cardiff University/models/cuwalid/examples_json/multiaq/input/MA_test_ksat_mod.asc\"\n",
    "save_raster(fname_out, data, profile, transform)"
   ]
  },
  {
   "cell_type": "code",
   "execution_count": null,
   "id": "63ef34ca-cdf7-487e-811b-4eef31473fd0",
   "metadata": {},
   "outputs": [],
   "source": []
  },
  {
   "cell_type": "code",
   "execution_count": null,
   "id": "9714c242-0522-4a9d-b68a-ba8f005a629e",
   "metadata": {},
   "outputs": [],
   "source": []
  }
 ],
 "metadata": {
  "kernelspec": {
   "display_name": "Python [conda env:Anaconda3]",
   "language": "python",
   "name": "conda-env-Anaconda3-py"
  },
  "language_info": {
   "codemirror_mode": {
    "name": "ipython",
    "version": 3
   },
   "file_extension": ".py",
   "mimetype": "text/x-python",
   "name": "python",
   "nbconvert_exporter": "python",
   "pygments_lexer": "ipython3",
   "version": "3.7.6"
  }
 },
 "nbformat": 4,
 "nbformat_minor": 5
}
