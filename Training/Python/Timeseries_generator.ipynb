{
 "cells": [
  {
   "cell_type": "markdown",
   "id": "9e1c4d06-c6fe-4f63-a131-9046788a2448",
   "metadata": {},
   "source": [
    "# CUWALID TRAINING"
   ]
  },
  {
   "cell_type": "markdown",
   "id": "bb3012da-305a-4001-aff5-75ebc422b61b",
   "metadata": {},
   "source": [
    "## CUWALID: Python basics - Temporal data"
   ]
  },
  {
   "cell_type": "markdown",
   "id": "f6e17806-8a9a-4778-a4d3-636940752423",
   "metadata": {},
   "source": [
    "To help you understand the model, it is useful to force the model with datasets that are simple to interpret.\n",
    "\n",
    "Here you will find a set of functions that can help you to create synthetic time-series that can be used for model testing. DRYP uses *.csv and *.nc as temporal datasets for model forcings.\n",
    "\n",
    "Below you can find a set of examples of synthetic datasets:\n",
    "1. Create time-series as *.CSV files\n",
    "2. Create gridded time-series datasets."
   ]
  },
  {
   "cell_type": "code",
   "execution_count": 37,
   "id": "d9283f40-ba3d-41ee-a54f-a5ba786af728",
   "metadata": {},
   "outputs": [],
   "source": [
    "import numpy as np\n",
    "import pandas as pd\n",
    "import matplotlib.pyplot as plt\n",
    "import datetime\n",
    "import xarray as xr\n",
    "import calendar"
   ]
  },
  {
   "cell_type": "code",
   "execution_count": 38,
   "id": "2661aa11-6980-4ba0-b208-39279779d23d",
   "metadata": {},
   "outputs": [],
   "source": [
    "def create_timeseries(pre=0.1, pet=0.1, years=5, ndayswet=10, ndaysdry=21):\n",
    "\t# precipitation = 0.20 #[mm/h]\n",
    "\t# Evapotrsnspiraiton rate\n",
    "\t# duration of the cycle\n",
    "\t# number of rainy days\n",
    "\t#nrain = 10 #days\n",
    "\t# number of dry days\n",
    "\t#ndry = 20 #days\n",
    "\t\n",
    "\t# Create pulse event\n",
    "\tdata = np.ones(24*ndayswet)\n",
    "\tdata = np.append(data, np.zeros(ndaysdry*24))#reshape(-1).reshape(-1)\n",
    "\t#print(data)# = np.append()\n",
    "\t\n",
    "\t# Create pulse event series\n",
    "\tdata_1 = []\n",
    "\tfor i in range(years*12):\n",
    "\t\tdata_1 = np.append(data_1, data).reshape(-1)\n",
    "\n",
    "\t#data_1 = data_1.reshape(-1)\n",
    "\t# Creeate dataframe\n",
    "\tdf = pd.DataFrame()\n",
    "\t\n",
    "\t# Date\n",
    "\tdf['Date'] = pd.date_range(datetime.date(2000, 1, 1),\n",
    "\t\t\tperiods=len(data_1), freq='H')\t\n",
    "\t\n",
    "\t# Precipitation\n",
    "\tdf['pre'] = data_1*pre\n",
    "\t\n",
    "\t# Evapotranspiration\n",
    "\tdf['pet'] = pet*(np.sin(\n",
    "\t\t(np.arange(len(data_1))+18)*np.pi/12)+1.0)*0.5#+PET\n",
    "\t\n",
    "\treturn df\n",
    "\n",
    "def create_simple_timeseries(default_values=[-0.001, -0.001], var_name=\"fluxSZ\", years=5):\n",
    "\t# length of data depend on number of years\n",
    "\t# Creeate dataframe\n",
    "\tdf = pd.DataFrame()\n",
    "\t\n",
    "\t# Date\n",
    "\tdf['Date'] = pd.date_range(datetime.date(2000, 1, 1),\n",
    "\t\t\tperiods=24*365*years, freq='H')\t\n",
    "\t\n",
    "\t# Precipitation\n",
    "\tfor i, ivalue in enumerate(default_values):\n",
    "\t\tdf[var_name+str(i)] = ivalue\n",
    "\t\n",
    "\treturn df"
   ]
  },
  {
   "cell_type": "code",
   "execution_count": 39,
   "id": "c804e876-45e9-40cb-b809-dbf4c7ba5278",
   "metadata": {},
   "outputs": [],
   "source": [
    "def create_netcdf_from_dataframe(dataframe, ifield, lat, lon, time_var=\"Date\"):\n",
    "\t\"\"\"Function to create netCDF files from csv viels\"\"\"\n",
    "\t\n",
    "\t# Create a DataArray with time, lat, and long dimensions\n",
    "\tda = xr.DataArray(\n",
    "\t\tdataframe[ifield].values[:, np.newaxis, np.newaxis]*\n",
    "\t\tnp.ones((len(lat), len(lon))),\n",
    "\t\tdims=('time', 'lat', 'lon'),\n",
    "\t\tcoords={'time': dataframe[time_var],\n",
    "\t\t'lat': lat,\n",
    "\t\t'lon': lon}\n",
    "\t\t)\n",
    "\tda = xr.Dataset({ifield: da})\t\t\n",
    "\treturn da"
   ]
  },
  {
   "cell_type": "markdown",
   "id": "8421963d-29be-4b54-986e-bed602e7df7e",
   "metadata": {},
   "source": [
    "For the following examples you will store all outputs in the directory created only for this practicals:"
   ]
  },
  {
   "cell_type": "code",
   "execution_count": 40,
   "id": "922ed637-639b-4d24-becb-94d018b4b5ec",
   "metadata": {},
   "outputs": [],
   "source": [
    "folder = \"C:/Users/Edisson/Documents/GitHub/CUWALID-Example/Examples/Python/\""
   ]
  },
  {
   "cell_type": "markdown",
   "id": "8e7209ef-c7f8-4cdb-a773-d343771acebd",
   "metadata": {},
   "source": [
    "## 1. Create timeseries as *.CSV files"
   ]
  },
  {
   "cell_type": "markdown",
   "id": "47aff631-605e-4278-8690-5b265ee06d0e",
   "metadata": {},
   "source": [
    "#### Create synthetic time series of precipitation and potential evapotranspiration"
   ]
  },
  {
   "cell_type": "markdown",
   "id": "b0d08070-06f5-4deb-bf55-5e861da3b033",
   "metadata": {},
   "source": [
    "In this example the user will create dataframe for precipitation and potential evapotranspiration using a step-wise function for precipitaiton and a sine function for the evapotranspirations."
   ]
  },
  {
   "cell_type": "code",
   "execution_count": 41,
   "id": "b8f8bf54-fed0-426f-833e-85860442b270",
   "metadata": {},
   "outputs": [
    {
     "name": "stderr",
     "output_type": "stream",
     "text": [
      "C:\\Users\\Edisson\\AppData\\Local\\Temp\\ipykernel_36380\\1221916998.py:25: FutureWarning: 'H' is deprecated and will be removed in a future version, please use 'h' instead.\n",
      "  df['Date'] = pd.date_range(datetime.date(2000, 1, 1),\n"
     ]
    }
   ],
   "source": [
    "# call function to create synthetic time series\n",
    "ds = create_timeseries(pre=0.5, pet=0.2, years=5, ndayswet=10, ndaysdry=20)"
   ]
  },
  {
   "cell_type": "code",
   "execution_count": 42,
   "id": "1c5268e6-740c-444d-bdfd-04d73572c173",
   "metadata": {},
   "outputs": [],
   "source": [
    "# create a path for the new dataset\n",
    "fname = folder + \"/mLA_time_series.csv\""
   ]
  },
  {
   "cell_type": "code",
   "execution_count": 43,
   "id": "9f08e966-cac1-4908-888d-213616024e24",
   "metadata": {},
   "outputs": [],
   "source": [
    "# Save dataframe as csv file\n",
    "ds.to_csv(fname,index = False)"
   ]
  },
  {
   "cell_type": "code",
   "execution_count": 44,
   "id": "e2bedfed-2f3f-420e-a199-0c9a8c420ecd",
   "metadata": {},
   "outputs": [],
   "source": [
    "#ds.sum()"
   ]
  },
  {
   "cell_type": "markdown",
   "id": "a7f2219c-9f02-4cbf-ae96-26458f0089e5",
   "metadata": {},
   "source": [
    "Plot the outputs to see the results"
   ]
  },
  {
   "cell_type": "code",
   "execution_count": 45,
   "id": "a6d8b21e-1cb7-428f-9140-ee691510e363",
   "metadata": {},
   "outputs": [
    {
     "data": {
      "text/plain": [
       "<Axes: xlabel='Date'>"
      ]
     },
     "execution_count": 45,
     "metadata": {},
     "output_type": "execute_result"
    },
    {
     "data": {
      "image/png": "[encoded data removed]",
      "text/plain": [
       "<Figure size 640x480 with 1 Axes>"
      ]
     },
     "metadata": {},
     "output_type": "display_data"
    }
   ],
   "source": [
    "# You can use the in-build plot function to quicly plot datasets\n",
    "ds.plot(x=\"Date\")"
   ]
  },
  {
   "cell_type": "markdown",
   "id": "2c776f87-c0cd-4d49-9ea8-2a29a53d3e29",
   "metadata": {},
   "source": [
    "#### Generate time series with constant values"
   ]
  },
  {
   "cell_type": "markdown",
   "id": "f725a972-8744-492e-9761-83a813d1d944",
   "metadata": {},
   "source": [
    "Here, the user will create time series with constant values"
   ]
  },
  {
   "cell_type": "code",
   "execution_count": 46,
   "id": "10e3521f-f6ae-4b0a-bbff-2d038ddcb0cb",
   "metadata": {},
   "outputs": [
    {
     "name": "stderr",
     "output_type": "stream",
     "text": [
      "C:\\Users\\Edisson\\AppData\\Local\\Temp\\ipykernel_36380\\1221916998.py:43: FutureWarning: 'H' is deprecated and will be removed in a future version, please use 'h' instead.\n",
      "  df['Date'] = pd.date_range(datetime.date(2000, 1, 1),\n"
     ]
    }
   ],
   "source": [
    "# check the funcion at the beggining to undesrtand how it works\n",
    "ds = create_simple_timeseries()"
   ]
  },
  {
   "cell_type": "code",
   "execution_count": 47,
   "id": "1fbc8c15-75a0-411e-b13f-c06ddf355ea3",
   "metadata": {},
   "outputs": [],
   "source": [
    "# Specify the path of the output\n",
    "fname = folder + \"/ABS_60min.csv\""
   ]
  },
  {
   "cell_type": "code",
   "execution_count": 48,
   "id": "c9016fe9-66d0-4f1e-8bea-181dbfe13342",
   "metadata": {},
   "outputs": [],
   "source": [
    "# Save dataframe\n",
    "ds.to_csv(fname,index = False)"
   ]
  },
  {
   "cell_type": "markdown",
   "id": "0d783da0-8d2a-45dd-8f63-ca6249129805",
   "metadata": {},
   "source": [
    "## 2. Generate gridded datasets"
   ]
  },
  {
   "cell_type": "markdown",
   "id": "6ffb9e18-5e53-4ade-922c-efd8fc826b65",
   "metadata": {},
   "source": [
    "In this section, the user will become familiar with gridded datasets which are usually stored as *.nc files. The main advantage of this format is that it can store gridded temporal data efficiently, although it still can result in large files.\n",
    "\n",
    "The examples below do not represent real values and are only as used with didactical porpuses."
   ]
  },
  {
   "cell_type": "markdown",
   "id": "aaeeb297-4e45-4fc2-88de-b5a9019c9f82",
   "metadata": {},
   "source": [
    "### Create synthetic gridded as netCDF files"
   ]
  },
  {
   "cell_type": "markdown",
   "id": "d978285b-6686-420c-a4bd-77117b947ea1",
   "metadata": {},
   "source": [
    "Specify the grid size and coordinates of the new gridded datasets"
   ]
  },
  {
   "cell_type": "code",
   "execution_count": 49,
   "id": "848f45ba-a432-4b4f-9f76-050fbdfd2b92",
   "metadata": {},
   "outputs": [],
   "source": [
    "ncol = 21 # number of columns\n",
    "nrow = 21 # number of rows\n",
    "cell = 1000. # data grid size"
   ]
  },
  {
   "cell_type": "code",
   "execution_count": 50,
   "id": "ded0d611-f48d-4259-b3b7-afb95f043fdd",
   "metadata": {},
   "outputs": [],
   "source": [
    "# coordinates of gridded datasets\n",
    "lat = np.linspace(0, nrow*cell, nrow)\n",
    "lon = np.linspace(0, ncol*cell, ncol)"
   ]
  },
  {
   "cell_type": "markdown",
   "id": "a3eef4b3-da9a-4dd4-af9e-a03c1fba4da6",
   "metadata": {},
   "source": [
    "**Create crop coeficient**"
   ]
  },
  {
   "cell_type": "code",
   "execution_count": 51,
   "id": "5b61a0db-52a3-43c7-b262-609fd02bff48",
   "metadata": {},
   "outputs": [],
   "source": [
    "# values of the variable to create, it will be used as a uniform value for the grid\n",
    "kc = np.array([0.1, 0.1, 0.25, 0.50, 0.75, 1.0, 1.0, 1.0, 0.75, 0.50, 0.25, 0.10])\n",
    "# time variable\n",
    "time = np.arange(1, 13)"
   ]
  },
  {
   "cell_type": "code",
   "execution_count": 52,
   "id": "2429ca0a-e144-4a06-9767-a6dfc30892c8",
   "metadata": {},
   "outputs": [],
   "source": [
    "#Create a dataframe to resampling data at the expected temporal resolution\n",
    "df = pd.DataFrame({\"Date\": time, \"kc\": kc})"
   ]
  },
  {
   "cell_type": "code",
   "execution_count": 53,
   "id": "ce58688b-196c-46c4-afc7-99c4052f2e6b",
   "metadata": {},
   "outputs": [],
   "source": [
    "# Create dataset, check the functions above to understand the function\n",
    "ds = create_netcdf_from_dataframe(df, \"kc\", lat, lon)"
   ]
  },
  {
   "cell_type": "code",
   "execution_count": 54,
   "id": "577ca47c-c606-429d-ad7e-a301d1cc97ff",
   "metadata": {},
   "outputs": [],
   "source": [
    "fname = folder + \"/DV_time_series_kc.nc\""
   ]
  },
  {
   "cell_type": "code",
   "execution_count": 55,
   "id": "ad432a06-084d-4448-a8b9-23523e4b3589",
   "metadata": {},
   "outputs": [],
   "source": [
    "# Save dataframe\n",
    "ds.to_netcdf(fname)\n",
    "#ds"
   ]
  },
  {
   "cell_type": "markdown",
   "id": "5c088646-7d47-402a-bfae-0f86ab5e82ae",
   "metadata": {},
   "source": [
    "**Create LAI**"
   ]
  },
  {
   "cell_type": "markdown",
   "id": "7f1aa199-c32c-43cd-b099-36174e3dfaeb",
   "metadata": {},
   "source": [
    "Follow the same approach to create a new dataset with anothe variable"
   ]
  },
  {
   "cell_type": "code",
   "execution_count": 56,
   "id": "ca712de5-d9ce-41c9-a853-0a423637eb0b",
   "metadata": {},
   "outputs": [],
   "source": [
    "LAI = np.array([0.1, 0.1, 0.25, 0.50, 0.75, 1.0, 1.0, 0.75, 0.50, 0.25, 0.10, 0.1])"
   ]
  },
  {
   "cell_type": "code",
   "execution_count": 57,
   "id": "e52d4c89-a4bf-49d2-9570-1e849daea3fa",
   "metadata": {},
   "outputs": [],
   "source": [
    "df = pd.DataFrame({\"Date\": time, \"LAI\": LAI})"
   ]
  },
  {
   "cell_type": "code",
   "execution_count": 58,
   "id": "24827d63-6a12-49c2-aba8-012561dba8fa",
   "metadata": {},
   "outputs": [],
   "source": [
    "ds = create_netcdf_from_dataframe(df, \"LAI\", lat, lon)"
   ]
  },
  {
   "cell_type": "code",
   "execution_count": 59,
   "id": "0b9456ac-9484-4881-b1ca-249c43a8b8d0",
   "metadata": {},
   "outputs": [],
   "source": [
    "fname = folder + \"/DV_time_series_LAI.nc\""
   ]
  },
  {
   "cell_type": "code",
   "execution_count": 60,
   "id": "dc73e29a-a7bc-472b-8058-81cc05470ede",
   "metadata": {},
   "outputs": [],
   "source": [
    "# Save dataframe\n",
    "ds.to_netcdf(fname)"
   ]
  },
  {
   "cell_type": "markdown",
   "id": "8d6c3d92-3667-4315-8b29-abc32461ec84",
   "metadata": {},
   "source": [
    "**Create vegetation fraction cover**"
   ]
  },
  {
   "cell_type": "markdown",
   "id": "b97f0f9c-87a7-4c25-9c19-38c4768f908c",
   "metadata": {},
   "source": [
    "Follow the same approach to create a new dataset with anothe variable"
   ]
  },
  {
   "cell_type": "code",
   "execution_count": 61,
   "id": "be7ca3f8-225a-4960-b233-c4797037c410",
   "metadata": {},
   "outputs": [],
   "source": [
    "av = np.array([0.1, 0.1, 0.25, 0.50, 0.50, 0.5, 0.5, 0.5, 0.50, 0.25, 0.10, 0.10])"
   ]
  },
  {
   "cell_type": "code",
   "execution_count": 62,
   "id": "259c1014-360e-4108-8b3b-f1c13c1a4183",
   "metadata": {},
   "outputs": [],
   "source": [
    "df = pd.DataFrame({\"Date\": time, \"VegetationFraction\": av})"
   ]
  },
  {
   "cell_type": "code",
   "execution_count": 63,
   "id": "16904788-893e-471b-928f-d6574b1656ac",
   "metadata": {},
   "outputs": [],
   "source": [
    "ds = create_netcdf_from_dataframe(df, \"VegetationFraction\", lat, lon)"
   ]
  },
  {
   "cell_type": "code",
   "execution_count": 64,
   "id": "f9a29d1b-dc88-47a8-bb9b-3a47b06ed379",
   "metadata": {},
   "outputs": [],
   "source": [
    "fname = folder + \"/DV_time_series_av.nc\""
   ]
  },
  {
   "cell_type": "code",
   "execution_count": 65,
   "id": "6f214e35-6d22-4063-9171-3c10745038e8",
   "metadata": {},
   "outputs": [],
   "source": [
    "# Save dataframe\n",
    "ds.to_netcdf(fname)"
   ]
  },
  {
   "cell_type": "code",
   "execution_count": 66,
   "id": "8058fc45-6e2b-4f0e-9c49-887fea06d17b",
   "metadata": {},
   "outputs": [
    {
     "data": {
      "text/plain": [
       "<xarray.plot.facetgrid.FacetGrid at 0x2845e503a50>"
      ]
     },
     "execution_count": 66,
     "metadata": {},
     "output_type": "execute_result"
    },
    {
     "data": {
      "image/png": "[encoded data removed]",
      "text/plain": [
       "<Figure size 3700x300 with 13 Axes>"
      ]
     },
     "metadata": {},
     "output_type": "display_data"
    }
   ],
   "source": [
    "ds[\"VegetationFraction\"].plot(x='lon', y='lat', col='time')"
   ]
  },
  {
   "cell_type": "markdown",
   "id": "5f7629eb-9f55-4a28-8c0b-a3c6d52ef622",
   "metadata": {},
   "source": [
    "### Generate daily values in monthly files"
   ]
  },
  {
   "cell_type": "markdown",
   "id": "37c901fb-acdf-4e24-88fb-0644422b5d33",
   "metadata": {},
   "source": [
    "In this section you will create multiple files corresponding each one to an specicif month.\n",
    "\n",
    "The variable created will be the lastest variable stored in the cache so uncomment and run any of the specified variables if required."
   ]
  },
  {
   "cell_type": "code",
   "execution_count": 67,
   "id": "f9928d64-8661-4d50-8b5c-3daa32002600",
   "metadata": {},
   "outputs": [],
   "source": [
    "def create_dailydataset_from_yearly(dataset, year=2020):\n",
    "\t\t\n",
    "\t# Assuming time is the coordinate for monthly data\n",
    "\ttime_monthly = dataset['time'].values\n",
    "\n",
    "\t# Generate a list of the number of days in each month for a non-leap year\n",
    "\tdays_per_month = [calendar.monthrange(year, month)[1] for month in time_monthly]\n",
    "\n",
    "\t# Generate a daily time coordinate\n",
    "\ttime_daily = np.arange(1, sum(days_per_month))\n",
    "\t\n",
    "\t# update time\n",
    "\tdataset[\"time\"] = np.cumsum(days_per_month)\n",
    "\t\t\n",
    "\t# Interpolate to daily values\n",
    "\tds_daily = dataset.reindex(time=time_daily, method='nearest').interpolate_na(dim='time')\n",
    "\t\n",
    "\t# Save the interpolated data to a new NetCDF file\n",
    "\t#ds_daily.to_netcdf(\"daily_data.nc\")\n",
    "\treturn ds_daily\n",
    "    \n",
    "def create_daily_monthly_dataset_yearlyfiles(dataset, year=2020, fname=None):\n",
    "\t\t\n",
    "\t# Assuming time is the coordinate for monthly data\n",
    "\ttime_monthly = dataset['time'].values\n",
    "\n",
    "\t# Generate a list of the number of days in each month for a non-leap year\n",
    "\tdays_per_month = [calendar.monthrange(year, month)[1] for month in time_monthly]\n",
    "\n",
    "\t# Generate a daily time coordinate\n",
    "\ttime_daily = np.arange(1, days_per_month[0]+1)\n",
    "\t\n",
    "\t# update time\n",
    "\tdataset[\"time\"] = [1, days_per_month[0]+1]\n",
    "\t\t\n",
    "\t# Interpolate to daily values\n",
    "\tds_month_daily = dataset.reindex(time=time_daily, method='nearest').interpolate_na(dim='time')\n",
    "\t\n",
    "\t# Save the interpolated data to a new NetCDF file\n",
    "\tif fname is not None:\n",
    "\t\tds_month_daily.to_netcdf(fname)\n",
    "\treturn ds_month_daily"
   ]
  },
  {
   "cell_type": "code",
   "execution_count": 68,
   "id": "364f2bf7-39d5-40d3-abd4-19dd1ec474a9",
   "metadata": {},
   "outputs": [],
   "source": [
    "#create_daily_monthly_dataset_yearlyfiles(ds)"
   ]
  },
  {
   "cell_type": "code",
   "execution_count": 69,
   "id": "ab79fd54-b768-4a0a-b26b-fba20f8267d5",
   "metadata": {},
   "outputs": [
    {
     "data": {
      "text/plain": [
       "array([ 1,  2,  3,  4,  5,  6,  7,  8,  9, 10, 11, 12])"
      ]
     },
     "execution_count": 69,
     "metadata": {},
     "output_type": "execute_result"
    }
   ],
   "source": [
    "ds['time'].values"
   ]
  },
  {
   "cell_type": "code",
   "execution_count": 70,
   "id": "9e5a57a4-2e54-4c3d-bd52-b8d579a9e325",
   "metadata": {},
   "outputs": [],
   "source": [
    "#create_daily_monthly_dataset_yearlyfiles(ds[\"VegetationFraction\"][0:2])\n",
    "#dfs = ds[\"VegetationFraction\"][1:3]"
   ]
  },
  {
   "cell_type": "markdown",
   "id": "9d791862-d5da-4669-ae6e-981552614eee",
   "metadata": {},
   "source": [
    "Loop over each month (0 to 11) to generate input files for each month.\n",
    "\n",
    "Special handling: if index is 0 (i.e., January), assign imonth as 12 (December) to wrap around.\n",
    "\n",
    "Define file name for output LAI time series using formatted month value.\n",
    "Other vegetation variables (kc, av, VegetationFraction) are shown as commented alternatives.\n",
    "Generate time series using two-month slices of the LAI dataset and save to the specified file.\n"
   ]
  },
  {
   "cell_type": "code",
   "execution_count": 71,
   "id": "9b512336-5c56-42d3-99cd-70d9e0361a07",
   "metadata": {},
   "outputs": [],
   "source": [
    "for i, imonth in enumerate(range(12)):\n",
    "    if i == 0:\n",
    "        imonth = 12\n",
    "    #fname = folder + \"/DV_time_series_kc_\"+\"{:02}\".format(imonth)+\".nc\"\n",
    "    #fname = folder + \"/DV_time_series_LAI_\"+\"{:02}\".format(imonth)+\".nc\"\n",
    "    fname = folder + \"/DV_time_series_av_\"+\"{:02}\".format(i+1)+\".nc\"\n",
    "    \n",
    "    #print(i-1,i, fname)\n",
    "    #create_daily_monthly_dataset_yearlyfiles(ds[\"kc\"][[i-1,i]], fname=fname)\n",
    "    #create_daily_monthly_dataset_yearlyfiles(ds[\"LAI\"][[i-1,i]], fname=fname)\n",
    "    create_daily_monthly_dataset_yearlyfiles(ds[\"VegetationFraction\"][[i-1,i]], fname=fname)"
   ]
  },
  {
   "cell_type": "code",
   "execution_count": 72,
   "id": "bf53728b-7779-4c72-8d3a-9c2a1dac7bf7",
   "metadata": {},
   "outputs": [],
   "source": [
    "fname = folder + \"/DV_time_series_LAI_02.nc\""
   ]
  },
  {
   "cell_type": "code",
   "execution_count": 73,
   "id": "c712298f-67af-4e88-aae4-07706aad2946",
   "metadata": {},
   "outputs": [],
   "source": [
    "#xr.open_dataset(fname)"
   ]
  },
  {
   "cell_type": "code",
   "execution_count": null,
   "id": "7f702578-0c37-45ea-8b23-589f50f525c2",
   "metadata": {},
   "outputs": [],
   "source": []
  }
 ],
 "metadata": {
  "kernelspec": {
   "display_name": "Python 3 (ipykernel)",
   "language": "python",
   "name": "python3"
  },
  "language_info": {
   "codemirror_mode": {
    "name": "ipython",
    "version": 3
   },
   "file_extension": ".py",
   "mimetype": "text/x-python",
   "name": "python",
   "nbconvert_exporter": "python",
   "pygments_lexer": "ipython3",
   "version": "3.11.4"
  }
 },
 "nbformat": 4,
 "nbformat_minor": 5
}
