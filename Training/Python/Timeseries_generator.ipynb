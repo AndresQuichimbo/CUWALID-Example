{
 "cells": [
  {
   "cell_type": "markdown",
   "id": "bb3012da-305a-4001-aff5-75ebc422b61b",
   "metadata": {},
   "source": [
    "# Generate synthetic temporal datasets for model testing"
   ]
  },
  {
   "cell_type": "markdown",
   "id": "f6e17806-8a9a-4778-a4d3-636940752423",
   "metadata": {},
   "source": [
    "To help you understand the model, it is useful to force the model with datasets that are simple to interpret.\n",
    "\n",
    "Here you fill find a set of functions that can help you to create systhetic timeseries that can be used for model testing. DRYP uses *.csv and *.nc as temporal dataset for model forcings.\n",
    "\n",
    "Below you can find a set of examples of synthetic datasets:\n",
    "* Create timeseries of precipitation and potential evapotranspiration\n",
    "* Create timeseries of water abstractions\n",
    "* Create gridded datasets at different temporal resolutions and for different variables\n",
    "\n"
   ]
  },
  {
   "cell_type": "code",
   "execution_count": 1,
   "id": "d9283f40-ba3d-41ee-a54f-a5ba786af728",
   "metadata": {},
   "outputs": [],
   "source": [
    "import numpy as np\n",
    "import pandas as pd\n",
    "import matplotlib.pyplot as plt\n",
    "import datetime\n",
    "import xarray as xr\n",
    "import calendar"
   ]
  },
  {
   "cell_type": "code",
   "execution_count": 2,
   "id": "2661aa11-6980-4ba0-b208-39279779d23d",
   "metadata": {},
   "outputs": [],
   "source": [
    "def create_timeseries(pre=0.1, pet=0.1, years=5, ndayswet=10, ndaysdry=21):\n",
    "\t#precipitation = 0.20 #[mm/h]\n",
    "\t# Evapotrsnspiraiton rate\n",
    "\t# duration of the cycle\n",
    "\t# number of rainy days\n",
    "\t#nrain = 10 #days\n",
    "\t# number of dry days\n",
    "\t#ndry = 20 #days\n",
    "\t\n",
    "\t# Create pulse event\n",
    "\tdata = np.ones(24*ndayswet)\n",
    "\tdata = np.append(data, np.zeros(ndaysdry*24))#reshape(-1).reshape(-1)\n",
    "\t#print(data)# = np.append()\n",
    "\t\n",
    "\t# Create pulse event series\n",
    "\tdata_1 = []\n",
    "\tfor i in range(years*12):\n",
    "\t\tdata_1 = np.append(data_1, data).reshape(-1)\n",
    "\n",
    "\t#data_1 = data_1.reshape(-1)\n",
    "\t# Creeate dataframe\n",
    "\tdf = pd.DataFrame()\n",
    "\t\n",
    "\t# Date\n",
    "\tdf['Date'] = pd.date_range(datetime.date(2000, 1, 1),\n",
    "\t\t\tperiods=len(data_1), freq='H')\t\n",
    "\t\n",
    "\t# Precipitation\n",
    "\tdf['pre'] = data_1*pre\n",
    "\t\n",
    "\t# Evapotranspiration\n",
    "\tdf['pet'] = pet*(np.sin(\n",
    "\t\t(np.arange(len(data_1))+18)*np.pi/12)+1.0)*0.5#+PET\n",
    "\t\n",
    "\treturn df\n",
    "\n",
    "def create_simple_timeseries(default_values=[-0.001, -0.001], var_name=\"fluxSZ\", years=5):\n",
    "\t# length of data depend on number of years\n",
    "\t# Creeate dataframe\n",
    "\tdf = pd.DataFrame()\n",
    "\t\n",
    "\t# Date\n",
    "\tdf['Date'] = pd.date_range(datetime.date(2000, 1, 1),\n",
    "\t\t\tperiods=24*365*years, freq='H')\t\n",
    "\t\n",
    "\t# Precipitation\n",
    "\tfor i, ivalue in enumerate(default_values):\n",
    "\t\tdf[var_name+str(i)] = ivalue\n",
    "\t\n",
    "\treturn df"
   ]
  },
  {
   "cell_type": "code",
   "execution_count": 3,
   "id": "c804e876-45e9-40cb-b809-dbf4c7ba5278",
   "metadata": {},
   "outputs": [],
   "source": [
    "def create_netcdf_from_dataframe(dataframe, ifield, lat, lon, time_var=\"Date\"):\n",
    "\t\"\"\"Function to create netCDF files from csv viels\"\"\"\n",
    "\t\n",
    "\t# Create a DataArray with time, lat, and long dimensions\n",
    "\tda = xr.DataArray(\n",
    "\t\tdataframe[ifield].values[:, np.newaxis, np.newaxis]*\n",
    "\t\tnp.ones((len(lat), len(lon))),\n",
    "\t\tdims=('time', 'lat', 'lon'),\n",
    "\t\tcoords={'time': dataframe[time_var],\n",
    "\t\t'lat': lat,\n",
    "\t\t'lon': lon}\n",
    "\t\t)\n",
    "\tda = xr.Dataset({ifield: da})\t\t\n",
    "\treturn da"
   ]
  },
  {
   "cell_type": "markdown",
   "id": "8e7209ef-c7f8-4cdb-a773-d343771acebd",
   "metadata": {},
   "source": [
    "## Generate csv files"
   ]
  },
  {
   "cell_type": "code",
   "execution_count": 17,
   "id": "b8f8bf54-fed0-426f-833e-85860442b270",
   "metadata": {},
   "outputs": [],
   "source": [
    "ds = create_timeseries(pre=0.5, pet=0.2, years=5, ndayswet=10, ndaysdry=20)"
   ]
  },
  {
   "cell_type": "code",
   "execution_count": 18,
   "id": "922ed637-639b-4d24-becb-94d018b4b5ec",
   "metadata": {},
   "outputs": [],
   "source": [
    "folder = \"C:/Users/Edisson\\OneDrive - Cardiff University/models/cuwalid/examples_json/\""
   ]
  },
  {
   "cell_type": "code",
   "execution_count": 19,
   "id": "1c5268e6-740c-444d-bdfd-04d73572c173",
   "metadata": {},
   "outputs": [],
   "source": [
    "fname = folder + \"/mlakes/input/mLA_time_series.csv\""
   ]
  },
  {
   "cell_type": "code",
   "execution_count": 20,
   "id": "9f08e966-cac1-4908-888d-213616024e24",
   "metadata": {},
   "outputs": [],
   "source": [
    "# Save dataframe\n",
    "ds.to_csv(fname,index = False)"
   ]
  },
  {
   "cell_type": "code",
   "execution_count": 15,
   "id": "e2bedfed-2f3f-420e-a199-0c9a8c420ecd",
   "metadata": {},
   "outputs": [],
   "source": [
    "#ds.sum()"
   ]
  },
  {
   "cell_type": "code",
   "execution_count": 16,
   "id": "a6d8b21e-1cb7-428f-9140-ee691510e363",
   "metadata": {},
   "outputs": [
    {
     "data": {
      "text/plain": [
       "<Axes: xlabel='Date'>"
      ]
     },
     "execution_count": 16,
     "metadata": {},
     "output_type": "execute_result"
    },
    {
     "data": {
      "image/png": "[encoded data removed]",
      "text/plain": [
       "<Figure size 640x480 with 1 Axes>"
      ]
     },
     "metadata": {},
     "output_type": "display_data"
    }
   ],
   "source": [
    "ds.plot(x=\"Date\")"
   ]
  },
  {
   "cell_type": "markdown",
   "id": "2c776f87-c0cd-4d49-9ea8-2a29a53d3e29",
   "metadata": {},
   "source": [
    "### generate abstractions"
   ]
  },
  {
   "cell_type": "code",
   "execution_count": 30,
   "id": "10e3521f-f6ae-4b0a-bbff-2d038ddcb0cb",
   "metadata": {},
   "outputs": [],
   "source": [
    "ds = create_simple_timeseries()"
   ]
  },
  {
   "cell_type": "code",
   "execution_count": 31,
   "id": "1fbc8c15-75a0-411e-b13f-c06ddf355ea3",
   "metadata": {},
   "outputs": [],
   "source": [
    "fname = folder + \"/abstraction/input/ABS_60min.csv\""
   ]
  },
  {
   "cell_type": "code",
   "execution_count": 32,
   "id": "c9016fe9-66d0-4f1e-8bea-181dbfe13342",
   "metadata": {},
   "outputs": [],
   "source": [
    "# Save dataframe\n",
    "ds.to_csv(fname,index = False)"
   ]
  },
  {
   "cell_type": "markdown",
   "id": "0d783da0-8d2a-45dd-8f63-ca6249129805",
   "metadata": {},
   "source": [
    "## Generate gridded datasets"
   ]
  },
  {
   "cell_type": "code",
   "execution_count": 4,
   "id": "7efcc09c-1e5f-43e5-b903-5d6fccb5ec36",
   "metadata": {},
   "outputs": [],
   "source": [
    "folder = \"C:/Users/Edisson\\OneDrive - Cardiff University/models/cuwalid/examples_json/\""
   ]
  },
  {
   "cell_type": "code",
   "execution_count": 5,
   "id": "848f45ba-a432-4b4f-9f76-050fbdfd2b92",
   "metadata": {},
   "outputs": [],
   "source": [
    "ncol = 21\n",
    "nrow = 21\n",
    "cell = 1000."
   ]
  },
  {
   "cell_type": "code",
   "execution_count": 6,
   "id": "ded0d611-f48d-4259-b3b7-afb95f043fdd",
   "metadata": {},
   "outputs": [],
   "source": [
    "lat = np.linspace(0, nrow*cell, nrow)\n",
    "lon = np.linspace(0, ncol*cell, ncol)"
   ]
  },
  {
   "cell_type": "markdown",
   "id": "a3eef4b3-da9a-4dd4-af9e-a03c1fba4da6",
   "metadata": {},
   "source": [
    "Create crop coeficient"
   ]
  },
  {
   "cell_type": "code",
   "execution_count": 7,
   "id": "5b61a0db-52a3-43c7-b262-609fd02bff48",
   "metadata": {},
   "outputs": [],
   "source": [
    "kc = np.array([0.1, 0.1, 0.25, 0.50, 0.75, 1.0, 1.0, 1.0, 0.75, 0.50, 0.25, 0.10])\n",
    "time = np.arange(1, 13)"
   ]
  },
  {
   "cell_type": "code",
   "execution_count": 8,
   "id": "2429ca0a-e144-4a06-9767-a6dfc30892c8",
   "metadata": {},
   "outputs": [],
   "source": [
    "df = pd.DataFrame({\"Date\": time, \"kc\": kc})"
   ]
  },
  {
   "cell_type": "code",
   "execution_count": 9,
   "id": "ce58688b-196c-46c4-afc7-99c4052f2e6b",
   "metadata": {},
   "outputs": [],
   "source": [
    "ds = create_netcdf_from_dataframe(df, \"kc\", lat, lon)"
   ]
  },
  {
   "cell_type": "code",
   "execution_count": 358,
   "id": "577ca47c-c606-429d-ad7e-a301d1cc97ff",
   "metadata": {},
   "outputs": [],
   "source": [
    "fname = folder + \"/DynaVeg/input/DV_time_series_kc.nc\""
   ]
  },
  {
   "cell_type": "code",
   "execution_count": 259,
   "id": "ad432a06-084d-4448-a8b9-23523e4b3589",
   "metadata": {},
   "outputs": [
    {
     "data": {
      "text/html": [
       "<div><svg style=\"position: absolute; width: 0; height: 0; overflow: hidden\">\n",
       "<defs>\n",
       "<symbol id=\"icon-database\" viewBox=\"0 0 32 32\">\n",
       "<path d=\"M16 0c-8.837 0-16 2.239-16 5v4c0 2.761 7.163 5 16 5s16-2.239 16-5v-4c0-2.761-7.163-5-16-5z\"></path>\n",
       "<path d=\"M16 17c-8.837 0-16-2.239-16-5v6c0 2.761 7.163 5 16 5s16-2.239 16-5v-6c0 2.761-7.163 5-16 5z\"></path>\n",
       "<path d=\"M16 26c-8.837 0-16-2.239-16-5v6c0 2.761 7.163 5 16 5s16-2.239 16-5v-6c0 2.761-7.163 5-16 5z\"></path>\n",
       "</symbol>\n",
       "<symbol id=\"icon-file-text2\" viewBox=\"0 0 32 32\">\n",
       "<path d=\"M28.681 7.159c-0.694-0.947-1.662-2.053-2.724-3.116s-2.169-2.030-3.116-2.724c-1.612-1.182-2.393-1.319-2.841-1.319h-15.5c-1.378 0-2.5 1.121-2.5 2.5v27c0 1.378 1.122 2.5 2.5 2.5h23c1.378 0 2.5-1.122 2.5-2.5v-19.5c0-0.448-0.137-1.23-1.319-2.841zM24.543 5.457c0.959 0.959 1.712 1.825 2.268 2.543h-4.811v-4.811c0.718 0.556 1.584 1.309 2.543 2.268zM28 29.5c0 0.271-0.229 0.5-0.5 0.5h-23c-0.271 0-0.5-0.229-0.5-0.5v-27c0-0.271 0.229-0.5 0.5-0.5 0 0 15.499-0 15.5 0v7c0 0.552 0.448 1 1 1h7v19.5z\"></path>\n",
       "<path d=\"M23 26h-14c-0.552 0-1-0.448-1-1s0.448-1 1-1h14c0.552 0 1 0.448 1 1s-0.448 1-1 1z\"></path>\n",
       "<path d=\"M23 22h-14c-0.552 0-1-0.448-1-1s0.448-1 1-1h14c0.552 0 1 0.448 1 1s-0.448 1-1 1z\"></path>\n",
       "<path d=\"M23 18h-14c-0.552 0-1-0.448-1-1s0.448-1 1-1h14c0.552 0 1 0.448 1 1s-0.448 1-1 1z\"></path>\n",
       "</symbol>\n",
       "</defs>\n",
       "</svg>\n",
       "<style>/* CSS stylesheet for displaying xarray objects in jupyterlab.\n",
       " *\n",
       " */\n",
       "\n",
       ":root {\n",
       "  --xr-font-color0: var(--jp-content-font-color0, rgba(0, 0, 0, 1));\n",
       "  --xr-font-color2: var(--jp-content-font-color2, rgba(0, 0, 0, 0.54));\n",
       "  --xr-font-color3: var(--jp-content-font-color3, rgba(0, 0, 0, 0.38));\n",
       "  --xr-border-color: var(--jp-border-color2, #e0e0e0);\n",
       "  --xr-disabled-color: var(--jp-layout-color3, #bdbdbd);\n",
       "  --xr-background-color: var(--jp-layout-color0, white);\n",
       "  --xr-background-color-row-even: var(--jp-layout-color1, white);\n",
       "  --xr-background-color-row-odd: var(--jp-layout-color2, #eeeeee);\n",
       "}\n",
       "\n",
       "html[theme=dark],\n",
       "body.vscode-dark {\n",
       "  --xr-font-color0: rgba(255, 255, 255, 1);\n",
       "  --xr-font-color2: rgba(255, 255, 255, 0.54);\n",
       "  --xr-font-color3: rgba(255, 255, 255, 0.38);\n",
       "  --xr-border-color: #1F1F1F;\n",
       "  --xr-disabled-color: #515151;\n",
       "  --xr-background-color: #111111;\n",
       "  --xr-background-color-row-even: #111111;\n",
       "  --xr-background-color-row-odd: #313131;\n",
       "}\n",
       "\n",
       ".xr-wrap {\n",
       "  display: block;\n",
       "  min-width: 300px;\n",
       "  max-width: 700px;\n",
       "}\n",
       "\n",
       ".xr-text-repr-fallback {\n",
       "  /* fallback to plain text repr when CSS is not injected (untrusted notebook) */\n",
       "  display: none;\n",
       "}\n",
       "\n",
       ".xr-header {\n",
       "  padding-top: 6px;\n",
       "  padding-bottom: 6px;\n",
       "  margin-bottom: 4px;\n",
       "  border-bottom: solid 1px var(--xr-border-color);\n",
       "}\n",
       "\n",
       ".xr-header > div,\n",
       ".xr-header > ul {\n",
       "  display: inline;\n",
       "  margin-top: 0;\n",
       "  margin-bottom: 0;\n",
       "}\n",
       "\n",
       ".xr-obj-type,\n",
       ".xr-array-name {\n",
       "  margin-left: 2px;\n",
       "  margin-right: 10px;\n",
       "}\n",
       "\n",
       ".xr-obj-type {\n",
       "  color: var(--xr-font-color2);\n",
       "}\n",
       "\n",
       ".xr-sections {\n",
       "  padding-left: 0 !important;\n",
       "  display: grid;\n",
       "  grid-template-columns: 150px auto auto 1fr 20px 20px;\n",
       "}\n",
       "\n",
       ".xr-section-item {\n",
       "  display: contents;\n",
       "}\n",
       "\n",
       ".xr-section-item input {\n",
       "  display: none;\n",
       "}\n",
       "\n",
       ".xr-section-item input + label {\n",
       "  color: var(--xr-disabled-color);\n",
       "}\n",
       "\n",
       ".xr-section-item input:enabled + label {\n",
       "  cursor: pointer;\n",
       "  color: var(--xr-font-color2);\n",
       "}\n",
       "\n",
       ".xr-section-item input:enabled + label:hover {\n",
       "  color: var(--xr-font-color0);\n",
       "}\n",
       "\n",
       ".xr-section-summary {\n",
       "  grid-column: 1;\n",
       "  color: var(--xr-font-color2);\n",
       "  font-weight: 500;\n",
       "}\n",
       "\n",
       ".xr-section-summary > span {\n",
       "  display: inline-block;\n",
       "  padding-left: 0.5em;\n",
       "}\n",
       "\n",
       ".xr-section-summary-in:disabled + label {\n",
       "  color: var(--xr-font-color2);\n",
       "}\n",
       "\n",
       ".xr-section-summary-in + label:before {\n",
       "  display: inline-block;\n",
       "  content: '►';\n",
       "  font-size: 11px;\n",
       "  width: 15px;\n",
       "  text-align: center;\n",
       "}\n",
       "\n",
       ".xr-section-summary-in:disabled + label:before {\n",
       "  color: var(--xr-disabled-color);\n",
       "}\n",
       "\n",
       ".xr-section-summary-in:checked + label:before {\n",
       "  content: '▼';\n",
       "}\n",
       "\n",
       ".xr-section-summary-in:checked + label > span {\n",
       "  display: none;\n",
       "}\n",
       "\n",
       ".xr-section-summary,\n",
       ".xr-section-inline-details {\n",
       "  padding-top: 4px;\n",
       "  padding-bottom: 4px;\n",
       "}\n",
       "\n",
       ".xr-section-inline-details {\n",
       "  grid-column: 2 / -1;\n",
       "}\n",
       "\n",
       ".xr-section-details {\n",
       "  display: none;\n",
       "  grid-column: 1 / -1;\n",
       "  margin-bottom: 5px;\n",
       "}\n",
       "\n",
       ".xr-section-summary-in:checked ~ .xr-section-details {\n",
       "  display: contents;\n",
       "}\n",
       "\n",
       ".xr-array-wrap {\n",
       "  grid-column: 1 / -1;\n",
       "  display: grid;\n",
       "  grid-template-columns: 20px auto;\n",
       "}\n",
       "\n",
       ".xr-array-wrap > label {\n",
       "  grid-column: 1;\n",
       "  vertical-align: top;\n",
       "}\n",
       "\n",
       ".xr-preview {\n",
       "  color: var(--xr-font-color3);\n",
       "}\n",
       "\n",
       ".xr-array-preview,\n",
       ".xr-array-data {\n",
       "  padding: 0 5px !important;\n",
       "  grid-column: 2;\n",
       "}\n",
       "\n",
       ".xr-array-data,\n",
       ".xr-array-in:checked ~ .xr-array-preview {\n",
       "  display: none;\n",
       "}\n",
       "\n",
       ".xr-array-in:checked ~ .xr-array-data,\n",
       ".xr-array-preview {\n",
       "  display: inline-block;\n",
       "}\n",
       "\n",
       ".xr-dim-list {\n",
       "  display: inline-block !important;\n",
       "  list-style: none;\n",
       "  padding: 0 !important;\n",
       "  margin: 0;\n",
       "}\n",
       "\n",
       ".xr-dim-list li {\n",
       "  display: inline-block;\n",
       "  padding: 0;\n",
       "  margin: 0;\n",
       "}\n",
       "\n",
       ".xr-dim-list:before {\n",
       "  content: '(';\n",
       "}\n",
       "\n",
       ".xr-dim-list:after {\n",
       "  content: ')';\n",
       "}\n",
       "\n",
       ".xr-dim-list li:not(:last-child):after {\n",
       "  content: ',';\n",
       "  padding-right: 5px;\n",
       "}\n",
       "\n",
       ".xr-has-index {\n",
       "  font-weight: bold;\n",
       "}\n",
       "\n",
       ".xr-var-list,\n",
       ".xr-var-item {\n",
       "  display: contents;\n",
       "}\n",
       "\n",
       ".xr-var-item > div,\n",
       ".xr-var-item label,\n",
       ".xr-var-item > .xr-var-name span {\n",
       "  background-color: var(--xr-background-color-row-even);\n",
       "  margin-bottom: 0;\n",
       "}\n",
       "\n",
       ".xr-var-item > .xr-var-name:hover span {\n",
       "  padding-right: 5px;\n",
       "}\n",
       "\n",
       ".xr-var-list > li:nth-child(odd) > div,\n",
       ".xr-var-list > li:nth-child(odd) > label,\n",
       ".xr-var-list > li:nth-child(odd) > .xr-var-name span {\n",
       "  background-color: var(--xr-background-color-row-odd);\n",
       "}\n",
       "\n",
       ".xr-var-name {\n",
       "  grid-column: 1;\n",
       "}\n",
       "\n",
       ".xr-var-dims {\n",
       "  grid-column: 2;\n",
       "}\n",
       "\n",
       ".xr-var-dtype {\n",
       "  grid-column: 3;\n",
       "  text-align: right;\n",
       "  color: var(--xr-font-color2);\n",
       "}\n",
       "\n",
       ".xr-var-preview {\n",
       "  grid-column: 4;\n",
       "}\n",
       "\n",
       ".xr-var-name,\n",
       ".xr-var-dims,\n",
       ".xr-var-dtype,\n",
       ".xr-preview,\n",
       ".xr-attrs dt {\n",
       "  white-space: nowrap;\n",
       "  overflow: hidden;\n",
       "  text-overflow: ellipsis;\n",
       "  padding-right: 10px;\n",
       "}\n",
       "\n",
       ".xr-var-name:hover,\n",
       ".xr-var-dims:hover,\n",
       ".xr-var-dtype:hover,\n",
       ".xr-attrs dt:hover {\n",
       "  overflow: visible;\n",
       "  width: auto;\n",
       "  z-index: 1;\n",
       "}\n",
       "\n",
       ".xr-var-attrs,\n",
       ".xr-var-data {\n",
       "  display: none;\n",
       "  background-color: var(--xr-background-color) !important;\n",
       "  padding-bottom: 5px !important;\n",
       "}\n",
       "\n",
       ".xr-var-attrs-in:checked ~ .xr-var-attrs,\n",
       ".xr-var-data-in:checked ~ .xr-var-data {\n",
       "  display: block;\n",
       "}\n",
       "\n",
       ".xr-var-data > table {\n",
       "  float: right;\n",
       "}\n",
       "\n",
       ".xr-var-name span,\n",
       ".xr-var-data,\n",
       ".xr-attrs {\n",
       "  padding-left: 25px !important;\n",
       "}\n",
       "\n",
       ".xr-attrs,\n",
       ".xr-var-attrs,\n",
       ".xr-var-data {\n",
       "  grid-column: 1 / -1;\n",
       "}\n",
       "\n",
       "dl.xr-attrs {\n",
       "  padding: 0;\n",
       "  margin: 0;\n",
       "  display: grid;\n",
       "  grid-template-columns: 125px auto;\n",
       "}\n",
       "\n",
       ".xr-attrs dt,\n",
       ".xr-attrs dd {\n",
       "  padding: 0;\n",
       "  margin: 0;\n",
       "  float: left;\n",
       "  padding-right: 10px;\n",
       "  width: auto;\n",
       "}\n",
       "\n",
       ".xr-attrs dt {\n",
       "  font-weight: normal;\n",
       "  grid-column: 1;\n",
       "}\n",
       "\n",
       ".xr-attrs dt:hover span {\n",
       "  display: inline-block;\n",
       "  background: var(--xr-background-color);\n",
       "  padding-right: 10px;\n",
       "}\n",
       "\n",
       ".xr-attrs dd {\n",
       "  grid-column: 2;\n",
       "  white-space: pre-wrap;\n",
       "  word-break: break-all;\n",
       "}\n",
       "\n",
       ".xr-icon-database,\n",
       ".xr-icon-file-text2 {\n",
       "  display: inline-block;\n",
       "  vertical-align: middle;\n",
       "  width: 1em;\n",
       "  height: 1.5em !important;\n",
       "  stroke-width: 0;\n",
       "  stroke: currentColor;\n",
       "  fill: currentColor;\n",
       "}\n",
       "</style><pre class='xr-text-repr-fallback'>&lt;xarray.Dataset&gt;\n",
       "Dimensions:  (time: 12, lat: 21, lon: 21)\n",
       "Coordinates:\n",
       "  * time     (time) int32 1 2 3 4 5 6 7 8 9 10 11 12\n",
       "  * lat      (lat) float64 0.0 1.05e+03 2.1e+03 ... 1.89e+04 1.995e+04 2.1e+04\n",
       "  * lon      (lon) float64 0.0 1.05e+03 2.1e+03 ... 1.89e+04 1.995e+04 2.1e+04\n",
       "Data variables:\n",
       "    kc       (time, lat, lon) float64 0.1 0.1 0.1 0.1 0.1 ... 0.1 0.1 0.1 0.1</pre><div class='xr-wrap' hidden><div class='xr-header'><div class='xr-obj-type'>xarray.Dataset</div></div><ul class='xr-sections'><li class='xr-section-item'><input id='section-86d60883-a96d-4c04-9850-ae7d3ca55437' class='xr-section-summary-in' type='checkbox' disabled ><label for='section-86d60883-a96d-4c04-9850-ae7d3ca55437' class='xr-section-summary'  title='Expand/collapse section'>Dimensions:</label><div class='xr-section-inline-details'><ul class='xr-dim-list'><li><span class='xr-has-index'>time</span>: 12</li><li><span class='xr-has-index'>lat</span>: 21</li><li><span class='xr-has-index'>lon</span>: 21</li></ul></div><div class='xr-section-details'></div></li><li class='xr-section-item'><input id='section-546f4e88-46d0-43a5-923b-631bc22008d9' class='xr-section-summary-in' type='checkbox'  checked><label for='section-546f4e88-46d0-43a5-923b-631bc22008d9' class='xr-section-summary' >Coordinates: <span>(3)</span></label><div class='xr-section-inline-details'></div><div class='xr-section-details'><ul class='xr-var-list'><li class='xr-var-item'><div class='xr-var-name'><span class='xr-has-index'>time</span></div><div class='xr-var-dims'>(time)</div><div class='xr-var-dtype'>int32</div><div class='xr-var-preview xr-preview'>1 2 3 4 5 6 7 8 9 10 11 12</div><input id='attrs-fa7a299e-fc83-4e54-a674-af9f73a1fab4' class='xr-var-attrs-in' type='checkbox' disabled><label for='attrs-fa7a299e-fc83-4e54-a674-af9f73a1fab4' title='Show/Hide attributes'><svg class='icon xr-icon-file-text2'><use xlink:href='#icon-file-text2'></use></svg></label><input id='data-84a08664-52b8-4a91-8516-aca65820f712' class='xr-var-data-in' type='checkbox'><label for='data-84a08664-52b8-4a91-8516-aca65820f712' title='Show/Hide data repr'><svg class='icon xr-icon-database'><use xlink:href='#icon-database'></use></svg></label><div class='xr-var-attrs'><dl class='xr-attrs'></dl></div><div class='xr-var-data'><pre>array([ 1,  2,  3,  4,  5,  6,  7,  8,  9, 10, 11, 12])</pre></div></li><li class='xr-var-item'><div class='xr-var-name'><span class='xr-has-index'>lat</span></div><div class='xr-var-dims'>(lat)</div><div class='xr-var-dtype'>float64</div><div class='xr-var-preview xr-preview'>0.0 1.05e+03 ... 1.995e+04 2.1e+04</div><input id='attrs-2d148f78-da69-4f86-b69b-811966578806' class='xr-var-attrs-in' type='checkbox' disabled><label for='attrs-2d148f78-da69-4f86-b69b-811966578806' title='Show/Hide attributes'><svg class='icon xr-icon-file-text2'><use xlink:href='#icon-file-text2'></use></svg></label><input id='data-8ea7b49f-375b-4b09-9e18-b45e54867c09' class='xr-var-data-in' type='checkbox'><label for='data-8ea7b49f-375b-4b09-9e18-b45e54867c09' title='Show/Hide data repr'><svg class='icon xr-icon-database'><use xlink:href='#icon-database'></use></svg></label><div class='xr-var-attrs'><dl class='xr-attrs'></dl></div><div class='xr-var-data'><pre>array([    0.,  1050.,  2100.,  3150.,  4200.,  5250.,  6300.,  7350.,  8400.,\n",
       "        9450., 10500., 11550., 12600., 13650., 14700., 15750., 16800., 17850.,\n",
       "       18900., 19950., 21000.])</pre></div></li><li class='xr-var-item'><div class='xr-var-name'><span class='xr-has-index'>lon</span></div><div class='xr-var-dims'>(lon)</div><div class='xr-var-dtype'>float64</div><div class='xr-var-preview xr-preview'>0.0 1.05e+03 ... 1.995e+04 2.1e+04</div><input id='attrs-81009ef5-ff8b-483e-b599-29562bd13f51' class='xr-var-attrs-in' type='checkbox' disabled><label for='attrs-81009ef5-ff8b-483e-b599-29562bd13f51' title='Show/Hide attributes'><svg class='icon xr-icon-file-text2'><use xlink:href='#icon-file-text2'></use></svg></label><input id='data-f6a1ea17-dc1e-4d6e-95b7-6b03ab830f53' class='xr-var-data-in' type='checkbox'><label for='data-f6a1ea17-dc1e-4d6e-95b7-6b03ab830f53' title='Show/Hide data repr'><svg class='icon xr-icon-database'><use xlink:href='#icon-database'></use></svg></label><div class='xr-var-attrs'><dl class='xr-attrs'></dl></div><div class='xr-var-data'><pre>array([    0.,  1050.,  2100.,  3150.,  4200.,  5250.,  6300.,  7350.,  8400.,\n",
       "        9450., 10500., 11550., 12600., 13650., 14700., 15750., 16800., 17850.,\n",
       "       18900., 19950., 21000.])</pre></div></li></ul></div></li><li class='xr-section-item'><input id='section-d8299fef-8145-4b7d-b4ed-d5fa96233da5' class='xr-section-summary-in' type='checkbox'  checked><label for='section-d8299fef-8145-4b7d-b4ed-d5fa96233da5' class='xr-section-summary' >Data variables: <span>(1)</span></label><div class='xr-section-inline-details'></div><div class='xr-section-details'><ul class='xr-var-list'><li class='xr-var-item'><div class='xr-var-name'><span>kc</span></div><div class='xr-var-dims'>(time, lat, lon)</div><div class='xr-var-dtype'>float64</div><div class='xr-var-preview xr-preview'>0.1 0.1 0.1 0.1 ... 0.1 0.1 0.1 0.1</div><input id='attrs-1e46168b-dbe6-49ae-b8c6-2b6faa0ca3c8' class='xr-var-attrs-in' type='checkbox' disabled><label for='attrs-1e46168b-dbe6-49ae-b8c6-2b6faa0ca3c8' title='Show/Hide attributes'><svg class='icon xr-icon-file-text2'><use xlink:href='#icon-file-text2'></use></svg></label><input id='data-471bfa30-bab6-4a2a-b7f4-66b0dad35106' class='xr-var-data-in' type='checkbox'><label for='data-471bfa30-bab6-4a2a-b7f4-66b0dad35106' title='Show/Hide data repr'><svg class='icon xr-icon-database'><use xlink:href='#icon-database'></use></svg></label><div class='xr-var-attrs'><dl class='xr-attrs'></dl></div><div class='xr-var-data'><pre>array([[[0.1 , 0.1 , 0.1 , ..., 0.1 , 0.1 , 0.1 ],\n",
       "        [0.1 , 0.1 , 0.1 , ..., 0.1 , 0.1 , 0.1 ],\n",
       "        [0.1 , 0.1 , 0.1 , ..., 0.1 , 0.1 , 0.1 ],\n",
       "        ...,\n",
       "        [0.1 , 0.1 , 0.1 , ..., 0.1 , 0.1 , 0.1 ],\n",
       "        [0.1 , 0.1 , 0.1 , ..., 0.1 , 0.1 , 0.1 ],\n",
       "        [0.1 , 0.1 , 0.1 , ..., 0.1 , 0.1 , 0.1 ]],\n",
       "\n",
       "       [[0.1 , 0.1 , 0.1 , ..., 0.1 , 0.1 , 0.1 ],\n",
       "        [0.1 , 0.1 , 0.1 , ..., 0.1 , 0.1 , 0.1 ],\n",
       "        [0.1 , 0.1 , 0.1 , ..., 0.1 , 0.1 , 0.1 ],\n",
       "        ...,\n",
       "        [0.1 , 0.1 , 0.1 , ..., 0.1 , 0.1 , 0.1 ],\n",
       "        [0.1 , 0.1 , 0.1 , ..., 0.1 , 0.1 , 0.1 ],\n",
       "        [0.1 , 0.1 , 0.1 , ..., 0.1 , 0.1 , 0.1 ]],\n",
       "\n",
       "       [[0.25, 0.25, 0.25, ..., 0.25, 0.25, 0.25],\n",
       "        [0.25, 0.25, 0.25, ..., 0.25, 0.25, 0.25],\n",
       "        [0.25, 0.25, 0.25, ..., 0.25, 0.25, 0.25],\n",
       "        ...,\n",
       "...\n",
       "        ...,\n",
       "        [0.5 , 0.5 , 0.5 , ..., 0.5 , 0.5 , 0.5 ],\n",
       "        [0.5 , 0.5 , 0.5 , ..., 0.5 , 0.5 , 0.5 ],\n",
       "        [0.5 , 0.5 , 0.5 , ..., 0.5 , 0.5 , 0.5 ]],\n",
       "\n",
       "       [[0.25, 0.25, 0.25, ..., 0.25, 0.25, 0.25],\n",
       "        [0.25, 0.25, 0.25, ..., 0.25, 0.25, 0.25],\n",
       "        [0.25, 0.25, 0.25, ..., 0.25, 0.25, 0.25],\n",
       "        ...,\n",
       "        [0.25, 0.25, 0.25, ..., 0.25, 0.25, 0.25],\n",
       "        [0.25, 0.25, 0.25, ..., 0.25, 0.25, 0.25],\n",
       "        [0.25, 0.25, 0.25, ..., 0.25, 0.25, 0.25]],\n",
       "\n",
       "       [[0.1 , 0.1 , 0.1 , ..., 0.1 , 0.1 , 0.1 ],\n",
       "        [0.1 , 0.1 , 0.1 , ..., 0.1 , 0.1 , 0.1 ],\n",
       "        [0.1 , 0.1 , 0.1 , ..., 0.1 , 0.1 , 0.1 ],\n",
       "        ...,\n",
       "        [0.1 , 0.1 , 0.1 , ..., 0.1 , 0.1 , 0.1 ],\n",
       "        [0.1 , 0.1 , 0.1 , ..., 0.1 , 0.1 , 0.1 ],\n",
       "        [0.1 , 0.1 , 0.1 , ..., 0.1 , 0.1 , 0.1 ]]])</pre></div></li></ul></div></li><li class='xr-section-item'><input id='section-40c08e39-993a-4ebe-a3ae-37c1703e8c50' class='xr-section-summary-in' type='checkbox' disabled ><label for='section-40c08e39-993a-4ebe-a3ae-37c1703e8c50' class='xr-section-summary'  title='Expand/collapse section'>Attributes: <span>(0)</span></label><div class='xr-section-inline-details'></div><div class='xr-section-details'><dl class='xr-attrs'></dl></div></li></ul></div></div>"
      ],
      "text/plain": [
       "<xarray.Dataset>\n",
       "Dimensions:  (time: 12, lat: 21, lon: 21)\n",
       "Coordinates:\n",
       "  * time     (time) int32 1 2 3 4 5 6 7 8 9 10 11 12\n",
       "  * lat      (lat) float64 0.0 1.05e+03 2.1e+03 ... 1.89e+04 1.995e+04 2.1e+04\n",
       "  * lon      (lon) float64 0.0 1.05e+03 2.1e+03 ... 1.89e+04 1.995e+04 2.1e+04\n",
       "Data variables:\n",
       "    kc       (time, lat, lon) float64 0.1 0.1 0.1 0.1 0.1 ... 0.1 0.1 0.1 0.1"
      ]
     },
     "execution_count": 259,
     "metadata": {},
     "output_type": "execute_result"
    }
   ],
   "source": [
    "# Save dataframe\n",
    "ds.to_netcdf(fname)\n",
    "#ds"
   ]
  },
  {
   "cell_type": "markdown",
   "id": "5c088646-7d47-402a-bfae-0f86ab5e82ae",
   "metadata": {},
   "source": [
    "Create LAI"
   ]
  },
  {
   "cell_type": "code",
   "execution_count": 13,
   "id": "ca712de5-d9ce-41c9-a853-0a423637eb0b",
   "metadata": {},
   "outputs": [],
   "source": [
    "LAI = np.array([0.1, 0.1, 0.25, 0.50, 0.75, 1.0, 1.0, 0.75, 0.50, 0.25, 0.10, 0.1])"
   ]
  },
  {
   "cell_type": "code",
   "execution_count": 14,
   "id": "e52d4c89-a4bf-49d2-9570-1e849daea3fa",
   "metadata": {},
   "outputs": [],
   "source": [
    "df = pd.DataFrame({\"Date\": time, \"LAI\": LAI})"
   ]
  },
  {
   "cell_type": "code",
   "execution_count": 15,
   "id": "24827d63-6a12-49c2-aba8-012561dba8fa",
   "metadata": {},
   "outputs": [],
   "source": [
    "ds = create_netcdf_from_dataframe(df, \"LAI\", lat, lon)"
   ]
  },
  {
   "cell_type": "code",
   "execution_count": 391,
   "id": "0b9456ac-9484-4881-b1ca-249c43a8b8d0",
   "metadata": {},
   "outputs": [],
   "source": [
    "fname = folder + \"/DynaVeg/input/DV_time_series_LAI.nc\""
   ]
  },
  {
   "cell_type": "code",
   "execution_count": 264,
   "id": "dc73e29a-a7bc-472b-8058-81cc05470ede",
   "metadata": {},
   "outputs": [],
   "source": [
    "# Save dataframe\n",
    "ds.to_netcdf(fname)"
   ]
  },
  {
   "cell_type": "markdown",
   "id": "8d6c3d92-3667-4315-8b29-abc32461ec84",
   "metadata": {},
   "source": [
    "Create vegetation fraction cover"
   ]
  },
  {
   "cell_type": "code",
   "execution_count": 334,
   "id": "be7ca3f8-225a-4960-b233-c4797037c410",
   "metadata": {},
   "outputs": [],
   "source": [
    "av = np.array([0.1, 0.1, 0.25, 0.50, 0.50, 0.5, 0.5, 0.5, 0.50, 0.25, 0.10, 0.10])"
   ]
  },
  {
   "cell_type": "code",
   "execution_count": 335,
   "id": "259c1014-360e-4108-8b3b-f1c13c1a4183",
   "metadata": {},
   "outputs": [],
   "source": [
    "df = pd.DataFrame({\"Date\": time, \"VegetationFraction\": av})"
   ]
  },
  {
   "cell_type": "code",
   "execution_count": 336,
   "id": "16904788-893e-471b-928f-d6574b1656ac",
   "metadata": {},
   "outputs": [],
   "source": [
    "ds = create_netcdf_from_dataframe(df, \"VegetationFraction\", lat, lon)"
   ]
  },
  {
   "cell_type": "code",
   "execution_count": 275,
   "id": "f9a29d1b-dc88-47a8-bb9b-3a47b06ed379",
   "metadata": {},
   "outputs": [],
   "source": [
    "fname = folder + \"/DynaVeg/input/DV_time_series_av.nc\""
   ]
  },
  {
   "cell_type": "code",
   "execution_count": 276,
   "id": "6f214e35-6d22-4063-9171-3c10745038e8",
   "metadata": {},
   "outputs": [],
   "source": [
    "# Save dataframe\n",
    "ds.to_netcdf(fname)"
   ]
  },
  {
   "cell_type": "code",
   "execution_count": 277,
   "id": "8058fc45-6e2b-4f0e-9c49-887fea06d17b",
   "metadata": {},
   "outputs": [
    {
     "data": {
      "text/plain": [
       "<xarray.plot.facetgrid.FacetGrid at 0x249bd516b48>"
      ]
     },
     "execution_count": 277,
     "metadata": {},
     "output_type": "execute_result"
    },
    {
     "data": {
      "image/png": "[encoded data removed]",
      "text/plain": [
       "<Figure size 2664x216 with 13 Axes>"
      ]
     },
     "metadata": {
      "needs_background": "light"
     },
     "output_type": "display_data"
    }
   ],
   "source": [
    "ds[\"VegetationFraction\"].plot(x='lon', y='lat', col='time')"
   ]
  },
  {
   "cell_type": "markdown",
   "id": "5f7629eb-9f55-4a28-8c0b-a3c6d52ef622",
   "metadata": {},
   "source": [
    "### Generate daily kc values in monthly files"
   ]
  },
  {
   "cell_type": "code",
   "execution_count": 11,
   "id": "f9928d64-8661-4d50-8b5c-3daa32002600",
   "metadata": {},
   "outputs": [],
   "source": [
    "def create_dailydataset_from_yearly(dataset, year=2020):\n",
    "\t\t\n",
    "\t# Assuming time is the coordinate for monthly data\n",
    "\ttime_monthly = dataset['time'].values\n",
    "\n",
    "\t# Generate a list of the number of days in each month for a non-leap year\n",
    "\tdays_per_month = [calendar.monthrange(year, month)[1] for month in time_monthly]\n",
    "\n",
    "\t# Generate a daily time coordinate\n",
    "\ttime_daily = np.arange(1, sum(days_per_month))\n",
    "\t\n",
    "\t# update time\n",
    "\tdataset[\"time\"] = np.cumsum(days_per_month)\n",
    "\t\t\n",
    "\t# Interpolate to daily values\n",
    "\tds_daily = dataset.reindex(time=time_daily, method='nearest').interpolate_na(dim='time')\n",
    "\t\n",
    "\t# Save the interpolated data to a new NetCDF file\n",
    "\t#ds_daily.to_netcdf(\"daily_data.nc\")\n",
    "\treturn ds_daily\n",
    "    \n",
    "def create_daily_monthly_dataset_yearlyfiles(dataset, year=2020, fname=None):\n",
    "\t\t\n",
    "\t# Assuming time is the coordinate for monthly data\n",
    "\ttime_monthly = dataset['time'].values\n",
    "\n",
    "\t# Generate a list of the number of days in each month for a non-leap year\n",
    "\tdays_per_month = [calendar.monthrange(year, month)[1] for month in time_monthly]\n",
    "\n",
    "\t# Generate a daily time coordinate\n",
    "\ttime_daily = np.arange(1, days_per_month[0]+1)\n",
    "\t\n",
    "\t# update time\n",
    "\tdataset[\"time\"] = [1, days_per_month[0]+1]\n",
    "\t\t\n",
    "\t# Interpolate to daily values\n",
    "\tds_month_daily = dataset.reindex(time=time_daily, method='nearest').interpolate_na(dim='time')\n",
    "\t\n",
    "\t# Save the interpolated data to a new NetCDF file\n",
    "\tif fname is not None:\n",
    "\t\tds_month_daily.to_netcdf(fname)\n",
    "\treturn ds_month_daily"
   ]
  },
  {
   "cell_type": "code",
   "execution_count": 393,
   "id": "364f2bf7-39d5-40d3-abd4-19dd1ec474a9",
   "metadata": {},
   "outputs": [],
   "source": [
    "#create_daily_monthly_dataset_yearlyfiles(ds)"
   ]
  },
  {
   "cell_type": "code",
   "execution_count": 339,
   "id": "ab79fd54-b768-4a0a-b26b-fba20f8267d5",
   "metadata": {},
   "outputs": [
    {
     "data": {
      "text/plain": [
       "array([ 1,  2,  3,  4,  5,  6,  7,  8,  9, 10, 11, 12])"
      ]
     },
     "execution_count": 339,
     "metadata": {},
     "output_type": "execute_result"
    }
   ],
   "source": [
    "ds['time'].values"
   ]
  },
  {
   "cell_type": "code",
   "execution_count": 341,
   "id": "9e5a57a4-2e54-4c3d-bd52-b8d579a9e325",
   "metadata": {},
   "outputs": [],
   "source": [
    "#create_daily_monthly_dataset_yearlyfiles(ds[\"VegetationFraction\"][0:2])\n",
    "#dfs = ds[\"VegetationFraction\"][1:3]"
   ]
  },
  {
   "cell_type": "code",
   "execution_count": 323,
   "id": "04c99fb5-63b0-47ab-b512-982379c4de30",
   "metadata": {},
   "outputs": [],
   "source": [
    "#dfs"
   ]
  },
  {
   "cell_type": "code",
   "execution_count": 16,
   "id": "9b512336-5c56-42d3-99cd-70d9e0361a07",
   "metadata": {},
   "outputs": [],
   "source": [
    "for i, imonth in enumerate(range(12)):\n",
    "    if i == 0:\n",
    "        imonth = 12\n",
    "    #fname = folder + \"/DynaVeg/input/DV_time_series_kc_\"+\"{:02}\".format(imonth)+\".nc\"\n",
    "    fname = folder + \"DynaVeg/input/DV_time_series_LAI_\"+\"{:02}\".format(imonth)+\".nc\"\n",
    "    #fname = folder + \"/DynaVeg/input/DV_time_series_av_\"+\"{:02}\".format(i+1)+\".nc\"\n",
    "    \n",
    "    #print(i-1,i, fname)\n",
    "    #create_daily_monthly_dataset_yearlyfiles(ds[\"kc\"][[i-1,i]], fname=fname)\n",
    "    create_daily_monthly_dataset_yearlyfiles(ds[\"LAI\"][[i-1,i]], fname=fname)\n",
    "    #create_daily_monthly_dataset_yearlyfiles(ds[\"VegetationFraction\"][[i-1,i]], fname=fname)"
   ]
  },
  {
   "cell_type": "code",
   "execution_count": 386,
   "id": "bf53728b-7779-4c72-8d3a-9c2a1dac7bf7",
   "metadata": {},
   "outputs": [],
   "source": [
    "fname = folder + \"/DynaVeg/input/DV_time_series_LAI_02.nc\""
   ]
  },
  {
   "cell_type": "code",
   "execution_count": 399,
   "id": "c712298f-67af-4e88-aae4-07706aad2946",
   "metadata": {},
   "outputs": [],
   "source": [
    "#xr.open_dataset(fname)"
   ]
  },
  {
   "cell_type": "code",
   "execution_count": null,
   "id": "7f702578-0c37-45ea-8b23-589f50f525c2",
   "metadata": {},
   "outputs": [],
   "source": []
  }
 ],
 "metadata": {
  "kernelspec": {
   "display_name": "Python 3 (ipykernel)",
   "language": "python",
   "name": "python3"
  },
  "language_info": {
   "codemirror_mode": {
    "name": "ipython",
    "version": 3
   },
   "file_extension": ".py",
   "mimetype": "text/x-python",
   "name": "python",
   "nbconvert_exporter": "python",
   "pygments_lexer": "ipython3",
   "version": "3.11.4"
  }
 },
 "nbformat": 4,
 "nbformat_minor": 5
}
