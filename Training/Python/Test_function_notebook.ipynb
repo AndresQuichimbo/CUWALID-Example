{
 "cells": [
  {
   "cell_type": "markdown",
   "id": "18287d9d-2a4e-4c6e-92c0-5abba79eb88f",
   "metadata": {},
   "source": [
    "# Test model functions"
   ]
  },
  {
   "cell_type": "code",
   "execution_count": 13,
   "id": "9d664292-660a-41f0-82d3-fcf166b4a134",
   "metadata": {},
   "outputs": [],
   "source": [
    "import numpy as np\n",
    "import matplotlib.pyplot as plt"
   ]
  },
  {
   "cell_type": "code",
   "execution_count": 6,
   "id": "6abd0c27-9649-4b28-b7ff-c4392214f5ea",
   "metadata": {},
   "outputs": [],
   "source": [
    "def remove_value(array, value=1, axis=0):\n",
    "\tarray = np.nancumsum(array, axis=axis)\n",
    "\tarray[array <= value] = 0\n",
    "\tarray[array > 0] = 1\n",
    "\treturn array\n",
    "\n",
    "def shrink_region(array):\n",
    "\tarray = np.array(array, dtype=int)\n",
    "\tarray[array < 0] = 0\n",
    "\tarray[array > 0] = 1\n",
    "\t\n",
    "\taux = array.copy()\n",
    "\tarray[np.diff(aux, prepend=0, axis=1) == 1] = 0\n",
    "\tarray[np.diff(aux, prepend=0, axis=0) == 1] = 0\n",
    "\tarray[np.diff(aux, append=0, axis=0) == -1] = 0\n",
    "\tarray[np.diff(aux, append=0, axis=1) == -1] = 0\n",
    "\t\n",
    "\t#forward = remove_value(array, value=1, axis=0)\n",
    "\t#forward = forward*remove_value(array, value=1, axis=1)\n",
    "\n",
    "\t#backward = np.flip(remove_value(np.flip(array, 0), value=1, axis=0),0)\n",
    "\t#backward = backward*np.flip(remove_value(np.flip(array, 1), value=1, axis=1), 1)\n",
    "\n",
    "\t#return forward*backward\n",
    "\treturn array\n",
    "\n",
    "def expand_region(array):\n",
    "\t\"\"\"\n",
    "    Shrinks a binary region in a 2D array by removing \n",
    "    pixels around the regions.\n",
    "\n",
    "    Parameters\n",
    "\t----------\n",
    "    array:numpy array\n",
    "\t\t2D NumPy array of integers. \n",
    "\n",
    "    Returns\n",
    "\t-------\n",
    "    \t2D NumPy array with the shrunk region.\n",
    "\n",
    "    This function first converts the input array to integers. \n",
    "    Then, it identifies and removes single-pixel protrusions \n",
    "    from the binary region represented by non-zero values \n",
    "    in the array. \n",
    "    \"\"\"\n",
    "\tarray = np.array(array, dtype=int)\n",
    "\tarray[array < 0] = 0\n",
    "\tarray[array > 0] = 1\n",
    "\t\n",
    "\taux = array.copy()\n",
    "\tarray[np.diff(aux, append=0, axis=1) == 1] = 1\n",
    "\tarray[np.diff(aux, append=0, axis=0) == 1] = 1\n",
    "\tarray[np.diff(aux, prepend=0, axis=0) == -1] = 1\n",
    "\tarray[np.diff(aux, prepend=0, axis=1) == -1] = 1\n",
    "\t\n",
    "\treturn array"
   ]
  },
  {
   "cell_type": "code",
   "execution_count": 7,
   "id": "b2bb8144-43b9-4904-9754-d24c0021cf2d",
   "metadata": {},
   "outputs": [],
   "source": [
    "def random_surface(n = 200):\n",
    "    # Make the X, Y meshgrid instead of np.tile\n",
    "    xs = np.linspace(-2*np.pi, 2*np.pi, n)\n",
    "    ys = np.linspace(-2*np.pi, 2*np.pi, n)\n",
    "    tau, phi = np.meshgrid(xs, ys) \n",
    "    # Z evaluation\n",
    "    amp = np.sin(tau)+np.cos(phi) \n",
    "    amp[amp > 0.5] = 1\n",
    "    amp[amp <= 0.5] = 0\n",
    "    return amp"
   ]
  },
  {
   "cell_type": "code",
   "execution_count": 22,
   "id": "9709cab7-b68d-4c50-b6c5-095358b59237",
   "metadata": {},
   "outputs": [],
   "source": [
    "def plot_array(a):\n",
    "    #fig, ax=plt.subplots(1,2)\n",
    "    plt.imshow(a)\n",
    "    plt.imshow(shrink_region(a), alpha=0.5)\n",
    "\n",
    "def plot_array_expand(a):\n",
    "    #fig, ax=plt.subplots(1,2)\n",
    "    plt.imshow(a)\n",
    "    plt.imshow(expand_region(a), alpha=0.5)"
   ]
  },
  {
   "cell_type": "code",
   "execution_count": 23,
   "id": "9e7c7591-e926-4b00-b2bc-b35503f6b24c",
   "metadata": {},
   "outputs": [],
   "source": [
    "a = [[0,0,0,0,0,0],[0,1,1,1,1,0],[0,0,1,1,1,0],[0,1,1,1,1,0],[0,1,1,1,1,0],[0,0,0,0,0,0]]"
   ]
  },
  {
   "cell_type": "code",
   "execution_count": 24,
   "id": "f6b30840-6855-4c67-8740-09931b2d9927",
   "metadata": {},
   "outputs": [],
   "source": [
    "a = [[0,0,0,0,0,0,0,0,0,0,0],[0,1,1,1,1,0,1,1,1,1,0],[0,1,1,1,1,0,1,1,1,1,0],[0,1,1,1,1,0,1,1,1,1,0],[0,1,1,1,1,0,1,1,1,1,0],[0,1,1,1,1,0,1,1,1,1,0]]"
   ]
  },
  {
   "cell_type": "code",
   "execution_count": 25,
   "id": "4f4041dc-ae54-4d64-8913-e0dbf2d6c528",
   "metadata": {},
   "outputs": [],
   "source": [
    "a_sink = shrink_region(a)"
   ]
  },
  {
   "cell_type": "code",
   "execution_count": 26,
   "id": "a0fb39c1-ea58-472a-bada-b9b8e8c0b8b6",
   "metadata": {},
   "outputs": [
    {
     "data": {
      "text/plain": [
       "<matplotlib.image.AxesImage at 0x1f6fe5c2d88>"
      ]
     },
     "execution_count": 26,
     "metadata": {},
     "output_type": "execute_result"
    },
    {
     "data": {
      "image/png": "[encoded data removed]",
      "text/plain": [
       "<Figure size 432x288 with 1 Axes>"
      ]
     },
     "metadata": {
      "needs_background": "light"
     },
     "output_type": "display_data"
    }
   ],
   "source": [
    "plt.imshow(a_sink)"
   ]
  },
  {
   "cell_type": "code",
   "execution_count": 27,
   "id": "9dbbecde-4ccc-4ccf-a523-943d6cb6a486",
   "metadata": {},
   "outputs": [],
   "source": [
    "b=np.array([0,1,1,1,1,0,1,1,1,1,0])"
   ]
  },
  {
   "cell_type": "code",
   "execution_count": 28,
   "id": "39a511d7-acf7-4943-b8e2-f54aa0e3c973",
   "metadata": {},
   "outputs": [
    {
     "data": {
      "text/plain": [
       "array([ 1,  0,  0,  0, -1,  1,  0,  0,  0, -1,  0])"
      ]
     },
     "execution_count": 28,
     "metadata": {},
     "output_type": "execute_result"
    }
   ],
   "source": [
    "np.diff(b, append=0, axis=0)"
   ]
  },
  {
   "cell_type": "code",
   "execution_count": null,
   "id": "d3bac07c-5ee7-4776-a81d-943b2cb4a81d",
   "metadata": {},
   "outputs": [],
   "source": []
  },
  {
   "cell_type": "code",
   "execution_count": 29,
   "id": "e40451f6-44b3-4616-a7f2-0e2f2373c4b1",
   "metadata": {},
   "outputs": [],
   "source": [
    "b = random_surface(n=25)"
   ]
  },
  {
   "cell_type": "code",
   "execution_count": 30,
   "id": "bb659377-120a-4144-86da-f30cdbfadd1e",
   "metadata": {},
   "outputs": [
    {
     "data": {
      "image/png": "[encoded data removed]",
      "text/plain": [
       "<Figure size 432x288 with 1 Axes>"
      ]
     },
     "metadata": {
      "needs_background": "light"
     },
     "output_type": "display_data"
    }
   ],
   "source": [
    "plot_array(b)"
   ]
  },
  {
   "cell_type": "code",
   "execution_count": 31,
   "id": "3ef31044-b640-45bd-bbb9-7ece1471c5a9",
   "metadata": {},
   "outputs": [
    {
     "data": {
      "image/png": "[encoded data removed]",
      "text/plain": [
       "<Figure size 432x288 with 1 Axes>"
      ]
     },
     "metadata": {
      "needs_background": "light"
     },
     "output_type": "display_data"
    }
   ],
   "source": [
    "plot_array_expand(b)"
   ]
  },
  {
   "cell_type": "code",
   "execution_count": null,
   "id": "cfa85594-68db-4c87-af30-09e55b5b506a",
   "metadata": {},
   "outputs": [],
   "source": [
    "b = np.random.rand(100, 100)\n",
    "b[b < 0.4] = 0\n",
    "b[b >= 0.4] = 1"
   ]
  }
 ],
 "metadata": {
  "kernelspec": {
   "display_name": "Python [conda env:Anaconda3]",
   "language": "python",
   "name": "conda-env-Anaconda3-py"
  },
  "language_info": {
   "codemirror_mode": {
    "name": "ipython",
    "version": 3
   },
   "file_extension": ".py",
   "mimetype": "text/x-python",
   "name": "python",
   "nbconvert_exporter": "python",
   "pygments_lexer": "ipython3",
   "version": "3.7.6"
  }
 },
 "nbformat": 4,
 "nbformat_minor": 5
}
